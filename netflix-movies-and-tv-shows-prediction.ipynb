{
 "cells": [
  {
   "cell_type": "markdown",
   "id": "established-custom",
   "metadata": {
    "id": "IkjJzYUdom7M",
    "papermill": {
     "duration": 0.089481,
     "end_time": "2021-06-30T02:51:19.040239",
     "exception": false,
     "start_time": "2021-06-30T02:51:18.950758",
     "status": "completed"
    },
    "tags": []
   },
   "source": [
    "# *Build a model to predict movies on NETFLIX*"
   ]
  },
  {
   "cell_type": "markdown",
   "id": "raised-island",
   "metadata": {
    "id": "pNuoF-TgqF9s",
    "papermill": {
     "duration": 0.103566,
     "end_time": "2021-06-30T02:51:19.614763",
     "exception": false,
     "start_time": "2021-06-30T02:51:19.511197",
     "status": "completed"
    },
    "tags": []
   },
   "source": [
    "**Problem Statement** : More than 80 per cent of the TV shows people watch on Netflix are discovered through the platform’s recommendation system. Netflix uses machine learning and algorithms to help break viewers’ preconceived notions and find shows that they might not have initially chosen. \n",
    "\n",
    "The goal of this project is to analyse the data and various factors affecting the trend of Movies and Shows available on Netflix.  \n",
    "\n",
    "Build a model to predict movies and TV-Shows on Netflix.."
   ]
  },
  {
   "cell_type": "markdown",
   "id": "b9fae2dc",
   "metadata": {
    "id": "C_0lsAV5qWCo",
    "papermill": {
     "duration": 0.09224,
     "end_time": "2021-06-30T02:51:19.423963",
     "exception": false,
     "start_time": "2021-06-30T02:51:19.331723",
     "status": "completed"
    },
    "tags": []
   },
   "source": [
    "**About the Dataset**- \n",
    "\n",
    "*   This dataset consists of tv shows and movies available on Netflix.\n",
    "*    The dataset is collected from Flixable which is a third-party Netflix search engine.\n",
    "\n",
    "\n",
    "\n"
   ]
  },
  {
   "cell_type": "markdown",
   "id": "perceived-allergy",
   "metadata": {
    "id": "rlKFL_DFsF1E",
    "papermill": {
     "duration": 0.088189,
     "end_time": "2021-06-30T02:51:20.139267",
     "exception": false,
     "start_time": "2021-06-30T02:51:20.051078",
     "status": "completed"
    },
    "tags": []
   },
   "source": [
    "## Step 1: Import all the required libraries"
   ]
  },
  {
   "cell_type": "markdown",
   "id": "da7c5cc2",
   "metadata": {},
   "source": [
    "*Pandas* : In computer programming, pandas is a software library written for the Python programming language for data manipulation and analysis and storing in a proper way. In particular, it offers data structures and operations for manipulating numerical tables and time series.\n",
    "\n",
    "*Sklearn* : Scikit-learn (formerly scikits.learn) is a free software machine learning library for the Python programming language. It features various classification, regression and clustering algorithms including support vector machines, random forests, gradient boosting, k-means and DBSCAN, and is designed to interoperate with the Python numerical and scientific libraries NumPy and SciPy. The library is built upon the SciPy (Scientific Python) that must be installed before you can use scikit-learn.\n",
    "\n",
    "*Pickle* : Python pickle module is used for serializing and de-serializing a Python object structure. Pickling is a way to convert a python object (list, dict, etc.) into a character stream. The idea is that this character stream contains all the information necessary to reconstruct the object in another python script.\n",
    "\n",
    "*Seaborn* : Seaborn is a Python data visualization library based on matplotlib. It provides a high-level interface for drawing attractive and informative statistical graphics.\n",
    "\n",
    "*Numpy* : NumPy is a Python library used for working with arrays. It also has functions for working in domain of linear algebra, fourier transform, and matrices.\n",
    "\n",
    "*Matplotlib* : Matplotlib is a low level graph plotting library in python that serves as a visualization utility.    "
   ]
  },
  {
   "cell_type": "code",
   "execution_count": 92,
   "id": "piano-bikini",
   "metadata": {
    "execution": {
     "iopub.execute_input": "2021-06-30T02:51:20.317167Z",
     "iopub.status.busy": "2021-06-30T02:51:20.315924Z",
     "iopub.status.idle": "2021-06-30T02:51:21.376021Z",
     "shell.execute_reply": "2021-06-30T02:51:21.375188Z",
     "shell.execute_reply.started": "2021-06-30T02:48:09.742470Z"
    },
    "id": "77CR6tZDnxq0",
    "papermill": {
     "duration": 1.150713,
     "end_time": "2021-06-30T02:51:21.376204",
     "exception": false,
     "start_time": "2021-06-30T02:51:20.225491",
     "status": "completed"
    },
    "tags": []
   },
   "outputs": [],
   "source": [
    "import pandas as pd\n",
    "import numpy as np\n",
    "from sklearn.model_selection import train_test_split\n",
    "from sklearn import preprocessing\n",
    "import sklearn.linear_model \n",
    "import sklearn\n",
    "import pickle\n",
    "import matplotlib.pyplot as plt  \n",
    "import seaborn as sns \n",
    "import warnings\n",
    "warnings.filterwarnings(\"ignore\")"
   ]
  },
  {
   "cell_type": "markdown",
   "id": "radio-turning",
   "metadata": {
    "id": "ywvyy2aDsdwp",
    "papermill": {
     "duration": 0.08884,
     "end_time": "2021-06-30T02:51:21.558131",
     "exception": false,
     "start_time": "2021-06-30T02:51:21.469291",
     "status": "completed"
    },
    "tags": []
   },
   "source": [
    "## Step 2: Read dataset and basic details of dataset"
   ]
  },
  {
   "cell_type": "markdown",
   "id": "ad9b3c32",
   "metadata": {},
   "source": [
    "*Goal:- In this step we are going to read the dataset, view the dataset and analysis the basic details like total number of rows and columns, what are the column data types and see to need to create new column or not.*\n",
    "\n",
    "    \n",
    "In this stage we are going to read our problem dataset and have a look on it."
   ]
  },
  {
   "cell_type": "code",
   "execution_count": 93,
   "id": "opponent-audience",
   "metadata": {
    "execution": {
     "iopub.execute_input": "2021-06-30T02:51:21.924150Z",
     "iopub.status.busy": "2021-06-30T02:51:21.923135Z",
     "iopub.status.idle": "2021-06-30T02:51:22.446751Z",
     "shell.execute_reply": "2021-06-30T02:51:22.446219Z",
     "shell.execute_reply.started": "2021-06-30T02:48:09.872806Z"
    },
    "id": "VfUqBzFutheP",
    "papermill": {
     "duration": 0.613665,
     "end_time": "2021-06-30T02:51:22.446898",
     "exception": false,
     "start_time": "2021-06-30T02:51:21.833233",
     "status": "completed"
    },
    "tags": []
   },
   "outputs": [],
   "source": [
    "#we can upload the dataset from system :\n",
    "df = pd.read_csv('C:/Users/Shubham/Desktop/NETFLIX MOVIE PREDICTION SYSTEM/DATA - netflix_titles.csv/netflix_titles.csv')\n"
   ]
  },
  {
   "cell_type": "markdown",
   "id": "important-yemen",
   "metadata": {
    "id": "p5zcxmYItbGt",
    "papermill": {
     "duration": 0.088173,
     "end_time": "2021-06-30T02:51:22.621812",
     "exception": false,
     "start_time": "2021-06-30T02:51:22.533639",
     "status": "completed"
    },
    "tags": []
   },
   "source": [
    "Display the Dataset"
   ]
  },
  {
   "cell_type": "code",
   "execution_count": 94,
   "id": "controlled-presentation",
   "metadata": {
    "execution": {
     "iopub.execute_input": "2021-06-30T02:51:22.808167Z",
     "iopub.status.busy": "2021-06-30T02:51:22.807474Z",
     "iopub.status.idle": "2021-06-30T02:51:22.838296Z",
     "shell.execute_reply": "2021-06-30T02:51:22.838888Z",
     "shell.execute_reply.started": "2021-06-30T02:48:10.109252Z"
    },
    "id": "kZAo48wIs01Y",
    "outputId": "8b6b2fc4-71ab-4943-d2f9-fa9420326fef",
    "papermill": {
     "duration": 0.130228,
     "end_time": "2021-06-30T02:51:22.839079",
     "exception": false,
     "start_time": "2021-06-30T02:51:22.708851",
     "status": "completed"
    },
    "tags": []
   },
   "outputs": [
    {
     "data": {
      "text/html": [
       "<div>\n",
       "<style scoped>\n",
       "    .dataframe tbody tr th:only-of-type {\n",
       "        vertical-align: middle;\n",
       "    }\n",
       "\n",
       "    .dataframe tbody tr th {\n",
       "        vertical-align: top;\n",
       "    }\n",
       "\n",
       "    .dataframe thead th {\n",
       "        text-align: right;\n",
       "    }\n",
       "</style>\n",
       "<table border=\"1\" class=\"dataframe\">\n",
       "  <thead>\n",
       "    <tr style=\"text-align: right;\">\n",
       "      <th></th>\n",
       "      <th>show_id</th>\n",
       "      <th>type</th>\n",
       "      <th>title</th>\n",
       "      <th>director</th>\n",
       "      <th>cast</th>\n",
       "      <th>country</th>\n",
       "      <th>date_added</th>\n",
       "      <th>release_year</th>\n",
       "      <th>rating</th>\n",
       "      <th>duration</th>\n",
       "      <th>listed_in</th>\n",
       "      <th>description</th>\n",
       "    </tr>\n",
       "  </thead>\n",
       "  <tbody>\n",
       "    <tr>\n",
       "      <th>0</th>\n",
       "      <td>s1</td>\n",
       "      <td>TV Show</td>\n",
       "      <td>3%</td>\n",
       "      <td>NaN</td>\n",
       "      <td>João Miguel, Bianca Comparato, Michel Gomes, R...</td>\n",
       "      <td>Brazil</td>\n",
       "      <td>August 14, 2020</td>\n",
       "      <td>2020</td>\n",
       "      <td>TV-MA</td>\n",
       "      <td>4 Seasons</td>\n",
       "      <td>International TV Shows, TV Dramas, TV Sci-Fi &amp;...</td>\n",
       "      <td>In a future where the elite inhabit an island ...</td>\n",
       "    </tr>\n",
       "    <tr>\n",
       "      <th>1</th>\n",
       "      <td>s2</td>\n",
       "      <td>Movie</td>\n",
       "      <td>7:19</td>\n",
       "      <td>Jorge Michel Grau</td>\n",
       "      <td>Demián Bichir, Héctor Bonilla, Oscar Serrano, ...</td>\n",
       "      <td>Mexico</td>\n",
       "      <td>December 23, 2016</td>\n",
       "      <td>2016</td>\n",
       "      <td>TV-MA</td>\n",
       "      <td>93 min</td>\n",
       "      <td>Dramas, International Movies</td>\n",
       "      <td>After a devastating earthquake hits Mexico Cit...</td>\n",
       "    </tr>\n",
       "    <tr>\n",
       "      <th>2</th>\n",
       "      <td>s3</td>\n",
       "      <td>Movie</td>\n",
       "      <td>23:59</td>\n",
       "      <td>Gilbert Chan</td>\n",
       "      <td>Tedd Chan, Stella Chung, Henley Hii, Lawrence ...</td>\n",
       "      <td>Singapore</td>\n",
       "      <td>December 20, 2018</td>\n",
       "      <td>2011</td>\n",
       "      <td>R</td>\n",
       "      <td>78 min</td>\n",
       "      <td>Horror Movies, International Movies</td>\n",
       "      <td>When an army recruit is found dead, his fellow...</td>\n",
       "    </tr>\n",
       "    <tr>\n",
       "      <th>3</th>\n",
       "      <td>s4</td>\n",
       "      <td>Movie</td>\n",
       "      <td>9</td>\n",
       "      <td>Shane Acker</td>\n",
       "      <td>Elijah Wood, John C. Reilly, Jennifer Connelly...</td>\n",
       "      <td>United States</td>\n",
       "      <td>November 16, 2017</td>\n",
       "      <td>2009</td>\n",
       "      <td>PG-13</td>\n",
       "      <td>80 min</td>\n",
       "      <td>Action &amp; Adventure, Independent Movies, Sci-Fi...</td>\n",
       "      <td>In a postapocalyptic world, rag-doll robots hi...</td>\n",
       "    </tr>\n",
       "    <tr>\n",
       "      <th>4</th>\n",
       "      <td>s5</td>\n",
       "      <td>Movie</td>\n",
       "      <td>21</td>\n",
       "      <td>Robert Luketic</td>\n",
       "      <td>Jim Sturgess, Kevin Spacey, Kate Bosworth, Aar...</td>\n",
       "      <td>United States</td>\n",
       "      <td>January 1, 2020</td>\n",
       "      <td>2008</td>\n",
       "      <td>PG-13</td>\n",
       "      <td>123 min</td>\n",
       "      <td>Dramas</td>\n",
       "      <td>A brilliant group of students become card-coun...</td>\n",
       "    </tr>\n",
       "    <tr>\n",
       "      <th>...</th>\n",
       "      <td>...</td>\n",
       "      <td>...</td>\n",
       "      <td>...</td>\n",
       "      <td>...</td>\n",
       "      <td>...</td>\n",
       "      <td>...</td>\n",
       "      <td>...</td>\n",
       "      <td>...</td>\n",
       "      <td>...</td>\n",
       "      <td>...</td>\n",
       "      <td>...</td>\n",
       "      <td>...</td>\n",
       "    </tr>\n",
       "    <tr>\n",
       "      <th>7782</th>\n",
       "      <td>s7783</td>\n",
       "      <td>Movie</td>\n",
       "      <td>Zozo</td>\n",
       "      <td>Josef Fares</td>\n",
       "      <td>Imad Creidi, Antoinette Turk, Elias Gergi, Car...</td>\n",
       "      <td>Sweden, Czech Republic, United Kingdom, Denmar...</td>\n",
       "      <td>October 19, 2020</td>\n",
       "      <td>2005</td>\n",
       "      <td>TV-MA</td>\n",
       "      <td>99 min</td>\n",
       "      <td>Dramas, International Movies</td>\n",
       "      <td>When Lebanon's Civil War deprives Zozo of his ...</td>\n",
       "    </tr>\n",
       "    <tr>\n",
       "      <th>7783</th>\n",
       "      <td>s7784</td>\n",
       "      <td>Movie</td>\n",
       "      <td>Zubaan</td>\n",
       "      <td>Mozez Singh</td>\n",
       "      <td>Vicky Kaushal, Sarah-Jane Dias, Raaghav Chanan...</td>\n",
       "      <td>India</td>\n",
       "      <td>March 2, 2019</td>\n",
       "      <td>2015</td>\n",
       "      <td>TV-14</td>\n",
       "      <td>111 min</td>\n",
       "      <td>Dramas, International Movies, Music &amp; Musicals</td>\n",
       "      <td>A scrappy but poor boy worms his way into a ty...</td>\n",
       "    </tr>\n",
       "    <tr>\n",
       "      <th>7784</th>\n",
       "      <td>s7785</td>\n",
       "      <td>Movie</td>\n",
       "      <td>Zulu Man in Japan</td>\n",
       "      <td>NaN</td>\n",
       "      <td>Nasty C</td>\n",
       "      <td>NaN</td>\n",
       "      <td>September 25, 2020</td>\n",
       "      <td>2019</td>\n",
       "      <td>TV-MA</td>\n",
       "      <td>44 min</td>\n",
       "      <td>Documentaries, International Movies, Music &amp; M...</td>\n",
       "      <td>In this documentary, South African rapper Nast...</td>\n",
       "    </tr>\n",
       "    <tr>\n",
       "      <th>7785</th>\n",
       "      <td>s7786</td>\n",
       "      <td>TV Show</td>\n",
       "      <td>Zumbo's Just Desserts</td>\n",
       "      <td>NaN</td>\n",
       "      <td>Adriano Zumbo, Rachel Khoo</td>\n",
       "      <td>Australia</td>\n",
       "      <td>October 31, 2020</td>\n",
       "      <td>2019</td>\n",
       "      <td>TV-PG</td>\n",
       "      <td>1 Season</td>\n",
       "      <td>International TV Shows, Reality TV</td>\n",
       "      <td>Dessert wizard Adriano Zumbo looks for the nex...</td>\n",
       "    </tr>\n",
       "    <tr>\n",
       "      <th>7786</th>\n",
       "      <td>s7787</td>\n",
       "      <td>Movie</td>\n",
       "      <td>ZZ TOP: THAT LITTLE OL' BAND FROM TEXAS</td>\n",
       "      <td>Sam Dunn</td>\n",
       "      <td>NaN</td>\n",
       "      <td>United Kingdom, Canada, United States</td>\n",
       "      <td>March 1, 2020</td>\n",
       "      <td>2019</td>\n",
       "      <td>TV-MA</td>\n",
       "      <td>90 min</td>\n",
       "      <td>Documentaries, Music &amp; Musicals</td>\n",
       "      <td>This documentary delves into the mystique behi...</td>\n",
       "    </tr>\n",
       "  </tbody>\n",
       "</table>\n",
       "<p>7787 rows × 12 columns</p>\n",
       "</div>"
      ],
      "text/plain": [
       "     show_id     type                                    title  \\\n",
       "0         s1  TV Show                                       3%   \n",
       "1         s2    Movie                                     7:19   \n",
       "2         s3    Movie                                    23:59   \n",
       "3         s4    Movie                                        9   \n",
       "4         s5    Movie                                       21   \n",
       "...      ...      ...                                      ...   \n",
       "7782   s7783    Movie                                     Zozo   \n",
       "7783   s7784    Movie                                   Zubaan   \n",
       "7784   s7785    Movie                        Zulu Man in Japan   \n",
       "7785   s7786  TV Show                    Zumbo's Just Desserts   \n",
       "7786   s7787    Movie  ZZ TOP: THAT LITTLE OL' BAND FROM TEXAS   \n",
       "\n",
       "               director                                               cast  \\\n",
       "0                   NaN  João Miguel, Bianca Comparato, Michel Gomes, R...   \n",
       "1     Jorge Michel Grau  Demián Bichir, Héctor Bonilla, Oscar Serrano, ...   \n",
       "2          Gilbert Chan  Tedd Chan, Stella Chung, Henley Hii, Lawrence ...   \n",
       "3           Shane Acker  Elijah Wood, John C. Reilly, Jennifer Connelly...   \n",
       "4        Robert Luketic  Jim Sturgess, Kevin Spacey, Kate Bosworth, Aar...   \n",
       "...                 ...                                                ...   \n",
       "7782        Josef Fares  Imad Creidi, Antoinette Turk, Elias Gergi, Car...   \n",
       "7783        Mozez Singh  Vicky Kaushal, Sarah-Jane Dias, Raaghav Chanan...   \n",
       "7784                NaN                                            Nasty C   \n",
       "7785                NaN                         Adriano Zumbo, Rachel Khoo   \n",
       "7786           Sam Dunn                                                NaN   \n",
       "\n",
       "                                                country          date_added  \\\n",
       "0                                                Brazil     August 14, 2020   \n",
       "1                                                Mexico   December 23, 2016   \n",
       "2                                             Singapore   December 20, 2018   \n",
       "3                                         United States   November 16, 2017   \n",
       "4                                         United States     January 1, 2020   \n",
       "...                                                 ...                 ...   \n",
       "7782  Sweden, Czech Republic, United Kingdom, Denmar...    October 19, 2020   \n",
       "7783                                              India       March 2, 2019   \n",
       "7784                                                NaN  September 25, 2020   \n",
       "7785                                          Australia    October 31, 2020   \n",
       "7786              United Kingdom, Canada, United States       March 1, 2020   \n",
       "\n",
       "      release_year rating   duration  \\\n",
       "0             2020  TV-MA  4 Seasons   \n",
       "1             2016  TV-MA     93 min   \n",
       "2             2011      R     78 min   \n",
       "3             2009  PG-13     80 min   \n",
       "4             2008  PG-13    123 min   \n",
       "...            ...    ...        ...   \n",
       "7782          2005  TV-MA     99 min   \n",
       "7783          2015  TV-14    111 min   \n",
       "7784          2019  TV-MA     44 min   \n",
       "7785          2019  TV-PG   1 Season   \n",
       "7786          2019  TV-MA     90 min   \n",
       "\n",
       "                                              listed_in  \\\n",
       "0     International TV Shows, TV Dramas, TV Sci-Fi &...   \n",
       "1                          Dramas, International Movies   \n",
       "2                   Horror Movies, International Movies   \n",
       "3     Action & Adventure, Independent Movies, Sci-Fi...   \n",
       "4                                                Dramas   \n",
       "...                                                 ...   \n",
       "7782                       Dramas, International Movies   \n",
       "7783     Dramas, International Movies, Music & Musicals   \n",
       "7784  Documentaries, International Movies, Music & M...   \n",
       "7785                 International TV Shows, Reality TV   \n",
       "7786                    Documentaries, Music & Musicals   \n",
       "\n",
       "                                            description  \n",
       "0     In a future where the elite inhabit an island ...  \n",
       "1     After a devastating earthquake hits Mexico Cit...  \n",
       "2     When an army recruit is found dead, his fellow...  \n",
       "3     In a postapocalyptic world, rag-doll robots hi...  \n",
       "4     A brilliant group of students become card-coun...  \n",
       "...                                                 ...  \n",
       "7782  When Lebanon's Civil War deprives Zozo of his ...  \n",
       "7783  A scrappy but poor boy worms his way into a ty...  \n",
       "7784  In this documentary, South African rapper Nast...  \n",
       "7785  Dessert wizard Adriano Zumbo looks for the nex...  \n",
       "7786  This documentary delves into the mystique behi...  \n",
       "\n",
       "[7787 rows x 12 columns]"
      ]
     },
     "execution_count": 94,
     "metadata": {},
     "output_type": "execute_result"
    }
   ],
   "source": [
    "df"
   ]
  },
  {
   "cell_type": "code",
   "execution_count": 95,
   "id": "understanding-shopping",
   "metadata": {
    "execution": {
     "iopub.execute_input": "2021-06-30T02:51:23.195745Z",
     "iopub.status.busy": "2021-06-30T02:51:23.195063Z",
     "iopub.status.idle": "2021-06-30T02:51:23.200227Z",
     "shell.execute_reply": "2021-06-30T02:51:23.200776Z",
     "shell.execute_reply.started": "2021-06-30T02:48:10.135570Z"
    },
    "id": "Z2v-jEWstWx9",
    "outputId": "d23cb3c2-f0d2-4835-f113-74f6008ed066",
    "papermill": {
     "duration": 0.097733,
     "end_time": "2021-06-30T02:51:23.200972",
     "exception": false,
     "start_time": "2021-06-30T02:51:23.103239",
     "status": "completed"
    },
    "tags": []
   },
   "outputs": [
    {
     "data": {
      "text/plain": [
       "(7787, 12)"
      ]
     },
     "execution_count": 95,
     "metadata": {},
     "output_type": "execute_result"
    }
   ],
   "source": [
    "df.shape"
   ]
  },
  {
   "cell_type": "markdown",
   "id": "decreased-ethernet",
   "metadata": {
    "id": "r3XQwUvduX6f",
    "papermill": {
     "duration": 0.087781,
     "end_time": "2021-06-30T02:51:23.377535",
     "exception": false,
     "start_time": "2021-06-30T02:51:23.289754",
     "status": "completed"
    },
    "tags": []
   },
   "source": [
    "    So, the dataset have 7787 rows and 12 columns"
   ]
  },
  {
   "cell_type": "code",
   "execution_count": 96,
   "id": "optimum-puzzle",
   "metadata": {
    "execution": {
     "iopub.execute_input": "2021-06-30T02:51:23.557634Z",
     "iopub.status.busy": "2021-06-30T02:51:23.556992Z",
     "iopub.status.idle": "2021-06-30T02:51:23.573357Z",
     "shell.execute_reply": "2021-06-30T02:51:23.573862Z",
     "shell.execute_reply.started": "2021-06-30T02:48:10.148529Z"
    },
    "id": "qeyqwr6yu45g",
    "outputId": "2c7e36ef-91f8-400e-bd52-fd1b7bf66796",
    "papermill": {
     "duration": 0.107512,
     "end_time": "2021-06-30T02:51:23.574059",
     "exception": false,
     "start_time": "2021-06-30T02:51:23.466547",
     "status": "completed"
    },
    "tags": []
   },
   "outputs": [
    {
     "data": {
      "text/html": [
       "<div>\n",
       "<style scoped>\n",
       "    .dataframe tbody tr th:only-of-type {\n",
       "        vertical-align: middle;\n",
       "    }\n",
       "\n",
       "    .dataframe tbody tr th {\n",
       "        vertical-align: top;\n",
       "    }\n",
       "\n",
       "    .dataframe thead th {\n",
       "        text-align: right;\n",
       "    }\n",
       "</style>\n",
       "<table border=\"1\" class=\"dataframe\">\n",
       "  <thead>\n",
       "    <tr style=\"text-align: right;\">\n",
       "      <th></th>\n",
       "      <th>show_id</th>\n",
       "      <th>type</th>\n",
       "      <th>title</th>\n",
       "      <th>director</th>\n",
       "      <th>cast</th>\n",
       "      <th>country</th>\n",
       "      <th>date_added</th>\n",
       "      <th>release_year</th>\n",
       "      <th>rating</th>\n",
       "      <th>duration</th>\n",
       "      <th>listed_in</th>\n",
       "      <th>description</th>\n",
       "    </tr>\n",
       "  </thead>\n",
       "  <tbody>\n",
       "    <tr>\n",
       "      <th>0</th>\n",
       "      <td>s1</td>\n",
       "      <td>TV Show</td>\n",
       "      <td>3%</td>\n",
       "      <td>NaN</td>\n",
       "      <td>João Miguel, Bianca Comparato, Michel Gomes, R...</td>\n",
       "      <td>Brazil</td>\n",
       "      <td>August 14, 2020</td>\n",
       "      <td>2020</td>\n",
       "      <td>TV-MA</td>\n",
       "      <td>4 Seasons</td>\n",
       "      <td>International TV Shows, TV Dramas, TV Sci-Fi &amp;...</td>\n",
       "      <td>In a future where the elite inhabit an island ...</td>\n",
       "    </tr>\n",
       "    <tr>\n",
       "      <th>1</th>\n",
       "      <td>s2</td>\n",
       "      <td>Movie</td>\n",
       "      <td>7:19</td>\n",
       "      <td>Jorge Michel Grau</td>\n",
       "      <td>Demián Bichir, Héctor Bonilla, Oscar Serrano, ...</td>\n",
       "      <td>Mexico</td>\n",
       "      <td>December 23, 2016</td>\n",
       "      <td>2016</td>\n",
       "      <td>TV-MA</td>\n",
       "      <td>93 min</td>\n",
       "      <td>Dramas, International Movies</td>\n",
       "      <td>After a devastating earthquake hits Mexico Cit...</td>\n",
       "    </tr>\n",
       "    <tr>\n",
       "      <th>2</th>\n",
       "      <td>s3</td>\n",
       "      <td>Movie</td>\n",
       "      <td>23:59</td>\n",
       "      <td>Gilbert Chan</td>\n",
       "      <td>Tedd Chan, Stella Chung, Henley Hii, Lawrence ...</td>\n",
       "      <td>Singapore</td>\n",
       "      <td>December 20, 2018</td>\n",
       "      <td>2011</td>\n",
       "      <td>R</td>\n",
       "      <td>78 min</td>\n",
       "      <td>Horror Movies, International Movies</td>\n",
       "      <td>When an army recruit is found dead, his fellow...</td>\n",
       "    </tr>\n",
       "    <tr>\n",
       "      <th>3</th>\n",
       "      <td>s4</td>\n",
       "      <td>Movie</td>\n",
       "      <td>9</td>\n",
       "      <td>Shane Acker</td>\n",
       "      <td>Elijah Wood, John C. Reilly, Jennifer Connelly...</td>\n",
       "      <td>United States</td>\n",
       "      <td>November 16, 2017</td>\n",
       "      <td>2009</td>\n",
       "      <td>PG-13</td>\n",
       "      <td>80 min</td>\n",
       "      <td>Action &amp; Adventure, Independent Movies, Sci-Fi...</td>\n",
       "      <td>In a postapocalyptic world, rag-doll robots hi...</td>\n",
       "    </tr>\n",
       "    <tr>\n",
       "      <th>4</th>\n",
       "      <td>s5</td>\n",
       "      <td>Movie</td>\n",
       "      <td>21</td>\n",
       "      <td>Robert Luketic</td>\n",
       "      <td>Jim Sturgess, Kevin Spacey, Kate Bosworth, Aar...</td>\n",
       "      <td>United States</td>\n",
       "      <td>January 1, 2020</td>\n",
       "      <td>2008</td>\n",
       "      <td>PG-13</td>\n",
       "      <td>123 min</td>\n",
       "      <td>Dramas</td>\n",
       "      <td>A brilliant group of students become card-coun...</td>\n",
       "    </tr>\n",
       "  </tbody>\n",
       "</table>\n",
       "</div>"
      ],
      "text/plain": [
       "  show_id     type  title           director  \\\n",
       "0      s1  TV Show     3%                NaN   \n",
       "1      s2    Movie   7:19  Jorge Michel Grau   \n",
       "2      s3    Movie  23:59       Gilbert Chan   \n",
       "3      s4    Movie      9        Shane Acker   \n",
       "4      s5    Movie     21     Robert Luketic   \n",
       "\n",
       "                                                cast        country  \\\n",
       "0  João Miguel, Bianca Comparato, Michel Gomes, R...         Brazil   \n",
       "1  Demián Bichir, Héctor Bonilla, Oscar Serrano, ...         Mexico   \n",
       "2  Tedd Chan, Stella Chung, Henley Hii, Lawrence ...      Singapore   \n",
       "3  Elijah Wood, John C. Reilly, Jennifer Connelly...  United States   \n",
       "4  Jim Sturgess, Kevin Spacey, Kate Bosworth, Aar...  United States   \n",
       "\n",
       "          date_added  release_year rating   duration  \\\n",
       "0    August 14, 2020          2020  TV-MA  4 Seasons   \n",
       "1  December 23, 2016          2016  TV-MA     93 min   \n",
       "2  December 20, 2018          2011      R     78 min   \n",
       "3  November 16, 2017          2009  PG-13     80 min   \n",
       "4    January 1, 2020          2008  PG-13    123 min   \n",
       "\n",
       "                                           listed_in  \\\n",
       "0  International TV Shows, TV Dramas, TV Sci-Fi &...   \n",
       "1                       Dramas, International Movies   \n",
       "2                Horror Movies, International Movies   \n",
       "3  Action & Adventure, Independent Movies, Sci-Fi...   \n",
       "4                                             Dramas   \n",
       "\n",
       "                                         description  \n",
       "0  In a future where the elite inhabit an island ...  \n",
       "1  After a devastating earthquake hits Mexico Cit...  \n",
       "2  When an army recruit is found dead, his fellow...  \n",
       "3  In a postapocalyptic world, rag-doll robots hi...  \n",
       "4  A brilliant group of students become card-coun...  "
      ]
     },
     "execution_count": 96,
     "metadata": {},
     "output_type": "execute_result"
    }
   ],
   "source": [
    "df.head()"
   ]
  },
  {
   "cell_type": "code",
   "execution_count": 97,
   "id": "verbal-jesus",
   "metadata": {
    "execution": {
     "iopub.execute_input": "2021-06-30T02:51:23.755526Z",
     "iopub.status.busy": "2021-06-30T02:51:23.754866Z",
     "iopub.status.idle": "2021-06-30T02:51:23.772283Z",
     "shell.execute_reply": "2021-06-30T02:51:23.772794Z",
     "shell.execute_reply.started": "2021-06-30T02:48:10.176025Z"
    },
    "id": "cKzIVmkvvBUX",
    "outputId": "0a986efa-b204-4f4a-847b-a7cc7d86f3df",
    "papermill": {
     "duration": 0.108727,
     "end_time": "2021-06-30T02:51:23.772979",
     "exception": false,
     "start_time": "2021-06-30T02:51:23.664252",
     "status": "completed"
    },
    "tags": []
   },
   "outputs": [
    {
     "data": {
      "text/html": [
       "<div>\n",
       "<style scoped>\n",
       "    .dataframe tbody tr th:only-of-type {\n",
       "        vertical-align: middle;\n",
       "    }\n",
       "\n",
       "    .dataframe tbody tr th {\n",
       "        vertical-align: top;\n",
       "    }\n",
       "\n",
       "    .dataframe thead th {\n",
       "        text-align: right;\n",
       "    }\n",
       "</style>\n",
       "<table border=\"1\" class=\"dataframe\">\n",
       "  <thead>\n",
       "    <tr style=\"text-align: right;\">\n",
       "      <th></th>\n",
       "      <th>show_id</th>\n",
       "      <th>type</th>\n",
       "      <th>title</th>\n",
       "      <th>director</th>\n",
       "      <th>cast</th>\n",
       "      <th>country</th>\n",
       "      <th>date_added</th>\n",
       "      <th>release_year</th>\n",
       "      <th>rating</th>\n",
       "      <th>duration</th>\n",
       "      <th>listed_in</th>\n",
       "      <th>description</th>\n",
       "    </tr>\n",
       "  </thead>\n",
       "  <tbody>\n",
       "    <tr>\n",
       "      <th>7782</th>\n",
       "      <td>s7783</td>\n",
       "      <td>Movie</td>\n",
       "      <td>Zozo</td>\n",
       "      <td>Josef Fares</td>\n",
       "      <td>Imad Creidi, Antoinette Turk, Elias Gergi, Car...</td>\n",
       "      <td>Sweden, Czech Republic, United Kingdom, Denmar...</td>\n",
       "      <td>October 19, 2020</td>\n",
       "      <td>2005</td>\n",
       "      <td>TV-MA</td>\n",
       "      <td>99 min</td>\n",
       "      <td>Dramas, International Movies</td>\n",
       "      <td>When Lebanon's Civil War deprives Zozo of his ...</td>\n",
       "    </tr>\n",
       "    <tr>\n",
       "      <th>7783</th>\n",
       "      <td>s7784</td>\n",
       "      <td>Movie</td>\n",
       "      <td>Zubaan</td>\n",
       "      <td>Mozez Singh</td>\n",
       "      <td>Vicky Kaushal, Sarah-Jane Dias, Raaghav Chanan...</td>\n",
       "      <td>India</td>\n",
       "      <td>March 2, 2019</td>\n",
       "      <td>2015</td>\n",
       "      <td>TV-14</td>\n",
       "      <td>111 min</td>\n",
       "      <td>Dramas, International Movies, Music &amp; Musicals</td>\n",
       "      <td>A scrappy but poor boy worms his way into a ty...</td>\n",
       "    </tr>\n",
       "    <tr>\n",
       "      <th>7784</th>\n",
       "      <td>s7785</td>\n",
       "      <td>Movie</td>\n",
       "      <td>Zulu Man in Japan</td>\n",
       "      <td>NaN</td>\n",
       "      <td>Nasty C</td>\n",
       "      <td>NaN</td>\n",
       "      <td>September 25, 2020</td>\n",
       "      <td>2019</td>\n",
       "      <td>TV-MA</td>\n",
       "      <td>44 min</td>\n",
       "      <td>Documentaries, International Movies, Music &amp; M...</td>\n",
       "      <td>In this documentary, South African rapper Nast...</td>\n",
       "    </tr>\n",
       "    <tr>\n",
       "      <th>7785</th>\n",
       "      <td>s7786</td>\n",
       "      <td>TV Show</td>\n",
       "      <td>Zumbo's Just Desserts</td>\n",
       "      <td>NaN</td>\n",
       "      <td>Adriano Zumbo, Rachel Khoo</td>\n",
       "      <td>Australia</td>\n",
       "      <td>October 31, 2020</td>\n",
       "      <td>2019</td>\n",
       "      <td>TV-PG</td>\n",
       "      <td>1 Season</td>\n",
       "      <td>International TV Shows, Reality TV</td>\n",
       "      <td>Dessert wizard Adriano Zumbo looks for the nex...</td>\n",
       "    </tr>\n",
       "    <tr>\n",
       "      <th>7786</th>\n",
       "      <td>s7787</td>\n",
       "      <td>Movie</td>\n",
       "      <td>ZZ TOP: THAT LITTLE OL' BAND FROM TEXAS</td>\n",
       "      <td>Sam Dunn</td>\n",
       "      <td>NaN</td>\n",
       "      <td>United Kingdom, Canada, United States</td>\n",
       "      <td>March 1, 2020</td>\n",
       "      <td>2019</td>\n",
       "      <td>TV-MA</td>\n",
       "      <td>90 min</td>\n",
       "      <td>Documentaries, Music &amp; Musicals</td>\n",
       "      <td>This documentary delves into the mystique behi...</td>\n",
       "    </tr>\n",
       "  </tbody>\n",
       "</table>\n",
       "</div>"
      ],
      "text/plain": [
       "     show_id     type                                    title     director  \\\n",
       "7782   s7783    Movie                                     Zozo  Josef Fares   \n",
       "7783   s7784    Movie                                   Zubaan  Mozez Singh   \n",
       "7784   s7785    Movie                        Zulu Man in Japan          NaN   \n",
       "7785   s7786  TV Show                    Zumbo's Just Desserts          NaN   \n",
       "7786   s7787    Movie  ZZ TOP: THAT LITTLE OL' BAND FROM TEXAS     Sam Dunn   \n",
       "\n",
       "                                                   cast  \\\n",
       "7782  Imad Creidi, Antoinette Turk, Elias Gergi, Car...   \n",
       "7783  Vicky Kaushal, Sarah-Jane Dias, Raaghav Chanan...   \n",
       "7784                                            Nasty C   \n",
       "7785                         Adriano Zumbo, Rachel Khoo   \n",
       "7786                                                NaN   \n",
       "\n",
       "                                                country          date_added  \\\n",
       "7782  Sweden, Czech Republic, United Kingdom, Denmar...    October 19, 2020   \n",
       "7783                                              India       March 2, 2019   \n",
       "7784                                                NaN  September 25, 2020   \n",
       "7785                                          Australia    October 31, 2020   \n",
       "7786              United Kingdom, Canada, United States       March 1, 2020   \n",
       "\n",
       "      release_year rating  duration  \\\n",
       "7782          2005  TV-MA    99 min   \n",
       "7783          2015  TV-14   111 min   \n",
       "7784          2019  TV-MA    44 min   \n",
       "7785          2019  TV-PG  1 Season   \n",
       "7786          2019  TV-MA    90 min   \n",
       "\n",
       "                                              listed_in  \\\n",
       "7782                       Dramas, International Movies   \n",
       "7783     Dramas, International Movies, Music & Musicals   \n",
       "7784  Documentaries, International Movies, Music & M...   \n",
       "7785                 International TV Shows, Reality TV   \n",
       "7786                    Documentaries, Music & Musicals   \n",
       "\n",
       "                                            description  \n",
       "7782  When Lebanon's Civil War deprives Zozo of his ...  \n",
       "7783  A scrappy but poor boy worms his way into a ty...  \n",
       "7784  In this documentary, South African rapper Nast...  \n",
       "7785  Dessert wizard Adriano Zumbo looks for the nex...  \n",
       "7786  This documentary delves into the mystique behi...  "
      ]
     },
     "execution_count": 97,
     "metadata": {},
     "output_type": "execute_result"
    }
   ],
   "source": [
    "df.tail()"
   ]
  },
  {
   "cell_type": "code",
   "execution_count": 98,
   "id": "looking-sudan",
   "metadata": {
    "execution": {
     "iopub.execute_input": "2021-06-30T02:51:23.955316Z",
     "iopub.status.busy": "2021-06-30T02:51:23.954663Z",
     "iopub.status.idle": "2021-06-30T02:51:23.983764Z",
     "shell.execute_reply": "2021-06-30T02:51:23.984327Z",
     "shell.execute_reply.started": "2021-06-30T02:48:10.204600Z"
    },
    "id": "MPgXRtYVuVvw",
    "outputId": "088c881f-d941-4f81-bc3b-45ade0f120ae",
    "papermill": {
     "duration": 0.122199,
     "end_time": "2021-06-30T02:51:23.984508",
     "exception": false,
     "start_time": "2021-06-30T02:51:23.862309",
     "status": "completed"
    },
    "tags": []
   },
   "outputs": [
    {
     "name": "stdout",
     "output_type": "stream",
     "text": [
      "<class 'pandas.core.frame.DataFrame'>\n",
      "RangeIndex: 7787 entries, 0 to 7786\n",
      "Data columns (total 12 columns):\n",
      " #   Column        Non-Null Count  Dtype \n",
      "---  ------        --------------  ----- \n",
      " 0   show_id       7787 non-null   object\n",
      " 1   type          7787 non-null   object\n",
      " 2   title         7787 non-null   object\n",
      " 3   director      5398 non-null   object\n",
      " 4   cast          7069 non-null   object\n",
      " 5   country       7280 non-null   object\n",
      " 6   date_added    7777 non-null   object\n",
      " 7   release_year  7787 non-null   int64 \n",
      " 8   rating        7780 non-null   object\n",
      " 9   duration      7787 non-null   object\n",
      " 10  listed_in     7787 non-null   object\n",
      " 11  description   7787 non-null   object\n",
      "dtypes: int64(1), object(11)\n",
      "memory usage: 730.2+ KB\n"
     ]
    }
   ],
   "source": [
    "df.info()"
   ]
  },
  {
   "cell_type": "code",
   "execution_count": 99,
   "id": "61ca297c",
   "metadata": {},
   "outputs": [],
   "source": [
    "objects_cols = ['object']\n",
    "objects_lst = list(df.select_dtypes(include=objects_cols).columns)"
   ]
  },
  {
   "cell_type": "code",
   "execution_count": 100,
   "id": "2c6c7e11",
   "metadata": {},
   "outputs": [
    {
     "name": "stdout",
     "output_type": "stream",
     "text": [
      "total number of cateogrical columns are  11\n",
      "there names are as follows:  ['show_id', 'type', 'title', 'director', 'cast', 'country', 'date_added', 'rating', 'duration', 'listed_in', 'description']\n"
     ]
    }
   ],
   "source": [
    "print(\"total number of cateogrical columns are \", len(objects_lst))\n",
    "print(\"there names are as follows: \", objects_lst)"
   ]
  },
  {
   "cell_type": "code",
   "execution_count": 101,
   "id": "ab91c61c",
   "metadata": {},
   "outputs": [],
   "source": [
    "int64_cols = ['int64']\n",
    "int64_lst = list(df.select_dtypes(include=int64_cols).columns)"
   ]
  },
  {
   "cell_type": "code",
   "execution_count": 102,
   "id": "7d4463bb",
   "metadata": {},
   "outputs": [
    {
     "name": "stdout",
     "output_type": "stream",
     "text": [
      "total number of numerical columns are  1\n",
      "there names are as follows:  ['release_year']\n"
     ]
    }
   ],
   "source": [
    "print(\"total number of numerical columns are \", len(int64_lst))\n",
    "print(\"there names are as follows: \", int64_lst)"
   ]
  },
  {
   "cell_type": "code",
   "execution_count": 103,
   "id": "9f4ad890",
   "metadata": {},
   "outputs": [],
   "source": [
    "datetime_cols = ['datetime64']\n",
    "datetime_lst = list(df.select_dtypes(include=datetime_cols).columns)"
   ]
  },
  {
   "cell_type": "code",
   "execution_count": 104,
   "id": "82e9afc0",
   "metadata": {},
   "outputs": [
    {
     "name": "stdout",
     "output_type": "stream",
     "text": [
      "total number of datetime columns are  1\n",
      "there names are as follows:  []\n"
     ]
    }
   ],
   "source": [
    "print(\"total number of datetime columns are \", len(datetime_cols))\n",
    "print(\"there names are as follows: \", datetime_lst)"
   ]
  },
  {
   "cell_type": "code",
   "execution_count": 105,
   "id": "mathematical-details",
   "metadata": {
    "execution": {
     "iopub.execute_input": "2021-06-30T02:51:24.171119Z",
     "iopub.status.busy": "2021-06-30T02:51:24.169926Z",
     "iopub.status.idle": "2021-06-30T02:51:24.174529Z",
     "shell.execute_reply": "2021-06-30T02:51:24.173883Z",
     "shell.execute_reply.started": "2021-06-30T02:48:10.245099Z"
    },
    "id": "aunN13RmvJKY",
    "outputId": "34d1dfba-0326-44e4-b06d-af6dd888f807",
    "papermill": {
     "duration": 0.100715,
     "end_time": "2021-06-30T02:51:24.174673",
     "exception": false,
     "start_time": "2021-06-30T02:51:24.073958",
     "status": "completed"
    },
    "tags": []
   },
   "outputs": [
    {
     "data": {
      "text/plain": [
       "array([nan, 'Jorge Michel Grau', 'Gilbert Chan', ..., 'Josef Fares',\n",
       "       'Mozez Singh', 'Sam Dunn'], dtype=object)"
      ]
     },
     "execution_count": 105,
     "metadata": {},
     "output_type": "execute_result"
    }
   ],
   "source": [
    "df.director.unique()"
   ]
  },
  {
   "cell_type": "code",
   "execution_count": 106,
   "id": "closed-pantyhose",
   "metadata": {
    "execution": {
     "iopub.execute_input": "2021-06-30T02:51:24.365357Z",
     "iopub.status.busy": "2021-06-30T02:51:24.364229Z",
     "iopub.status.idle": "2021-06-30T02:51:24.368826Z",
     "shell.execute_reply": "2021-06-30T02:51:24.368295Z",
     "shell.execute_reply.started": "2021-06-30T02:48:10.301532Z"
    },
    "id": "oc7r-5v0vNZF",
    "outputId": "7374b0bb-eec3-4f9b-e557-d983fafc973b",
    "papermill": {
     "duration": 0.102563,
     "end_time": "2021-06-30T02:51:24.368987",
     "exception": false,
     "start_time": "2021-06-30T02:51:24.266424",
     "status": "completed"
    },
    "tags": []
   },
   "outputs": [
    {
     "data": {
      "text/plain": [
       "array(['João Miguel, Bianca Comparato, Michel Gomes, Rodolfo Valente, Vaneza Oliveira, Rafael Lozano, Viviane Porto, Mel Fronckowiak, Sergio Mamberti, Zezé Motta, Celso Frateschi',\n",
       "       'Demián Bichir, Héctor Bonilla, Oscar Serrano, Azalia Ortiz, Octavio Michel, Carmen Beato',\n",
       "       'Tedd Chan, Stella Chung, Henley Hii, Lawrence Koh, Tommy Kuan, Josh Lai, Mark Lee, Susan Leong, Benjamin Lim',\n",
       "       ...,\n",
       "       'Vicky Kaushal, Sarah-Jane Dias, Raaghav Chanana, Manish Chaudhary, Meghna Malik, Malkeet Rauni, Anita Shabdish, Chittaranjan Tripathy',\n",
       "       'Nasty C', 'Adriano Zumbo, Rachel Khoo'], dtype=object)"
      ]
     },
     "execution_count": 106,
     "metadata": {},
     "output_type": "execute_result"
    }
   ],
   "source": [
    "df.cast.unique()"
   ]
  },
  {
   "cell_type": "code",
   "execution_count": 107,
   "id": "a6bca683",
   "metadata": {
    "execution": {
     "iopub.execute_input": "2021-06-30T02:51:28.709376Z",
     "iopub.status.busy": "2021-06-30T02:51:28.708379Z",
     "iopub.status.idle": "2021-06-30T02:51:28.715225Z",
     "shell.execute_reply": "2021-06-30T02:51:28.715720Z",
     "shell.execute_reply.started": "2021-06-30T02:48:11.626332Z"
    },
    "id": "EF-SUblU0dJh",
    "outputId": "69ee477c-e350-4dc7-eda3-f5f798875833",
    "papermill": {
     "duration": 0.104604,
     "end_time": "2021-06-30T02:51:28.715893",
     "exception": false,
     "start_time": "2021-06-30T02:51:28.611289",
     "status": "completed"
    },
    "tags": []
   },
   "outputs": [
    {
     "data": {
      "text/plain": [
       "array(['TV-MA', 'R', 'PG-13', 'TV-14', 'TV-PG', 'NR', 'TV-G', 'TV-Y', nan,\n",
       "       'TV-Y7', 'PG', 'G', 'NC-17', 'TV-Y7-FV', 'UR'], dtype=object)"
      ]
     },
     "execution_count": 107,
     "metadata": {},
     "output_type": "execute_result"
    }
   ],
   "source": [
    "df[\"rating\"].unique() #list of unique rating"
   ]
  },
  {
   "cell_type": "markdown",
   "id": "c437572d",
   "metadata": {},
   "source": [
    "Replacing ratings ages with some category (older kids , adults , teens , kids)"
   ]
  },
  {
   "cell_type": "markdown",
   "id": "funny-gentleman",
   "metadata": {
    "id": "zXpdpJlNvhbY",
    "papermill": {
     "duration": 0.090413,
     "end_time": "2021-06-30T02:51:24.550092",
     "exception": false,
     "start_time": "2021-06-30T02:51:24.459679",
     "status": "completed"
    },
    "tags": []
   },
   "source": [
    "##We will find out percentage of missing values."
   ]
  },
  {
   "cell_type": "code",
   "execution_count": 108,
   "id": "outside-compiler",
   "metadata": {
    "execution": {
     "iopub.execute_input": "2021-06-30T02:51:25.166636Z",
     "iopub.status.busy": "2021-06-30T02:51:25.164983Z",
     "iopub.status.idle": "2021-06-30T02:51:25.191168Z",
     "shell.execute_reply": "2021-06-30T02:51:25.190531Z",
     "shell.execute_reply.started": "2021-06-30T02:48:10.787288Z"
    },
    "id": "xxftd85nv__k",
    "outputId": "a104f47e-ea5c-4d1f-b8f2-63ebb71530fe",
    "papermill": {
     "duration": 0.131023,
     "end_time": "2021-06-30T02:51:25.191322",
     "exception": false,
     "start_time": "2021-06-30T02:51:25.060299",
     "status": "completed"
    },
    "tags": []
   },
   "outputs": [
    {
     "name": "stdout",
     "output_type": "stream",
     "text": [
      "Percentage Of Missing Values\n"
     ]
    },
    {
     "data": {
      "text/plain": [
       "director      30.679337\n",
       "cast           9.220496\n",
       "country        6.510851\n",
       "date_added     0.128419\n",
       "rating         0.089893\n",
       "dtype: float64"
      ]
     },
     "execution_count": 108,
     "metadata": {},
     "output_type": "execute_result"
    }
   ],
   "source": [
    "print(\"Percentage Of Missing Values\")\n",
    "Perc_Of_Missing_Values=df.isna().sum()/len(df)*100\n",
    "Perc_Of_Missing_Values[Perc_Of_Missing_Values!=0]"
   ]
  },
  {
   "cell_type": "markdown",
   "id": "according-purse",
   "metadata": {
    "id": "e5TL8vv5wKcb",
    "papermill": {
     "duration": 0.091543,
     "end_time": "2021-06-30T02:51:25.762425",
     "exception": false,
     "start_time": "2021-06-30T02:51:25.670882",
     "status": "completed"
    },
    "tags": []
   },
   "source": [
    "The missing values and not required column :\n",
    "\n",
    "    \"show_id\": Not that important. so i will be dropping this.\n",
    "    \"director\": Very less information-not needed for the analysis so I will be dropping this.\n",
    "    \"cast\": there are too many diferent values so I will be dropping this.\n",
    "    \"country\":Important variable hence we need to fix this.\n",
    "    \"date_added\": there are just a few cases, so lets scrap them.\n",
    "    \"rating\": there are just a few cases, so lets fix them.\n",
    "    \"Description\": Not that Important.So i will be dropping this."
   ]
  },
  {
   "cell_type": "markdown",
   "id": "friendly-ribbon",
   "metadata": {
    "id": "gIWiwQDowdHu",
    "papermill": {
     "duration": 0.092053,
     "end_time": "2021-06-30T02:51:25.946599",
     "exception": false,
     "start_time": "2021-06-30T02:51:25.854546",
     "status": "completed"
    },
    "tags": []
   },
   "source": [
    " Drop (cast,director,show id,description) columns:"
   ]
  },
  {
   "cell_type": "code",
   "execution_count": 109,
   "id": "precise-wilderness",
   "metadata": {
    "execution": {
     "iopub.execute_input": "2021-06-30T02:51:26.139290Z",
     "iopub.status.busy": "2021-06-30T02:51:26.137405Z",
     "iopub.status.idle": "2021-06-30T02:51:26.148292Z",
     "shell.execute_reply": "2021-06-30T02:51:26.147666Z",
     "shell.execute_reply.started": "2021-06-30T02:48:11.102890Z"
    },
    "id": "E-Sy5-LCwcRV",
    "papermill": {
     "duration": 0.109685,
     "end_time": "2021-06-30T02:51:26.148446",
     "exception": false,
     "start_time": "2021-06-30T02:51:26.038761",
     "status": "completed"
    },
    "tags": []
   },
   "outputs": [],
   "source": [
    "df.drop(\"cast\",axis=1,inplace=True)\n",
    "df.drop(\"director\",axis=1,inplace=True)\n",
    "df.drop(\"show_id\",axis=1,inplace=True)\n",
    "df.drop(\"description\",axis=1,inplace=True)"
   ]
  },
  {
   "cell_type": "markdown",
   "id": "leading-plumbing",
   "metadata": {
    "id": "laM8L0dMwxWS",
    "papermill": {
     "duration": 0.093132,
     "end_time": "2021-06-30T02:51:26.333439",
     "exception": false,
     "start_time": "2021-06-30T02:51:26.240307",
     "status": "completed"
    },
    "tags": []
   },
   "source": [
    "Fill the missing values:"
   ]
  },
  {
   "cell_type": "code",
   "execution_count": 110,
   "id": "authorized-kingston",
   "metadata": {
    "execution": {
     "iopub.execute_input": "2021-06-30T02:51:26.530517Z",
     "iopub.status.busy": "2021-06-30T02:51:26.529780Z",
     "iopub.status.idle": "2021-06-30T02:51:26.532865Z",
     "shell.execute_reply": "2021-06-30T02:51:26.533345Z",
     "shell.execute_reply.started": "2021-06-30T02:48:11.118588Z"
    },
    "id": "WjEU7_YKv-Zs",
    "papermill": {
     "duration": 0.107246,
     "end_time": "2021-06-30T02:51:26.533534",
     "exception": false,
     "start_time": "2021-06-30T02:51:26.426288",
     "status": "completed"
    },
    "tags": []
   },
   "outputs": [],
   "source": [
    "df[\"country\"]=df[\"country\"].fillna(df[\"country\"].mode()[0])\n",
    "df[\"rating\"]=df[\"rating\"].fillna(df[\"rating\"].mode()[0])"
   ]
  },
  {
   "cell_type": "code",
   "execution_count": 111,
   "id": "fb62b81b",
   "metadata": {
    "execution": {
     "iopub.execute_input": "2021-06-30T02:51:28.909097Z",
     "iopub.status.busy": "2021-06-30T02:51:28.908137Z",
     "iopub.status.idle": "2021-06-30T02:51:28.915662Z",
     "shell.execute_reply": "2021-06-30T02:51:28.914976Z",
     "shell.execute_reply.started": "2021-06-30T02:48:11.701498Z"
    },
    "id": "SCGm8MIS09GV",
    "papermill": {
     "duration": 0.105171,
     "end_time": "2021-06-30T02:51:28.915802",
     "exception": false,
     "start_time": "2021-06-30T02:51:28.810631",
     "status": "completed"
    },
    "tags": []
   },
   "outputs": [],
   "source": [
    "ratings_ages = {\n",
    "    'TV-PG': 'Older Kids',\n",
    "    'TV-MA': 'Adults',\n",
    "    'TV-Y7-FV': 'Older Kids',\n",
    "    'TV-Y7': 'Older Kids',\n",
    "    'TV-14': 'Teens',\n",
    "    'R': 'Adults',\n",
    "    'TV-Y': 'Kids',\n",
    "    'NR': 'Adults',\n",
    "    'PG-13': 'Teens',\n",
    "    'TV-G': 'Kids',\n",
    "    'PG': 'Older Kids',\n",
    "    'G': 'Kids',\n",
    "    'UR': 'Adults',\n",
    "    'NC-17': 'Adults'\n",
    "}  \n"
   ]
  },
  {
   "cell_type": "code",
   "execution_count": 112,
   "id": "07f68937",
   "metadata": {
    "execution": {
     "iopub.execute_input": "2021-06-30T02:51:29.122241Z",
     "iopub.status.busy": "2021-06-30T02:51:29.121381Z",
     "iopub.status.idle": "2021-06-30T02:51:29.134459Z",
     "shell.execute_reply": "2021-06-30T02:51:29.133834Z",
     "shell.execute_reply.started": "2021-06-30T02:48:11.781742Z"
    },
    "id": "XDXEMQ841IN8",
    "outputId": "74f29127-ac8a-4c0f-d2d8-5acfb5f078c3",
    "papermill": {
     "duration": 0.123494,
     "end_time": "2021-06-30T02:51:29.134597",
     "exception": false,
     "start_time": "2021-06-30T02:51:29.011103",
     "status": "completed"
    },
    "tags": []
   },
   "outputs": [
    {
     "data": {
      "text/plain": [
       "array(['Adults', 'Teens', 'Older Kids', 'Kids'], dtype=object)"
      ]
     },
     "execution_count": 112,
     "metadata": {},
     "output_type": "execute_result"
    }
   ],
   "source": [
    "df['target_ages'] = df['rating'].replace(ratings_ages)  #replace the ratings with above category\n",
    "df['target_ages'].unique() "
   ]
  },
  {
   "cell_type": "markdown",
   "id": "alternate-career",
   "metadata": {
    "id": "2rtU-736w4oS",
    "papermill": {
     "duration": 0.092686,
     "end_time": "2021-06-30T02:51:26.718865",
     "exception": false,
     "start_time": "2021-06-30T02:51:26.626179",
     "status": "completed"
    },
    "tags": []
   },
   "source": [
    "Fix the Date_added Column:"
   ]
  },
  {
   "cell_type": "code",
   "execution_count": 113,
   "id": "painful-chaos",
   "metadata": {
    "execution": {
     "iopub.execute_input": "2021-06-30T02:51:26.921841Z",
     "iopub.status.busy": "2021-06-30T02:51:26.920881Z",
     "iopub.status.idle": "2021-06-30T02:51:26.925531Z",
     "shell.execute_reply": "2021-06-30T02:51:26.925993Z",
     "shell.execute_reply.started": "2021-06-30T02:48:11.151018Z"
    },
    "id": "8zk4aA40wz63",
    "outputId": "628df9b8-b880-472a-c0fa-cc966de251d5",
    "papermill": {
     "duration": 0.114667,
     "end_time": "2021-06-30T02:51:26.926178",
     "exception": false,
     "start_time": "2021-06-30T02:51:26.811511",
     "status": "completed"
    },
    "tags": []
   },
   "outputs": [
    {
     "data": {
      "text/html": [
       "<div>\n",
       "<style scoped>\n",
       "    .dataframe tbody tr th:only-of-type {\n",
       "        vertical-align: middle;\n",
       "    }\n",
       "\n",
       "    .dataframe tbody tr th {\n",
       "        vertical-align: top;\n",
       "    }\n",
       "\n",
       "    .dataframe thead th {\n",
       "        text-align: right;\n",
       "    }\n",
       "</style>\n",
       "<table border=\"1\" class=\"dataframe\">\n",
       "  <thead>\n",
       "    <tr style=\"text-align: right;\">\n",
       "      <th></th>\n",
       "      <th>type</th>\n",
       "      <th>title</th>\n",
       "      <th>country</th>\n",
       "      <th>date_added</th>\n",
       "      <th>release_year</th>\n",
       "      <th>rating</th>\n",
       "      <th>duration</th>\n",
       "      <th>listed_in</th>\n",
       "      <th>target_ages</th>\n",
       "    </tr>\n",
       "  </thead>\n",
       "  <tbody>\n",
       "    <tr>\n",
       "      <th>258</th>\n",
       "      <td>TV Show</td>\n",
       "      <td>A Young Doctor's Notebook and Other Stories</td>\n",
       "      <td>United Kingdom</td>\n",
       "      <td>NaN</td>\n",
       "      <td>2013</td>\n",
       "      <td>TV-MA</td>\n",
       "      <td>2 Seasons</td>\n",
       "      <td>British TV Shows, TV Comedies, TV Dramas</td>\n",
       "      <td>Adults</td>\n",
       "    </tr>\n",
       "    <tr>\n",
       "      <th>549</th>\n",
       "      <td>TV Show</td>\n",
       "      <td>Anthony Bourdain: Parts Unknown</td>\n",
       "      <td>United States</td>\n",
       "      <td>NaN</td>\n",
       "      <td>2018</td>\n",
       "      <td>TV-PG</td>\n",
       "      <td>5 Seasons</td>\n",
       "      <td>Docuseries</td>\n",
       "      <td>Older Kids</td>\n",
       "    </tr>\n",
       "    <tr>\n",
       "      <th>2263</th>\n",
       "      <td>TV Show</td>\n",
       "      <td>Frasier</td>\n",
       "      <td>United States</td>\n",
       "      <td>NaN</td>\n",
       "      <td>2003</td>\n",
       "      <td>TV-PG</td>\n",
       "      <td>11 Seasons</td>\n",
       "      <td>Classic &amp; Cult TV, TV Comedies</td>\n",
       "      <td>Older Kids</td>\n",
       "    </tr>\n",
       "    <tr>\n",
       "      <th>2288</th>\n",
       "      <td>TV Show</td>\n",
       "      <td>Friends</td>\n",
       "      <td>United States</td>\n",
       "      <td>NaN</td>\n",
       "      <td>2003</td>\n",
       "      <td>TV-14</td>\n",
       "      <td>10 Seasons</td>\n",
       "      <td>Classic &amp; Cult TV, TV Comedies</td>\n",
       "      <td>Teens</td>\n",
       "    </tr>\n",
       "    <tr>\n",
       "      <th>2555</th>\n",
       "      <td>TV Show</td>\n",
       "      <td>Gunslinger Girl</td>\n",
       "      <td>Japan</td>\n",
       "      <td>NaN</td>\n",
       "      <td>2008</td>\n",
       "      <td>TV-14</td>\n",
       "      <td>2 Seasons</td>\n",
       "      <td>Anime Series, Crime TV Shows</td>\n",
       "      <td>Teens</td>\n",
       "    </tr>\n",
       "    <tr>\n",
       "      <th>3374</th>\n",
       "      <td>TV Show</td>\n",
       "      <td>Kikoriki</td>\n",
       "      <td>United States</td>\n",
       "      <td>NaN</td>\n",
       "      <td>2010</td>\n",
       "      <td>TV-Y</td>\n",
       "      <td>2 Seasons</td>\n",
       "      <td>Kids' TV</td>\n",
       "      <td>Kids</td>\n",
       "    </tr>\n",
       "    <tr>\n",
       "      <th>3492</th>\n",
       "      <td>TV Show</td>\n",
       "      <td>La Familia P. Luche</td>\n",
       "      <td>United States</td>\n",
       "      <td>NaN</td>\n",
       "      <td>2012</td>\n",
       "      <td>TV-14</td>\n",
       "      <td>3 Seasons</td>\n",
       "      <td>International TV Shows, Spanish-Language TV Sh...</td>\n",
       "      <td>Teens</td>\n",
       "    </tr>\n",
       "    <tr>\n",
       "      <th>3946</th>\n",
       "      <td>TV Show</td>\n",
       "      <td>Maron</td>\n",
       "      <td>United States</td>\n",
       "      <td>NaN</td>\n",
       "      <td>2016</td>\n",
       "      <td>TV-MA</td>\n",
       "      <td>4 Seasons</td>\n",
       "      <td>TV Comedies</td>\n",
       "      <td>Adults</td>\n",
       "    </tr>\n",
       "    <tr>\n",
       "      <th>5137</th>\n",
       "      <td>TV Show</td>\n",
       "      <td>Red vs. Blue</td>\n",
       "      <td>United States</td>\n",
       "      <td>NaN</td>\n",
       "      <td>2015</td>\n",
       "      <td>NR</td>\n",
       "      <td>13 Seasons</td>\n",
       "      <td>TV Action &amp; Adventure, TV Comedies, TV Sci-Fi ...</td>\n",
       "      <td>Adults</td>\n",
       "    </tr>\n",
       "    <tr>\n",
       "      <th>6065</th>\n",
       "      <td>TV Show</td>\n",
       "      <td>The Adventures of Figaro Pho</td>\n",
       "      <td>Australia</td>\n",
       "      <td>NaN</td>\n",
       "      <td>2015</td>\n",
       "      <td>TV-Y7</td>\n",
       "      <td>2 Seasons</td>\n",
       "      <td>Kids' TV, TV Comedies</td>\n",
       "      <td>Older Kids</td>\n",
       "    </tr>\n",
       "  </tbody>\n",
       "</table>\n",
       "</div>"
      ],
      "text/plain": [
       "         type                                        title         country  \\\n",
       "258   TV Show  A Young Doctor's Notebook and Other Stories  United Kingdom   \n",
       "549   TV Show              Anthony Bourdain: Parts Unknown   United States   \n",
       "2263  TV Show                                      Frasier   United States   \n",
       "2288  TV Show                                      Friends   United States   \n",
       "2555  TV Show                              Gunslinger Girl           Japan   \n",
       "3374  TV Show                                     Kikoriki   United States   \n",
       "3492  TV Show                          La Familia P. Luche   United States   \n",
       "3946  TV Show                                        Maron   United States   \n",
       "5137  TV Show                                 Red vs. Blue   United States   \n",
       "6065  TV Show                 The Adventures of Figaro Pho       Australia   \n",
       "\n",
       "     date_added  release_year rating    duration  \\\n",
       "258         NaN          2013  TV-MA   2 Seasons   \n",
       "549         NaN          2018  TV-PG   5 Seasons   \n",
       "2263        NaN          2003  TV-PG  11 Seasons   \n",
       "2288        NaN          2003  TV-14  10 Seasons   \n",
       "2555        NaN          2008  TV-14   2 Seasons   \n",
       "3374        NaN          2010   TV-Y   2 Seasons   \n",
       "3492        NaN          2012  TV-14   3 Seasons   \n",
       "3946        NaN          2016  TV-MA   4 Seasons   \n",
       "5137        NaN          2015     NR  13 Seasons   \n",
       "6065        NaN          2015  TV-Y7   2 Seasons   \n",
       "\n",
       "                                              listed_in target_ages  \n",
       "258            British TV Shows, TV Comedies, TV Dramas      Adults  \n",
       "549                                          Docuseries  Older Kids  \n",
       "2263                     Classic & Cult TV, TV Comedies  Older Kids  \n",
       "2288                     Classic & Cult TV, TV Comedies       Teens  \n",
       "2555                       Anime Series, Crime TV Shows       Teens  \n",
       "3374                                           Kids' TV        Kids  \n",
       "3492  International TV Shows, Spanish-Language TV Sh...       Teens  \n",
       "3946                                        TV Comedies      Adults  \n",
       "5137  TV Action & Adventure, TV Comedies, TV Sci-Fi ...      Adults  \n",
       "6065                              Kids' TV, TV Comedies  Older Kids  "
      ]
     },
     "execution_count": 113,
     "metadata": {},
     "output_type": "execute_result"
    }
   ],
   "source": [
    "df[df.date_added.isna()]"
   ]
  },
  {
   "cell_type": "markdown",
   "id": "fatty-services",
   "metadata": {
    "id": "x97SAa4cxGOs",
    "papermill": {
     "duration": 0.093234,
     "end_time": "2021-06-30T02:51:27.112987",
     "exception": false,
     "start_time": "2021-06-30T02:51:27.019753",
     "status": "completed"
    },
    "tags": []
   },
   "source": [
    "We will drop those Rows.They are only 10 Rows .Becoz it is difficult to add date of those Rows"
   ]
  },
  {
   "cell_type": "code",
   "execution_count": 114,
   "id": "thermal-percentage",
   "metadata": {
    "execution": {
     "iopub.execute_input": "2021-06-30T02:51:27.306318Z",
     "iopub.status.busy": "2021-06-30T02:51:27.305612Z",
     "iopub.status.idle": "2021-06-30T02:51:27.309572Z",
     "shell.execute_reply": "2021-06-30T02:51:27.308717Z",
     "shell.execute_reply.started": "2021-06-30T02:48:11.261248Z"
    },
    "id": "37X03qdLxCRg",
    "papermill": {
     "duration": 0.103964,
     "end_time": "2021-06-30T02:51:27.309835",
     "exception": false,
     "start_time": "2021-06-30T02:51:27.205871",
     "status": "completed"
    },
    "tags": []
   },
   "outputs": [],
   "source": [
    "df=df[df[\"date_added\"].notna()]"
   ]
  },
  {
   "cell_type": "markdown",
   "id": "intensive-wednesday",
   "metadata": {
    "id": "jxLmKoIdxKiY",
    "papermill": {
     "duration": 0.092396,
     "end_time": "2021-06-30T02:51:27.497040",
     "exception": false,
     "start_time": "2021-06-30T02:51:27.404644",
     "status": "completed"
    },
    "tags": []
   },
   "source": [
    "Check the Cleaned dataset"
   ]
  },
  {
   "cell_type": "code",
   "execution_count": 115,
   "id": "blessed-webmaster",
   "metadata": {
    "execution": {
     "iopub.execute_input": "2021-06-30T02:51:27.695443Z",
     "iopub.status.busy": "2021-06-30T02:51:27.692821Z",
     "iopub.status.idle": "2021-06-30T02:51:27.700366Z",
     "shell.execute_reply": "2021-06-30T02:51:27.699784Z",
     "shell.execute_reply.started": "2021-06-30T02:48:11.356550Z"
    },
    "id": "s3GK2KuRxJl5",
    "outputId": "35e4ee3c-35a2-470f-a06c-824dc5f77091",
    "papermill": {
     "duration": 0.110986,
     "end_time": "2021-06-30T02:51:27.700579",
     "exception": false,
     "start_time": "2021-06-30T02:51:27.589593",
     "status": "completed"
    },
    "tags": []
   },
   "outputs": [
    {
     "data": {
      "text/plain": [
       "type            0\n",
       "title           0\n",
       "country         0\n",
       "date_added      0\n",
       "release_year    0\n",
       "rating          0\n",
       "duration        0\n",
       "listed_in       0\n",
       "target_ages     0\n",
       "dtype: int64"
      ]
     },
     "execution_count": 115,
     "metadata": {},
     "output_type": "execute_result"
    }
   ],
   "source": [
    "df.isna().sum()"
   ]
  },
  {
   "cell_type": "markdown",
   "id": "lucky-cannon",
   "metadata": {
    "id": "I9ZmrAa_xaM-",
    "papermill": {
     "duration": 0.093329,
     "end_time": "2021-06-30T02:51:27.888411",
     "exception": false,
     "start_time": "2021-06-30T02:51:27.795082",
     "status": "completed"
    },
    "tags": []
   },
   "source": [
    "Let's make New Columns:"
   ]
  },
  {
   "cell_type": "code",
   "execution_count": 116,
   "id": "arctic-error",
   "metadata": {
    "execution": {
     "iopub.execute_input": "2021-06-30T02:51:28.090992Z",
     "iopub.status.busy": "2021-06-30T02:51:28.089876Z",
     "iopub.status.idle": "2021-06-30T02:51:28.093844Z",
     "shell.execute_reply": "2021-06-30T02:51:28.094326Z",
     "shell.execute_reply.started": "2021-06-30T02:48:11.432759Z"
    },
    "id": "xTBaDXLfr2mV",
    "outputId": "9be60e4b-8280-445a-8e08-fc8ff2f00e61",
    "papermill": {
     "duration": 0.111878,
     "end_time": "2021-06-30T02:51:28.094504",
     "exception": false,
     "start_time": "2021-06-30T02:51:27.982626",
     "status": "completed"
    },
    "tags": []
   },
   "outputs": [
    {
     "data": {
      "text/plain": [
       "0    2020\n",
       "1    2016\n",
       "2    2018\n",
       "3    2017\n",
       "4    2020\n",
       "Name: year_added, dtype: object"
      ]
     },
     "execution_count": 116,
     "metadata": {},
     "output_type": "execute_result"
    }
   ],
   "source": [
    "df['year_added'] = df['date_added'].apply(lambda x: x.split(\" \")[-1])\n",
    "df['year_added'].head()"
   ]
  },
  {
   "cell_type": "code",
   "execution_count": 117,
   "id": "enhanced-convertible",
   "metadata": {
    "execution": {
     "iopub.execute_input": "2021-06-30T02:51:28.295688Z",
     "iopub.status.busy": "2021-06-30T02:51:28.294671Z",
     "iopub.status.idle": "2021-06-30T02:51:28.299641Z",
     "shell.execute_reply": "2021-06-30T02:51:28.299089Z",
     "shell.execute_reply.started": "2021-06-30T02:48:11.506506Z"
    },
    "id": "Yag6Ntv6r-F_",
    "outputId": "17d093e2-e9ca-4175-904a-f032b9adad3f",
    "papermill": {
     "duration": 0.110689,
     "end_time": "2021-06-30T02:51:28.299786",
     "exception": false,
     "start_time": "2021-06-30T02:51:28.189097",
     "status": "completed"
    },
    "tags": []
   },
   "outputs": [
    {
     "data": {
      "text/plain": [
       "0      August\n",
       "1    December\n",
       "2    December\n",
       "3    November\n",
       "4     January\n",
       "Name: month_added, dtype: object"
      ]
     },
     "execution_count": 117,
     "metadata": {},
     "output_type": "execute_result"
    }
   ],
   "source": [
    "df['month_added'] = df['date_added'].apply(lambda x: x.split(\" \")[0])\n",
    "df['month_added'].head()"
   ]
  },
  {
   "cell_type": "code",
   "execution_count": 118,
   "id": "progressive-universal",
   "metadata": {
    "execution": {
     "iopub.execute_input": "2021-06-30T02:51:28.495495Z",
     "iopub.status.busy": "2021-06-30T02:51:28.494360Z",
     "iopub.status.idle": "2021-06-30T02:51:28.516417Z",
     "shell.execute_reply": "2021-06-30T02:51:28.516911Z",
     "shell.execute_reply.started": "2021-06-30T02:48:11.576590Z"
    },
    "id": "Z78kU3tfxhV5",
    "outputId": "d20eaaf9-f09f-4b15-8ecd-a0403fd5c975",
    "papermill": {
     "duration": 0.122975,
     "end_time": "2021-06-30T02:51:28.517110",
     "exception": false,
     "start_time": "2021-06-30T02:51:28.394135",
     "status": "completed"
    },
    "tags": []
   },
   "outputs": [
    {
     "data": {
      "text/html": [
       "<div>\n",
       "<style scoped>\n",
       "    .dataframe tbody tr th:only-of-type {\n",
       "        vertical-align: middle;\n",
       "    }\n",
       "\n",
       "    .dataframe tbody tr th {\n",
       "        vertical-align: top;\n",
       "    }\n",
       "\n",
       "    .dataframe thead th {\n",
       "        text-align: right;\n",
       "    }\n",
       "</style>\n",
       "<table border=\"1\" class=\"dataframe\">\n",
       "  <thead>\n",
       "    <tr style=\"text-align: right;\">\n",
       "      <th></th>\n",
       "      <th>type</th>\n",
       "      <th>title</th>\n",
       "      <th>country</th>\n",
       "      <th>date_added</th>\n",
       "      <th>release_year</th>\n",
       "      <th>rating</th>\n",
       "      <th>duration</th>\n",
       "      <th>listed_in</th>\n",
       "      <th>target_ages</th>\n",
       "      <th>year_added</th>\n",
       "      <th>month_added</th>\n",
       "    </tr>\n",
       "  </thead>\n",
       "  <tbody>\n",
       "    <tr>\n",
       "      <th>0</th>\n",
       "      <td>TV Show</td>\n",
       "      <td>3%</td>\n",
       "      <td>Brazil</td>\n",
       "      <td>August 14, 2020</td>\n",
       "      <td>2020</td>\n",
       "      <td>TV-MA</td>\n",
       "      <td>4 Seasons</td>\n",
       "      <td>International TV Shows, TV Dramas, TV Sci-Fi &amp;...</td>\n",
       "      <td>Adults</td>\n",
       "      <td>2020</td>\n",
       "      <td>August</td>\n",
       "    </tr>\n",
       "    <tr>\n",
       "      <th>1</th>\n",
       "      <td>Movie</td>\n",
       "      <td>7:19</td>\n",
       "      <td>Mexico</td>\n",
       "      <td>December 23, 2016</td>\n",
       "      <td>2016</td>\n",
       "      <td>TV-MA</td>\n",
       "      <td>93 min</td>\n",
       "      <td>Dramas, International Movies</td>\n",
       "      <td>Adults</td>\n",
       "      <td>2016</td>\n",
       "      <td>December</td>\n",
       "    </tr>\n",
       "    <tr>\n",
       "      <th>2</th>\n",
       "      <td>Movie</td>\n",
       "      <td>23:59</td>\n",
       "      <td>Singapore</td>\n",
       "      <td>December 20, 2018</td>\n",
       "      <td>2011</td>\n",
       "      <td>R</td>\n",
       "      <td>78 min</td>\n",
       "      <td>Horror Movies, International Movies</td>\n",
       "      <td>Adults</td>\n",
       "      <td>2018</td>\n",
       "      <td>December</td>\n",
       "    </tr>\n",
       "    <tr>\n",
       "      <th>3</th>\n",
       "      <td>Movie</td>\n",
       "      <td>9</td>\n",
       "      <td>United States</td>\n",
       "      <td>November 16, 2017</td>\n",
       "      <td>2009</td>\n",
       "      <td>PG-13</td>\n",
       "      <td>80 min</td>\n",
       "      <td>Action &amp; Adventure, Independent Movies, Sci-Fi...</td>\n",
       "      <td>Teens</td>\n",
       "      <td>2017</td>\n",
       "      <td>November</td>\n",
       "    </tr>\n",
       "    <tr>\n",
       "      <th>4</th>\n",
       "      <td>Movie</td>\n",
       "      <td>21</td>\n",
       "      <td>United States</td>\n",
       "      <td>January 1, 2020</td>\n",
       "      <td>2008</td>\n",
       "      <td>PG-13</td>\n",
       "      <td>123 min</td>\n",
       "      <td>Dramas</td>\n",
       "      <td>Teens</td>\n",
       "      <td>2020</td>\n",
       "      <td>January</td>\n",
       "    </tr>\n",
       "    <tr>\n",
       "      <th>...</th>\n",
       "      <td>...</td>\n",
       "      <td>...</td>\n",
       "      <td>...</td>\n",
       "      <td>...</td>\n",
       "      <td>...</td>\n",
       "      <td>...</td>\n",
       "      <td>...</td>\n",
       "      <td>...</td>\n",
       "      <td>...</td>\n",
       "      <td>...</td>\n",
       "      <td>...</td>\n",
       "    </tr>\n",
       "    <tr>\n",
       "      <th>7782</th>\n",
       "      <td>Movie</td>\n",
       "      <td>Zozo</td>\n",
       "      <td>Sweden, Czech Republic, United Kingdom, Denmar...</td>\n",
       "      <td>October 19, 2020</td>\n",
       "      <td>2005</td>\n",
       "      <td>TV-MA</td>\n",
       "      <td>99 min</td>\n",
       "      <td>Dramas, International Movies</td>\n",
       "      <td>Adults</td>\n",
       "      <td>2020</td>\n",
       "      <td>October</td>\n",
       "    </tr>\n",
       "    <tr>\n",
       "      <th>7783</th>\n",
       "      <td>Movie</td>\n",
       "      <td>Zubaan</td>\n",
       "      <td>India</td>\n",
       "      <td>March 2, 2019</td>\n",
       "      <td>2015</td>\n",
       "      <td>TV-14</td>\n",
       "      <td>111 min</td>\n",
       "      <td>Dramas, International Movies, Music &amp; Musicals</td>\n",
       "      <td>Teens</td>\n",
       "      <td>2019</td>\n",
       "      <td>March</td>\n",
       "    </tr>\n",
       "    <tr>\n",
       "      <th>7784</th>\n",
       "      <td>Movie</td>\n",
       "      <td>Zulu Man in Japan</td>\n",
       "      <td>United States</td>\n",
       "      <td>September 25, 2020</td>\n",
       "      <td>2019</td>\n",
       "      <td>TV-MA</td>\n",
       "      <td>44 min</td>\n",
       "      <td>Documentaries, International Movies, Music &amp; M...</td>\n",
       "      <td>Adults</td>\n",
       "      <td>2020</td>\n",
       "      <td>September</td>\n",
       "    </tr>\n",
       "    <tr>\n",
       "      <th>7785</th>\n",
       "      <td>TV Show</td>\n",
       "      <td>Zumbo's Just Desserts</td>\n",
       "      <td>Australia</td>\n",
       "      <td>October 31, 2020</td>\n",
       "      <td>2019</td>\n",
       "      <td>TV-PG</td>\n",
       "      <td>1 Season</td>\n",
       "      <td>International TV Shows, Reality TV</td>\n",
       "      <td>Older Kids</td>\n",
       "      <td>2020</td>\n",
       "      <td>October</td>\n",
       "    </tr>\n",
       "    <tr>\n",
       "      <th>7786</th>\n",
       "      <td>Movie</td>\n",
       "      <td>ZZ TOP: THAT LITTLE OL' BAND FROM TEXAS</td>\n",
       "      <td>United Kingdom, Canada, United States</td>\n",
       "      <td>March 1, 2020</td>\n",
       "      <td>2019</td>\n",
       "      <td>TV-MA</td>\n",
       "      <td>90 min</td>\n",
       "      <td>Documentaries, Music &amp; Musicals</td>\n",
       "      <td>Adults</td>\n",
       "      <td>2020</td>\n",
       "      <td>March</td>\n",
       "    </tr>\n",
       "  </tbody>\n",
       "</table>\n",
       "<p>7777 rows × 11 columns</p>\n",
       "</div>"
      ],
      "text/plain": [
       "         type                                    title  \\\n",
       "0     TV Show                                       3%   \n",
       "1       Movie                                     7:19   \n",
       "2       Movie                                    23:59   \n",
       "3       Movie                                        9   \n",
       "4       Movie                                       21   \n",
       "...       ...                                      ...   \n",
       "7782    Movie                                     Zozo   \n",
       "7783    Movie                                   Zubaan   \n",
       "7784    Movie                        Zulu Man in Japan   \n",
       "7785  TV Show                    Zumbo's Just Desserts   \n",
       "7786    Movie  ZZ TOP: THAT LITTLE OL' BAND FROM TEXAS   \n",
       "\n",
       "                                                country          date_added  \\\n",
       "0                                                Brazil     August 14, 2020   \n",
       "1                                                Mexico   December 23, 2016   \n",
       "2                                             Singapore   December 20, 2018   \n",
       "3                                         United States   November 16, 2017   \n",
       "4                                         United States     January 1, 2020   \n",
       "...                                                 ...                 ...   \n",
       "7782  Sweden, Czech Republic, United Kingdom, Denmar...    October 19, 2020   \n",
       "7783                                              India       March 2, 2019   \n",
       "7784                                      United States  September 25, 2020   \n",
       "7785                                          Australia    October 31, 2020   \n",
       "7786              United Kingdom, Canada, United States       March 1, 2020   \n",
       "\n",
       "      release_year rating   duration  \\\n",
       "0             2020  TV-MA  4 Seasons   \n",
       "1             2016  TV-MA     93 min   \n",
       "2             2011      R     78 min   \n",
       "3             2009  PG-13     80 min   \n",
       "4             2008  PG-13    123 min   \n",
       "...            ...    ...        ...   \n",
       "7782          2005  TV-MA     99 min   \n",
       "7783          2015  TV-14    111 min   \n",
       "7784          2019  TV-MA     44 min   \n",
       "7785          2019  TV-PG   1 Season   \n",
       "7786          2019  TV-MA     90 min   \n",
       "\n",
       "                                              listed_in target_ages  \\\n",
       "0     International TV Shows, TV Dramas, TV Sci-Fi &...      Adults   \n",
       "1                          Dramas, International Movies      Adults   \n",
       "2                   Horror Movies, International Movies      Adults   \n",
       "3     Action & Adventure, Independent Movies, Sci-Fi...       Teens   \n",
       "4                                                Dramas       Teens   \n",
       "...                                                 ...         ...   \n",
       "7782                       Dramas, International Movies      Adults   \n",
       "7783     Dramas, International Movies, Music & Musicals       Teens   \n",
       "7784  Documentaries, International Movies, Music & M...      Adults   \n",
       "7785                 International TV Shows, Reality TV  Older Kids   \n",
       "7786                    Documentaries, Music & Musicals      Adults   \n",
       "\n",
       "     year_added month_added  \n",
       "0          2020      August  \n",
       "1          2016    December  \n",
       "2          2018    December  \n",
       "3          2017    November  \n",
       "4          2020     January  \n",
       "...         ...         ...  \n",
       "7782       2020     October  \n",
       "7783       2019       March  \n",
       "7784       2020   September  \n",
       "7785       2020     October  \n",
       "7786       2020       March  \n",
       "\n",
       "[7777 rows x 11 columns]"
      ]
     },
     "execution_count": 118,
     "metadata": {},
     "output_type": "execute_result"
    }
   ],
   "source": [
    "df.replace({'TV Show': 0, 'Movie': 1}, df[\"type\"]) #replace tv show with 0 and movie with 1"
   ]
  },
  {
   "cell_type": "code",
   "execution_count": 119,
   "id": "instrumental-tracy",
   "metadata": {
    "execution": {
     "iopub.execute_input": "2021-06-30T02:51:29.348882Z",
     "iopub.status.busy": "2021-06-30T02:51:29.347873Z",
     "iopub.status.idle": "2021-06-30T02:51:29.353689Z",
     "shell.execute_reply": "2021-06-30T02:51:29.354232Z",
     "shell.execute_reply.started": "2021-06-30T02:48:11.891679Z"
    },
    "id": "oyOShUB1sRDn",
    "outputId": "bab7d9d9-9d5b-4855-dd07-405d3a6653df",
    "papermill": {
     "duration": 0.124903,
     "end_time": "2021-06-30T02:51:29.354428",
     "exception": false,
     "start_time": "2021-06-30T02:51:29.229525",
     "status": "completed"
    },
    "scrolled": true,
    "tags": []
   },
   "outputs": [
    {
     "data": {
      "text/html": [
       "<div>\n",
       "<style scoped>\n",
       "    .dataframe tbody tr th:only-of-type {\n",
       "        vertical-align: middle;\n",
       "    }\n",
       "\n",
       "    .dataframe tbody tr th {\n",
       "        vertical-align: top;\n",
       "    }\n",
       "\n",
       "    .dataframe thead th {\n",
       "        text-align: right;\n",
       "    }\n",
       "</style>\n",
       "<table border=\"1\" class=\"dataframe\">\n",
       "  <thead>\n",
       "    <tr style=\"text-align: right;\">\n",
       "      <th></th>\n",
       "      <th>type</th>\n",
       "      <th>title</th>\n",
       "      <th>country</th>\n",
       "      <th>date_added</th>\n",
       "      <th>release_year</th>\n",
       "      <th>rating</th>\n",
       "      <th>duration</th>\n",
       "      <th>listed_in</th>\n",
       "      <th>target_ages</th>\n",
       "      <th>year_added</th>\n",
       "      <th>month_added</th>\n",
       "    </tr>\n",
       "  </thead>\n",
       "  <tbody>\n",
       "    <tr>\n",
       "      <th>0</th>\n",
       "      <td>TV Show</td>\n",
       "      <td>3%</td>\n",
       "      <td>Brazil</td>\n",
       "      <td>August 14, 2020</td>\n",
       "      <td>2020</td>\n",
       "      <td>TV-MA</td>\n",
       "      <td>4 Seasons</td>\n",
       "      <td>International TV Shows, TV Dramas, TV Sci-Fi &amp;...</td>\n",
       "      <td>Adults</td>\n",
       "      <td>2020</td>\n",
       "      <td>August</td>\n",
       "    </tr>\n",
       "    <tr>\n",
       "      <th>1</th>\n",
       "      <td>Movie</td>\n",
       "      <td>7:19</td>\n",
       "      <td>Mexico</td>\n",
       "      <td>December 23, 2016</td>\n",
       "      <td>2016</td>\n",
       "      <td>TV-MA</td>\n",
       "      <td>93 min</td>\n",
       "      <td>Dramas, International Movies</td>\n",
       "      <td>Adults</td>\n",
       "      <td>2016</td>\n",
       "      <td>December</td>\n",
       "    </tr>\n",
       "    <tr>\n",
       "      <th>2</th>\n",
       "      <td>Movie</td>\n",
       "      <td>23:59</td>\n",
       "      <td>Singapore</td>\n",
       "      <td>December 20, 2018</td>\n",
       "      <td>2011</td>\n",
       "      <td>R</td>\n",
       "      <td>78 min</td>\n",
       "      <td>Horror Movies, International Movies</td>\n",
       "      <td>Adults</td>\n",
       "      <td>2018</td>\n",
       "      <td>December</td>\n",
       "    </tr>\n",
       "    <tr>\n",
       "      <th>3</th>\n",
       "      <td>Movie</td>\n",
       "      <td>9</td>\n",
       "      <td>United States</td>\n",
       "      <td>November 16, 2017</td>\n",
       "      <td>2009</td>\n",
       "      <td>PG-13</td>\n",
       "      <td>80 min</td>\n",
       "      <td>Action &amp; Adventure, Independent Movies, Sci-Fi...</td>\n",
       "      <td>Teens</td>\n",
       "      <td>2017</td>\n",
       "      <td>November</td>\n",
       "    </tr>\n",
       "    <tr>\n",
       "      <th>4</th>\n",
       "      <td>Movie</td>\n",
       "      <td>21</td>\n",
       "      <td>United States</td>\n",
       "      <td>January 1, 2020</td>\n",
       "      <td>2008</td>\n",
       "      <td>PG-13</td>\n",
       "      <td>123 min</td>\n",
       "      <td>Dramas</td>\n",
       "      <td>Teens</td>\n",
       "      <td>2020</td>\n",
       "      <td>January</td>\n",
       "    </tr>\n",
       "    <tr>\n",
       "      <th>...</th>\n",
       "      <td>...</td>\n",
       "      <td>...</td>\n",
       "      <td>...</td>\n",
       "      <td>...</td>\n",
       "      <td>...</td>\n",
       "      <td>...</td>\n",
       "      <td>...</td>\n",
       "      <td>...</td>\n",
       "      <td>...</td>\n",
       "      <td>...</td>\n",
       "      <td>...</td>\n",
       "    </tr>\n",
       "    <tr>\n",
       "      <th>7782</th>\n",
       "      <td>Movie</td>\n",
       "      <td>Zozo</td>\n",
       "      <td>Sweden, Czech Republic, United Kingdom, Denmar...</td>\n",
       "      <td>October 19, 2020</td>\n",
       "      <td>2005</td>\n",
       "      <td>TV-MA</td>\n",
       "      <td>99 min</td>\n",
       "      <td>Dramas, International Movies</td>\n",
       "      <td>Adults</td>\n",
       "      <td>2020</td>\n",
       "      <td>October</td>\n",
       "    </tr>\n",
       "    <tr>\n",
       "      <th>7783</th>\n",
       "      <td>Movie</td>\n",
       "      <td>Zubaan</td>\n",
       "      <td>India</td>\n",
       "      <td>March 2, 2019</td>\n",
       "      <td>2015</td>\n",
       "      <td>TV-14</td>\n",
       "      <td>111 min</td>\n",
       "      <td>Dramas, International Movies, Music &amp; Musicals</td>\n",
       "      <td>Teens</td>\n",
       "      <td>2019</td>\n",
       "      <td>March</td>\n",
       "    </tr>\n",
       "    <tr>\n",
       "      <th>7784</th>\n",
       "      <td>Movie</td>\n",
       "      <td>Zulu Man in Japan</td>\n",
       "      <td>United States</td>\n",
       "      <td>September 25, 2020</td>\n",
       "      <td>2019</td>\n",
       "      <td>TV-MA</td>\n",
       "      <td>44 min</td>\n",
       "      <td>Documentaries, International Movies, Music &amp; M...</td>\n",
       "      <td>Adults</td>\n",
       "      <td>2020</td>\n",
       "      <td>September</td>\n",
       "    </tr>\n",
       "    <tr>\n",
       "      <th>7785</th>\n",
       "      <td>TV Show</td>\n",
       "      <td>Zumbo's Just Desserts</td>\n",
       "      <td>Australia</td>\n",
       "      <td>October 31, 2020</td>\n",
       "      <td>2019</td>\n",
       "      <td>TV-PG</td>\n",
       "      <td>1 Season</td>\n",
       "      <td>International TV Shows, Reality TV</td>\n",
       "      <td>Older Kids</td>\n",
       "      <td>2020</td>\n",
       "      <td>October</td>\n",
       "    </tr>\n",
       "    <tr>\n",
       "      <th>7786</th>\n",
       "      <td>Movie</td>\n",
       "      <td>ZZ TOP: THAT LITTLE OL' BAND FROM TEXAS</td>\n",
       "      <td>United Kingdom, Canada, United States</td>\n",
       "      <td>March 1, 2020</td>\n",
       "      <td>2019</td>\n",
       "      <td>TV-MA</td>\n",
       "      <td>90 min</td>\n",
       "      <td>Documentaries, Music &amp; Musicals</td>\n",
       "      <td>Adults</td>\n",
       "      <td>2020</td>\n",
       "      <td>March</td>\n",
       "    </tr>\n",
       "  </tbody>\n",
       "</table>\n",
       "<p>7777 rows × 11 columns</p>\n",
       "</div>"
      ],
      "text/plain": [
       "         type                                    title  \\\n",
       "0     TV Show                                       3%   \n",
       "1       Movie                                     7:19   \n",
       "2       Movie                                    23:59   \n",
       "3       Movie                                        9   \n",
       "4       Movie                                       21   \n",
       "...       ...                                      ...   \n",
       "7782    Movie                                     Zozo   \n",
       "7783    Movie                                   Zubaan   \n",
       "7784    Movie                        Zulu Man in Japan   \n",
       "7785  TV Show                    Zumbo's Just Desserts   \n",
       "7786    Movie  ZZ TOP: THAT LITTLE OL' BAND FROM TEXAS   \n",
       "\n",
       "                                                country          date_added  \\\n",
       "0                                                Brazil     August 14, 2020   \n",
       "1                                                Mexico   December 23, 2016   \n",
       "2                                             Singapore   December 20, 2018   \n",
       "3                                         United States   November 16, 2017   \n",
       "4                                         United States     January 1, 2020   \n",
       "...                                                 ...                 ...   \n",
       "7782  Sweden, Czech Republic, United Kingdom, Denmar...    October 19, 2020   \n",
       "7783                                              India       March 2, 2019   \n",
       "7784                                      United States  September 25, 2020   \n",
       "7785                                          Australia    October 31, 2020   \n",
       "7786              United Kingdom, Canada, United States       March 1, 2020   \n",
       "\n",
       "      release_year rating   duration  \\\n",
       "0             2020  TV-MA  4 Seasons   \n",
       "1             2016  TV-MA     93 min   \n",
       "2             2011      R     78 min   \n",
       "3             2009  PG-13     80 min   \n",
       "4             2008  PG-13    123 min   \n",
       "...            ...    ...        ...   \n",
       "7782          2005  TV-MA     99 min   \n",
       "7783          2015  TV-14    111 min   \n",
       "7784          2019  TV-MA     44 min   \n",
       "7785          2019  TV-PG   1 Season   \n",
       "7786          2019  TV-MA     90 min   \n",
       "\n",
       "                                              listed_in target_ages  \\\n",
       "0     International TV Shows, TV Dramas, TV Sci-Fi &...      Adults   \n",
       "1                          Dramas, International Movies      Adults   \n",
       "2                   Horror Movies, International Movies      Adults   \n",
       "3     Action & Adventure, Independent Movies, Sci-Fi...       Teens   \n",
       "4                                                Dramas       Teens   \n",
       "...                                                 ...         ...   \n",
       "7782                       Dramas, International Movies      Adults   \n",
       "7783     Dramas, International Movies, Music & Musicals       Teens   \n",
       "7784  Documentaries, International Movies, Music & M...      Adults   \n",
       "7785                 International TV Shows, Reality TV  Older Kids   \n",
       "7786                    Documentaries, Music & Musicals      Adults   \n",
       "\n",
       "     year_added month_added  \n",
       "0          2020      August  \n",
       "1          2016    December  \n",
       "2          2018    December  \n",
       "3          2017    November  \n",
       "4          2020     January  \n",
       "...         ...         ...  \n",
       "7782       2020     October  \n",
       "7783       2019       March  \n",
       "7784       2020   September  \n",
       "7785       2020     October  \n",
       "7786       2020       March  \n",
       "\n",
       "[7777 rows x 11 columns]"
      ]
     },
     "execution_count": 119,
     "metadata": {},
     "output_type": "execute_result"
    }
   ],
   "source": [
    "df"
   ]
  },
  {
   "cell_type": "markdown",
   "id": "6ec3e75d",
   "metadata": {},
   "source": [
    "## Step 2 Insights:-\n",
    "1. We have total 42 features where 32 of them are integer type while others are object type.\n",
    "2. Replacing ratings ages with some category (older kids , adults , teens , kids)\n",
    "3. Drop cast,director,show id,description columns. \n",
    "4. Create a new year_added and month_added  column with the help of date_added column."
   ]
  },
  {
   "cell_type": "markdown",
   "id": "driven-finder",
   "metadata": {
    "id": "X2MjLCSi3S9v",
    "papermill": {
     "duration": 0.095312,
     "end_time": "2021-06-30T02:51:29.546698",
     "exception": false,
     "start_time": "2021-06-30T02:51:29.451386",
     "status": "completed"
    },
    "tags": []
   },
   "source": [
    "# Step 3: Descriptive Analysis\n",
    "\n",
    "Goal/Purpose:-\n",
    "Things we are going to do in this step:\n",
    "\n",
    "1. Mean\n",
    "2. Median\n",
    "3. Mode\n",
    "4. Standard Deviation\n",
    "5. Variance\n",
    "6. Null Values\n",
    "7. NaN Values\n",
    "8. Min value\n",
    "9. Max value\n",
    "10. Count Value\n",
    "11. Quatilers\n",
    "12. Correlation\n",
    "13. Skewness\n"
   ]
  },
  {
   "cell_type": "code",
   "execution_count": 120,
   "id": "aeb0b77e",
   "metadata": {},
   "outputs": [
    {
     "data": {
      "text/html": [
       "<div>\n",
       "<style scoped>\n",
       "    .dataframe tbody tr th:only-of-type {\n",
       "        vertical-align: middle;\n",
       "    }\n",
       "\n",
       "    .dataframe tbody tr th {\n",
       "        vertical-align: top;\n",
       "    }\n",
       "\n",
       "    .dataframe thead th {\n",
       "        text-align: right;\n",
       "    }\n",
       "</style>\n",
       "<table border=\"1\" class=\"dataframe\">\n",
       "  <thead>\n",
       "    <tr style=\"text-align: right;\">\n",
       "      <th></th>\n",
       "      <th>type</th>\n",
       "      <th>title</th>\n",
       "      <th>country</th>\n",
       "      <th>date_added</th>\n",
       "      <th>release_year</th>\n",
       "      <th>rating</th>\n",
       "      <th>duration</th>\n",
       "      <th>listed_in</th>\n",
       "      <th>target_ages</th>\n",
       "      <th>year_added</th>\n",
       "      <th>month_added</th>\n",
       "    </tr>\n",
       "  </thead>\n",
       "  <tbody>\n",
       "    <tr>\n",
       "      <th>count</th>\n",
       "      <td>7777</td>\n",
       "      <td>7777</td>\n",
       "      <td>7777</td>\n",
       "      <td>7777</td>\n",
       "      <td>7777.000000</td>\n",
       "      <td>7777</td>\n",
       "      <td>7777</td>\n",
       "      <td>7777</td>\n",
       "      <td>7777</td>\n",
       "      <td>7777</td>\n",
       "      <td>7777</td>\n",
       "    </tr>\n",
       "    <tr>\n",
       "      <th>unique</th>\n",
       "      <td>2</td>\n",
       "      <td>7777</td>\n",
       "      <td>681</td>\n",
       "      <td>1565</td>\n",
       "      <td>NaN</td>\n",
       "      <td>14</td>\n",
       "      <td>216</td>\n",
       "      <td>491</td>\n",
       "      <td>4</td>\n",
       "      <td>14</td>\n",
       "      <td>13</td>\n",
       "    </tr>\n",
       "    <tr>\n",
       "      <th>top</th>\n",
       "      <td>Movie</td>\n",
       "      <td>3%</td>\n",
       "      <td>United States</td>\n",
       "      <td>January 1, 2020</td>\n",
       "      <td>NaN</td>\n",
       "      <td>TV-MA</td>\n",
       "      <td>1 Season</td>\n",
       "      <td>Documentaries</td>\n",
       "      <td>Adults</td>\n",
       "      <td>2019</td>\n",
       "      <td>December</td>\n",
       "    </tr>\n",
       "    <tr>\n",
       "      <th>freq</th>\n",
       "      <td>5377</td>\n",
       "      <td>1</td>\n",
       "      <td>3055</td>\n",
       "      <td>118</td>\n",
       "      <td>NaN</td>\n",
       "      <td>2868</td>\n",
       "      <td>1608</td>\n",
       "      <td>334</td>\n",
       "      <td>3624</td>\n",
       "      <td>2153</td>\n",
       "      <td>817</td>\n",
       "    </tr>\n",
       "    <tr>\n",
       "      <th>mean</th>\n",
       "      <td>NaN</td>\n",
       "      <td>NaN</td>\n",
       "      <td>NaN</td>\n",
       "      <td>NaN</td>\n",
       "      <td>2013.935965</td>\n",
       "      <td>NaN</td>\n",
       "      <td>NaN</td>\n",
       "      <td>NaN</td>\n",
       "      <td>NaN</td>\n",
       "      <td>NaN</td>\n",
       "      <td>NaN</td>\n",
       "    </tr>\n",
       "    <tr>\n",
       "      <th>std</th>\n",
       "      <td>NaN</td>\n",
       "      <td>NaN</td>\n",
       "      <td>NaN</td>\n",
       "      <td>NaN</td>\n",
       "      <td>8.760694</td>\n",
       "      <td>NaN</td>\n",
       "      <td>NaN</td>\n",
       "      <td>NaN</td>\n",
       "      <td>NaN</td>\n",
       "      <td>NaN</td>\n",
       "      <td>NaN</td>\n",
       "    </tr>\n",
       "    <tr>\n",
       "      <th>min</th>\n",
       "      <td>NaN</td>\n",
       "      <td>NaN</td>\n",
       "      <td>NaN</td>\n",
       "      <td>NaN</td>\n",
       "      <td>1925.000000</td>\n",
       "      <td>NaN</td>\n",
       "      <td>NaN</td>\n",
       "      <td>NaN</td>\n",
       "      <td>NaN</td>\n",
       "      <td>NaN</td>\n",
       "      <td>NaN</td>\n",
       "    </tr>\n",
       "    <tr>\n",
       "      <th>25%</th>\n",
       "      <td>NaN</td>\n",
       "      <td>NaN</td>\n",
       "      <td>NaN</td>\n",
       "      <td>NaN</td>\n",
       "      <td>2013.000000</td>\n",
       "      <td>NaN</td>\n",
       "      <td>NaN</td>\n",
       "      <td>NaN</td>\n",
       "      <td>NaN</td>\n",
       "      <td>NaN</td>\n",
       "      <td>NaN</td>\n",
       "    </tr>\n",
       "    <tr>\n",
       "      <th>50%</th>\n",
       "      <td>NaN</td>\n",
       "      <td>NaN</td>\n",
       "      <td>NaN</td>\n",
       "      <td>NaN</td>\n",
       "      <td>2017.000000</td>\n",
       "      <td>NaN</td>\n",
       "      <td>NaN</td>\n",
       "      <td>NaN</td>\n",
       "      <td>NaN</td>\n",
       "      <td>NaN</td>\n",
       "      <td>NaN</td>\n",
       "    </tr>\n",
       "    <tr>\n",
       "      <th>75%</th>\n",
       "      <td>NaN</td>\n",
       "      <td>NaN</td>\n",
       "      <td>NaN</td>\n",
       "      <td>NaN</td>\n",
       "      <td>2018.000000</td>\n",
       "      <td>NaN</td>\n",
       "      <td>NaN</td>\n",
       "      <td>NaN</td>\n",
       "      <td>NaN</td>\n",
       "      <td>NaN</td>\n",
       "      <td>NaN</td>\n",
       "    </tr>\n",
       "    <tr>\n",
       "      <th>max</th>\n",
       "      <td>NaN</td>\n",
       "      <td>NaN</td>\n",
       "      <td>NaN</td>\n",
       "      <td>NaN</td>\n",
       "      <td>2021.000000</td>\n",
       "      <td>NaN</td>\n",
       "      <td>NaN</td>\n",
       "      <td>NaN</td>\n",
       "      <td>NaN</td>\n",
       "      <td>NaN</td>\n",
       "      <td>NaN</td>\n",
       "    </tr>\n",
       "  </tbody>\n",
       "</table>\n",
       "</div>"
      ],
      "text/plain": [
       "         type title        country       date_added  release_year rating  \\\n",
       "count    7777  7777           7777             7777   7777.000000   7777   \n",
       "unique      2  7777            681             1565           NaN     14   \n",
       "top     Movie    3%  United States  January 1, 2020           NaN  TV-MA   \n",
       "freq     5377     1           3055              118           NaN   2868   \n",
       "mean      NaN   NaN            NaN              NaN   2013.935965    NaN   \n",
       "std       NaN   NaN            NaN              NaN      8.760694    NaN   \n",
       "min       NaN   NaN            NaN              NaN   1925.000000    NaN   \n",
       "25%       NaN   NaN            NaN              NaN   2013.000000    NaN   \n",
       "50%       NaN   NaN            NaN              NaN   2017.000000    NaN   \n",
       "75%       NaN   NaN            NaN              NaN   2018.000000    NaN   \n",
       "max       NaN   NaN            NaN              NaN   2021.000000    NaN   \n",
       "\n",
       "        duration      listed_in target_ages year_added month_added  \n",
       "count       7777           7777        7777       7777        7777  \n",
       "unique       216            491           4         14          13  \n",
       "top     1 Season  Documentaries      Adults       2019    December  \n",
       "freq        1608            334        3624       2153         817  \n",
       "mean         NaN            NaN         NaN        NaN         NaN  \n",
       "std          NaN            NaN         NaN        NaN         NaN  \n",
       "min          NaN            NaN         NaN        NaN         NaN  \n",
       "25%          NaN            NaN         NaN        NaN         NaN  \n",
       "50%          NaN            NaN         NaN        NaN         NaN  \n",
       "75%          NaN            NaN         NaN        NaN         NaN  \n",
       "max          NaN            NaN         NaN        NaN         NaN  "
      ]
     },
     "execution_count": 120,
     "metadata": {},
     "output_type": "execute_result"
    }
   ],
   "source": [
    "df.describe(include='all')"
   ]
  },
  {
   "cell_type": "markdown",
   "id": "9ecd4427",
   "metadata": {},
   "source": [
    "## Measure the variability of data of the dataset\n",
    "Variability describes how far apart data points lie from each other and from the center of a distribution.\n",
    "\n",
    "## 1. Standard Deviation\n",
    "The standard deviation is the average amount of variability in your dataset.\n",
    "\n",
    "It tells you, on average, how far each data point lies from the mean. The larger the standard deviation, the more variable the data set is and if zero variance then there is no variability in the dataset that means there no use of that dataset."
   ]
  },
  {
   "cell_type": "code",
   "execution_count": 121,
   "id": "e3fcaea4",
   "metadata": {},
   "outputs": [
    {
     "data": {
      "text/plain": [
       "release_year    8.760694\n",
       "dtype: float64"
      ]
     },
     "execution_count": 121,
     "metadata": {},
     "output_type": "execute_result"
    }
   ],
   "source": [
    "df.std()"
   ]
  },
  {
   "cell_type": "code",
   "execution_count": 122,
   "id": "899ea777",
   "metadata": {},
   "outputs": [
    {
     "data": {
      "text/html": [
       "<div>\n",
       "<style scoped>\n",
       "    .dataframe tbody tr th:only-of-type {\n",
       "        vertical-align: middle;\n",
       "    }\n",
       "\n",
       "    .dataframe tbody tr th {\n",
       "        vertical-align: top;\n",
       "    }\n",
       "\n",
       "    .dataframe thead th {\n",
       "        text-align: right;\n",
       "    }\n",
       "</style>\n",
       "<table border=\"1\" class=\"dataframe\">\n",
       "  <thead>\n",
       "    <tr style=\"text-align: right;\">\n",
       "      <th></th>\n",
       "      <th>normal_value</th>\n",
       "      <th>zero_value</th>\n",
       "    </tr>\n",
       "  </thead>\n",
       "  <tbody>\n",
       "    <tr>\n",
       "      <th>0</th>\n",
       "      <td>1</td>\n",
       "      <td>0</td>\n",
       "    </tr>\n",
       "  </tbody>\n",
       "</table>\n",
       "</div>"
      ],
      "text/plain": [
       "   normal_value  zero_value\n",
       "0             1           0"
      ]
     },
     "execution_count": 122,
     "metadata": {},
     "output_type": "execute_result"
    }
   ],
   "source": [
    "def std_cal(df,int64_lst):\n",
    "    \n",
    "    cols = ['normal_value', 'zero_value']\n",
    "    zero_value = 0\n",
    "    normal_value = 0\n",
    "    \n",
    "    for value in int64_lst:\n",
    "    \n",
    "        rs = round(df[value].std(),6)\n",
    "\n",
    "        if rs > 0:\n",
    "            normal_value = normal_value + 1\n",
    "\n",
    "        elif rs == 0:\n",
    "            zero_value = zero_value + 1\n",
    "    \n",
    "    std_total_df =  pd.DataFrame([[normal_value, zero_value]], columns=cols) \n",
    "    \n",
    "    return std_total_df\n",
    "std_cal(df, int64_lst)"
   ]
  },
  {
   "cell_type": "markdown",
   "id": "c42f67c7",
   "metadata": {},
   "source": [
    "## 2. Variance\n",
    "The variance is the average of squared deviations from the mean. A deviation from the mean is how far a score lies from the mean.\n",
    "\n",
    "Variance is the square of the standard deviation. This means that the units of variance are much larger than those of a typical value of a data set."
   ]
  },
  {
   "cell_type": "code",
   "execution_count": 123,
   "id": "2926d7cf",
   "metadata": {},
   "outputs": [
    {
     "data": {
      "text/plain": [
       "release_year    76.749757\n",
       "dtype: float64"
      ]
     },
     "execution_count": 123,
     "metadata": {},
     "output_type": "execute_result"
    }
   ],
   "source": [
    "df.var()"
   ]
  },
  {
   "cell_type": "code",
   "execution_count": 124,
   "id": "cba2e765",
   "metadata": {},
   "outputs": [
    {
     "data": {
      "text/html": [
       "<div>\n",
       "<style scoped>\n",
       "    .dataframe tbody tr th:only-of-type {\n",
       "        vertical-align: middle;\n",
       "    }\n",
       "\n",
       "    .dataframe tbody tr th {\n",
       "        vertical-align: top;\n",
       "    }\n",
       "\n",
       "    .dataframe thead th {\n",
       "        text-align: right;\n",
       "    }\n",
       "</style>\n",
       "<table border=\"1\" class=\"dataframe\">\n",
       "  <thead>\n",
       "    <tr style=\"text-align: right;\">\n",
       "      <th></th>\n",
       "      <th>normal_value</th>\n",
       "      <th>zero_value</th>\n",
       "    </tr>\n",
       "  </thead>\n",
       "  <tbody>\n",
       "    <tr>\n",
       "      <th>0</th>\n",
       "      <td>1</td>\n",
       "      <td>0</td>\n",
       "    </tr>\n",
       "  </tbody>\n",
       "</table>\n",
       "</div>"
      ],
      "text/plain": [
       "   normal_value  zero_value\n",
       "0             1           0"
      ]
     },
     "execution_count": 124,
     "metadata": {},
     "output_type": "execute_result"
    }
   ],
   "source": [
    "zero_cols = []\n",
    "\n",
    "def var_cal(df,int64_lst):\n",
    "    \n",
    "    cols = ['normal_value', 'zero_value']\n",
    "    zero_value = 0\n",
    "    normal_value = 0\n",
    "    \n",
    "    for value in int64_lst:\n",
    "    \n",
    "        rs = round(df[value].var(),6)\n",
    "\n",
    "        if rs > 0:\n",
    "            normal_value = normal_value + 1\n",
    "\n",
    "        elif rs == 0:\n",
    "            zero_value = zero_value + 1\n",
    "            zero_cols.append(value)\n",
    "    \n",
    "    var_total_df =  pd.DataFrame([[normal_value, zero_value]], columns=cols) \n",
    "    \n",
    "    return var_total_df\n",
    "var_cal(df, int64_lst)"
   ]
  },
  {
   "cell_type": "markdown",
   "id": "d7a9e354",
   "metadata": {},
   "source": [
    "## Measure central tendency\n",
    "A measure of central tendency is a single value that attempts to describe a set of data by identifying the central position within that set of data. As such, measures of central tendency are sometimes called measures of central location. They are also classed as summary statistics.\n",
    "\n",
    "## 1. Mean\n",
    "The mean is the arithmetic average, and it is probably the measure of central tendency that you are most familiar."
   ]
  },
  {
   "cell_type": "code",
   "execution_count": 125,
   "id": "94f71aaf",
   "metadata": {},
   "outputs": [
    {
     "data": {
      "text/plain": [
       "release_year    2013.935965\n",
       "year_added              inf\n",
       "dtype: float64"
      ]
     },
     "execution_count": 125,
     "metadata": {},
     "output_type": "execute_result"
    }
   ],
   "source": [
    "df.mean()"
   ]
  },
  {
   "cell_type": "code",
   "execution_count": 126,
   "id": "48070c2a",
   "metadata": {},
   "outputs": [
    {
     "data": {
      "text/html": [
       "<div>\n",
       "<style scoped>\n",
       "    .dataframe tbody tr th:only-of-type {\n",
       "        vertical-align: middle;\n",
       "    }\n",
       "\n",
       "    .dataframe tbody tr th {\n",
       "        vertical-align: top;\n",
       "    }\n",
       "\n",
       "    .dataframe thead th {\n",
       "        text-align: right;\n",
       "    }\n",
       "</style>\n",
       "<table border=\"1\" class=\"dataframe\">\n",
       "  <thead>\n",
       "    <tr style=\"text-align: right;\">\n",
       "      <th></th>\n",
       "      <th>normal_value</th>\n",
       "      <th>zero_value</th>\n",
       "    </tr>\n",
       "  </thead>\n",
       "  <tbody>\n",
       "    <tr>\n",
       "      <th>0</th>\n",
       "      <td>1</td>\n",
       "      <td>0</td>\n",
       "    </tr>\n",
       "  </tbody>\n",
       "</table>\n",
       "</div>"
      ],
      "text/plain": [
       "   normal_value  zero_value\n",
       "0             1           0"
      ]
     },
     "execution_count": 126,
     "metadata": {},
     "output_type": "execute_result"
    }
   ],
   "source": [
    "def mean_cal(df,int64_lst):\n",
    "    \n",
    "    cols = ['normal_value', 'zero_value']\n",
    "    zero_value = 0\n",
    "    normal_value = 0\n",
    "    \n",
    "    for value in int64_lst:\n",
    "    \n",
    "        rs = round(df[value].mean(),6)\n",
    "\n",
    "        if rs > 0:\n",
    "            normal_value = normal_value + 1\n",
    "\n",
    "        elif rs == 0:\n",
    "            zero_value = zero_value + 1\n",
    "    \n",
    "    mean_total_df =  pd.DataFrame([[normal_value, zero_value]], columns=cols) \n",
    "    \n",
    "    return mean_total_df\n",
    "mean_cal(df, int64_lst)"
   ]
  },
  {
   "cell_type": "markdown",
   "id": "19858e39",
   "metadata": {},
   "source": [
    "## 2. Median\n",
    "The median is the middle value. It is the value that splits the dataset in half."
   ]
  },
  {
   "cell_type": "code",
   "execution_count": 127,
   "id": "0e907d7d",
   "metadata": {},
   "outputs": [
    {
     "data": {
      "text/plain": [
       "release_year    2017.0\n",
       "year_added      2019.0\n",
       "dtype: float64"
      ]
     },
     "execution_count": 127,
     "metadata": {},
     "output_type": "execute_result"
    }
   ],
   "source": [
    "df.median()"
   ]
  },
  {
   "cell_type": "code",
   "execution_count": 128,
   "id": "806c33d1",
   "metadata": {},
   "outputs": [
    {
     "data": {
      "text/html": [
       "<div>\n",
       "<style scoped>\n",
       "    .dataframe tbody tr th:only-of-type {\n",
       "        vertical-align: middle;\n",
       "    }\n",
       "\n",
       "    .dataframe tbody tr th {\n",
       "        vertical-align: top;\n",
       "    }\n",
       "\n",
       "    .dataframe thead th {\n",
       "        text-align: right;\n",
       "    }\n",
       "</style>\n",
       "<table border=\"1\" class=\"dataframe\">\n",
       "  <thead>\n",
       "    <tr style=\"text-align: right;\">\n",
       "      <th></th>\n",
       "      <th>normal_value</th>\n",
       "      <th>zero_value</th>\n",
       "    </tr>\n",
       "  </thead>\n",
       "  <tbody>\n",
       "    <tr>\n",
       "      <th>0</th>\n",
       "      <td>1</td>\n",
       "      <td>0</td>\n",
       "    </tr>\n",
       "  </tbody>\n",
       "</table>\n",
       "</div>"
      ],
      "text/plain": [
       "   normal_value  zero_value\n",
       "0             1           0"
      ]
     },
     "execution_count": 128,
     "metadata": {},
     "output_type": "execute_result"
    }
   ],
   "source": [
    "def median_cal(df,int64_lst):\n",
    "    \n",
    "    cols = ['normal_value', 'zero_value']\n",
    "    zero_value = 0\n",
    "    normal_value = 0\n",
    "    \n",
    "    for value in int64_lst:\n",
    "    \n",
    "        rs = round(df[value].mean(),6)\n",
    "\n",
    "        if rs > 0:\n",
    "            normal_value = normal_value + 1\n",
    "\n",
    "        elif rs == 0:\n",
    "            zero_value = zero_value + 1\n",
    "    \n",
    "    median_total_df =  pd.DataFrame([[normal_value, zero_value]], columns=cols) \n",
    "    \n",
    "    return median_total_df\n",
    "median_cal(df, int64_lst)"
   ]
  },
  {
   "cell_type": "markdown",
   "id": "e6c2bb68",
   "metadata": {},
   "source": [
    "A variable that is always zero will necessarily have mean and median zero.\n",
    "\n",
    "A variable that can in principle be only zero or positive can only have mean zero if all values in practice are zero. On the other hand, such a variable can and will have median zero if more than half of the values are zero. Such variables are very common and include counts and indicators (commonly, variables that are 1 or 0)."
   ]
  },
  {
   "cell_type": "markdown",
   "id": "165cd2df",
   "metadata": {},
   "source": [
    "## 3. Mode\n",
    "The mode is the value that occurs the most frequently in your data set. On a bar chart, the mode is the highest bar. If the data have multiple values that are tied for occurring the most frequently, you have a multimodal distribution. If no value repeats, the data do not have a mode."
   ]
  },
  {
   "cell_type": "code",
   "execution_count": 129,
   "id": "8301e867",
   "metadata": {},
   "outputs": [
    {
     "data": {
      "text/html": [
       "<div>\n",
       "<style scoped>\n",
       "    .dataframe tbody tr th:only-of-type {\n",
       "        vertical-align: middle;\n",
       "    }\n",
       "\n",
       "    .dataframe tbody tr th {\n",
       "        vertical-align: top;\n",
       "    }\n",
       "\n",
       "    .dataframe thead th {\n",
       "        text-align: right;\n",
       "    }\n",
       "</style>\n",
       "<table border=\"1\" class=\"dataframe\">\n",
       "  <thead>\n",
       "    <tr style=\"text-align: right;\">\n",
       "      <th></th>\n",
       "      <th>normal_value</th>\n",
       "      <th>zero_value</th>\n",
       "      <th>string_value</th>\n",
       "    </tr>\n",
       "  </thead>\n",
       "  <tbody>\n",
       "    <tr>\n",
       "      <th>0</th>\n",
       "      <td>1</td>\n",
       "      <td>0</td>\n",
       "      <td>10</td>\n",
       "    </tr>\n",
       "  </tbody>\n",
       "</table>\n",
       "</div>"
      ],
      "text/plain": [
       "   normal_value  zero_value  string_value\n",
       "0             1           0            10"
      ]
     },
     "execution_count": 129,
     "metadata": {},
     "output_type": "execute_result"
    }
   ],
   "source": [
    "def mode_cal(df,int64_lst):\n",
    "    \n",
    "    cols = ['normal_value', 'zero_value', 'string_value']\n",
    "    zero_value = 0\n",
    "    normal_value = 0\n",
    "    string_value = 0\n",
    "    \n",
    "    for value in int64_lst:\n",
    "                \n",
    "        rs = df[value].mode()[0]\n",
    "        \n",
    "        if isinstance(rs, str):\n",
    "            string_value = string_value + 1\n",
    "        else:\n",
    "\n",
    "            if rs > 0:\n",
    "                normal_value = normal_value + 1\n",
    "\n",
    "            elif rs == 0:\n",
    "                zero_value = zero_value + 1\n",
    "    \n",
    "    mode_total_df =  pd.DataFrame([[normal_value, zero_value, string_value]], columns=cols) \n",
    "    \n",
    "    return mode_total_df\n",
    "mode_cal(df, list(df.columns))"
   ]
  },
  {
   "cell_type": "code",
   "execution_count": 130,
   "id": "1ef5b803",
   "metadata": {
    "execution": {
     "iopub.execute_input": "2021-06-30T02:51:24.737976Z",
     "iopub.status.busy": "2021-06-30T02:51:24.737295Z",
     "iopub.status.idle": "2021-06-30T02:51:24.764188Z",
     "shell.execute_reply": "2021-06-30T02:51:24.763632Z",
     "shell.execute_reply.started": "2021-06-30T02:48:10.382002Z"
    },
    "id": "LHTnMgtzveSS",
    "outputId": "efe5cf9e-bb7a-46f8-b1dc-a1aa4b88eb41",
    "papermill": {
     "duration": 0.12265,
     "end_time": "2021-06-30T02:51:24.764337",
     "exception": false,
     "start_time": "2021-06-30T02:51:24.641687",
     "status": "completed"
    },
    "tags": []
   },
   "outputs": [
    {
     "data": {
      "text/plain": [
       "0"
      ]
     },
     "execution_count": 130,
     "metadata": {},
     "output_type": "execute_result"
    }
   ],
   "source": [
    "df.duplicated().sum() #check for duplicate value"
   ]
  },
  {
   "cell_type": "markdown",
   "id": "94ebc26d",
   "metadata": {},
   "source": [
    "# Null and Nan values\n",
    "## 1. Null Values"
   ]
  },
  {
   "cell_type": "code",
   "execution_count": 131,
   "id": "7fb39df5",
   "metadata": {
    "execution": {
     "iopub.execute_input": "2021-06-30T02:51:24.962771Z",
     "iopub.status.busy": "2021-06-30T02:51:24.960026Z",
     "iopub.status.idle": "2021-06-30T02:51:24.967626Z",
     "shell.execute_reply": "2021-06-30T02:51:24.967107Z",
     "shell.execute_reply.started": "2021-06-30T02:48:10.467064Z"
    },
    "id": "3Zg7SmvFvo83",
    "outputId": "f36028e6-3f67-4639-df0b-f5b4ea56e50f",
    "papermill": {
     "duration": 0.112522,
     "end_time": "2021-06-30T02:51:24.967769",
     "exception": false,
     "start_time": "2021-06-30T02:51:24.855247",
     "status": "completed"
    },
    "tags": []
   },
   "outputs": [
    {
     "data": {
      "text/plain": [
       "type            0\n",
       "title           0\n",
       "country         0\n",
       "date_added      0\n",
       "release_year    0\n",
       "rating          0\n",
       "duration        0\n",
       "listed_in       0\n",
       "target_ages     0\n",
       "year_added      0\n",
       "month_added     0\n",
       "dtype: int64"
      ]
     },
     "execution_count": 131,
     "metadata": {},
     "output_type": "execute_result"
    }
   ],
   "source": [
    "df.isnull().sum() #null value"
   ]
  },
  {
   "cell_type": "code",
   "execution_count": 132,
   "id": "db940987",
   "metadata": {},
   "outputs": [
    {
     "data": {
      "text/plain": [
       "type            0\n",
       "title           0\n",
       "country         0\n",
       "date_added      0\n",
       "release_year    0\n",
       "rating          0\n",
       "duration        0\n",
       "listed_in       0\n",
       "target_ages     0\n",
       "year_added      0\n",
       "month_added     0\n",
       "dtype: int64"
      ]
     },
     "execution_count": 132,
     "metadata": {},
     "output_type": "execute_result"
    }
   ],
   "source": [
    "df.isna().sum()"
   ]
  },
  {
   "cell_type": "markdown",
   "id": "e8cd0fc9",
   "metadata": {},
   "source": [
    "## Count of unique occurences of every value in all categorical value"
   ]
  },
  {
   "cell_type": "code",
   "execution_count": 133,
   "id": "906c4e35",
   "metadata": {},
   "outputs": [
    {
     "ename": "KeyError",
     "evalue": "'show_id'",
     "output_type": "error",
     "traceback": [
      "\u001b[1;31m---------------------------------------------------------------------------\u001b[0m",
      "\u001b[1;31mKeyError\u001b[0m                                  Traceback (most recent call last)",
      "\u001b[1;32m~\\anaconda3\\lib\\site-packages\\pandas\\core\\indexes\\base.py\u001b[0m in \u001b[0;36mget_loc\u001b[1;34m(self, key, method, tolerance)\u001b[0m\n\u001b[0;32m   3360\u001b[0m             \u001b[1;32mtry\u001b[0m\u001b[1;33m:\u001b[0m\u001b[1;33m\u001b[0m\u001b[1;33m\u001b[0m\u001b[0m\n\u001b[1;32m-> 3361\u001b[1;33m                 \u001b[1;32mreturn\u001b[0m \u001b[0mself\u001b[0m\u001b[1;33m.\u001b[0m\u001b[0m_engine\u001b[0m\u001b[1;33m.\u001b[0m\u001b[0mget_loc\u001b[0m\u001b[1;33m(\u001b[0m\u001b[0mcasted_key\u001b[0m\u001b[1;33m)\u001b[0m\u001b[1;33m\u001b[0m\u001b[1;33m\u001b[0m\u001b[0m\n\u001b[0m\u001b[0;32m   3362\u001b[0m             \u001b[1;32mexcept\u001b[0m \u001b[0mKeyError\u001b[0m \u001b[1;32mas\u001b[0m \u001b[0merr\u001b[0m\u001b[1;33m:\u001b[0m\u001b[1;33m\u001b[0m\u001b[1;33m\u001b[0m\u001b[0m\n",
      "\u001b[1;32m~\\anaconda3\\lib\\site-packages\\pandas\\_libs\\index.pyx\u001b[0m in \u001b[0;36mpandas._libs.index.IndexEngine.get_loc\u001b[1;34m()\u001b[0m\n",
      "\u001b[1;32m~\\anaconda3\\lib\\site-packages\\pandas\\_libs\\index.pyx\u001b[0m in \u001b[0;36mpandas._libs.index.IndexEngine.get_loc\u001b[1;34m()\u001b[0m\n",
      "\u001b[1;32mpandas\\_libs\\hashtable_class_helper.pxi\u001b[0m in \u001b[0;36mpandas._libs.hashtable.PyObjectHashTable.get_item\u001b[1;34m()\u001b[0m\n",
      "\u001b[1;32mpandas\\_libs\\hashtable_class_helper.pxi\u001b[0m in \u001b[0;36mpandas._libs.hashtable.PyObjectHashTable.get_item\u001b[1;34m()\u001b[0m\n",
      "\u001b[1;31mKeyError\u001b[0m: 'show_id'",
      "\nThe above exception was the direct cause of the following exception:\n",
      "\u001b[1;31mKeyError\u001b[0m                                  Traceback (most recent call last)",
      "\u001b[1;32m~\\AppData\\Local\\Temp/ipykernel_35692/4027181006.py\u001b[0m in \u001b[0;36m<module>\u001b[1;34m\u001b[0m\n\u001b[0;32m      1\u001b[0m \u001b[1;32mfor\u001b[0m \u001b[0mvalue\u001b[0m \u001b[1;32min\u001b[0m \u001b[0mobjects_lst\u001b[0m\u001b[1;33m:\u001b[0m\u001b[1;33m\u001b[0m\u001b[1;33m\u001b[0m\u001b[0m\n\u001b[0;32m      2\u001b[0m \u001b[1;33m\u001b[0m\u001b[0m\n\u001b[1;32m----> 3\u001b[1;33m     \u001b[0mprint\u001b[0m\u001b[1;33m(\u001b[0m\u001b[0mvalue\u001b[0m\u001b[1;33m,\u001b[0m\u001b[0mdf\u001b[0m\u001b[1;33m[\u001b[0m\u001b[0mvalue\u001b[0m\u001b[1;33m]\u001b[0m\u001b[1;33m.\u001b[0m\u001b[0mvalue_counts\u001b[0m\u001b[1;33m(\u001b[0m\u001b[1;33m)\u001b[0m\u001b[1;33m)\u001b[0m\u001b[1;33m\u001b[0m\u001b[1;33m\u001b[0m\u001b[0m\n\u001b[0m",
      "\u001b[1;32m~\\anaconda3\\lib\\site-packages\\pandas\\core\\frame.py\u001b[0m in \u001b[0;36m__getitem__\u001b[1;34m(self, key)\u001b[0m\n\u001b[0;32m   3456\u001b[0m             \u001b[1;32mif\u001b[0m \u001b[0mself\u001b[0m\u001b[1;33m.\u001b[0m\u001b[0mcolumns\u001b[0m\u001b[1;33m.\u001b[0m\u001b[0mnlevels\u001b[0m \u001b[1;33m>\u001b[0m \u001b[1;36m1\u001b[0m\u001b[1;33m:\u001b[0m\u001b[1;33m\u001b[0m\u001b[1;33m\u001b[0m\u001b[0m\n\u001b[0;32m   3457\u001b[0m                 \u001b[1;32mreturn\u001b[0m \u001b[0mself\u001b[0m\u001b[1;33m.\u001b[0m\u001b[0m_getitem_multilevel\u001b[0m\u001b[1;33m(\u001b[0m\u001b[0mkey\u001b[0m\u001b[1;33m)\u001b[0m\u001b[1;33m\u001b[0m\u001b[1;33m\u001b[0m\u001b[0m\n\u001b[1;32m-> 3458\u001b[1;33m             \u001b[0mindexer\u001b[0m \u001b[1;33m=\u001b[0m \u001b[0mself\u001b[0m\u001b[1;33m.\u001b[0m\u001b[0mcolumns\u001b[0m\u001b[1;33m.\u001b[0m\u001b[0mget_loc\u001b[0m\u001b[1;33m(\u001b[0m\u001b[0mkey\u001b[0m\u001b[1;33m)\u001b[0m\u001b[1;33m\u001b[0m\u001b[1;33m\u001b[0m\u001b[0m\n\u001b[0m\u001b[0;32m   3459\u001b[0m             \u001b[1;32mif\u001b[0m \u001b[0mis_integer\u001b[0m\u001b[1;33m(\u001b[0m\u001b[0mindexer\u001b[0m\u001b[1;33m)\u001b[0m\u001b[1;33m:\u001b[0m\u001b[1;33m\u001b[0m\u001b[1;33m\u001b[0m\u001b[0m\n\u001b[0;32m   3460\u001b[0m                 \u001b[0mindexer\u001b[0m \u001b[1;33m=\u001b[0m \u001b[1;33m[\u001b[0m\u001b[0mindexer\u001b[0m\u001b[1;33m]\u001b[0m\u001b[1;33m\u001b[0m\u001b[1;33m\u001b[0m\u001b[0m\n",
      "\u001b[1;32m~\\anaconda3\\lib\\site-packages\\pandas\\core\\indexes\\base.py\u001b[0m in \u001b[0;36mget_loc\u001b[1;34m(self, key, method, tolerance)\u001b[0m\n\u001b[0;32m   3361\u001b[0m                 \u001b[1;32mreturn\u001b[0m \u001b[0mself\u001b[0m\u001b[1;33m.\u001b[0m\u001b[0m_engine\u001b[0m\u001b[1;33m.\u001b[0m\u001b[0mget_loc\u001b[0m\u001b[1;33m(\u001b[0m\u001b[0mcasted_key\u001b[0m\u001b[1;33m)\u001b[0m\u001b[1;33m\u001b[0m\u001b[1;33m\u001b[0m\u001b[0m\n\u001b[0;32m   3362\u001b[0m             \u001b[1;32mexcept\u001b[0m \u001b[0mKeyError\u001b[0m \u001b[1;32mas\u001b[0m \u001b[0merr\u001b[0m\u001b[1;33m:\u001b[0m\u001b[1;33m\u001b[0m\u001b[1;33m\u001b[0m\u001b[0m\n\u001b[1;32m-> 3363\u001b[1;33m                 \u001b[1;32mraise\u001b[0m \u001b[0mKeyError\u001b[0m\u001b[1;33m(\u001b[0m\u001b[0mkey\u001b[0m\u001b[1;33m)\u001b[0m \u001b[1;32mfrom\u001b[0m \u001b[0merr\u001b[0m\u001b[1;33m\u001b[0m\u001b[1;33m\u001b[0m\u001b[0m\n\u001b[0m\u001b[0;32m   3364\u001b[0m \u001b[1;33m\u001b[0m\u001b[0m\n\u001b[0;32m   3365\u001b[0m         \u001b[1;32mif\u001b[0m \u001b[0mis_scalar\u001b[0m\u001b[1;33m(\u001b[0m\u001b[0mkey\u001b[0m\u001b[1;33m)\u001b[0m \u001b[1;32mand\u001b[0m \u001b[0misna\u001b[0m\u001b[1;33m(\u001b[0m\u001b[0mkey\u001b[0m\u001b[1;33m)\u001b[0m \u001b[1;32mand\u001b[0m \u001b[1;32mnot\u001b[0m \u001b[0mself\u001b[0m\u001b[1;33m.\u001b[0m\u001b[0mhasnans\u001b[0m\u001b[1;33m:\u001b[0m\u001b[1;33m\u001b[0m\u001b[1;33m\u001b[0m\u001b[0m\n",
      "\u001b[1;31mKeyError\u001b[0m: 'show_id'"
     ]
    }
   ],
   "source": [
    "for value in objects_lst:\n",
    "    \n",
    "    print(value,df[value].value_counts())"
   ]
  },
  {
   "cell_type": "markdown",
   "id": "e6cc5929",
   "metadata": {},
   "source": [
    "## Skewness of the columns"
   ]
  },
  {
   "cell_type": "code",
   "execution_count": 134,
   "id": "50ae8722",
   "metadata": {},
   "outputs": [],
   "source": [
    "def right_nor_left(df, int64_lst):\n",
    "    \n",
    "    temp_skewness = ['column', 'skewness_value', 'skewness (+ve or -ve)']\n",
    "    temp_skewness_values  = []\n",
    "    \n",
    "    temp_total = [\"positive (+ve) skewed\", \"normal distrbution\" , \"negative (-ve) skewed\"]\n",
    "    positive = 0\n",
    "    negative = 0\n",
    "    normal = 0\n",
    "    \n",
    "    for value in int64_lst:\n",
    "    \n",
    "        rs = round(df[value].skew(),4)\n",
    "\n",
    "        if rs > 0:\n",
    "            temp_skewness_values.append([value,rs , \"positive (+ve) skewed\"])   \n",
    "            positive = positive + 1\n",
    "\n",
    "        elif rs == 0:\n",
    "            temp_skewness_values.append([value,rs,\"normal distrbution\"])\n",
    "            normal = normal + 1\n",
    "\n",
    "        elif rs < 0:\n",
    "            temp_skewness_values.append([value,rs, \"negative (-ve) skewed\"])\n",
    "            negative = negative + 1\n",
    "    \n",
    "    skewness_df =  pd.DataFrame(temp_skewness_values, columns=temp_skewness) \n",
    "    skewness_total_df =  pd.DataFrame([[positive, normal, negative]], columns=temp_total) \n",
    "    \n",
    "    return skewness_df, skewness_total_df"
   ]
  },
  {
   "cell_type": "code",
   "execution_count": 135,
   "id": "48421f1e",
   "metadata": {},
   "outputs": [],
   "source": [
    "int64_cols = ['int64']\n",
    "int64_lst_col = list(df.select_dtypes(include=int64_cols).columns)\n",
    "\n",
    "skew_df,skew_total_df = right_nor_left(df, int64_lst_col)"
   ]
  },
  {
   "cell_type": "code",
   "execution_count": 136,
   "id": "dd639ce5",
   "metadata": {},
   "outputs": [
    {
     "data": {
      "text/html": [
       "<div>\n",
       "<style scoped>\n",
       "    .dataframe tbody tr th:only-of-type {\n",
       "        vertical-align: middle;\n",
       "    }\n",
       "\n",
       "    .dataframe tbody tr th {\n",
       "        vertical-align: top;\n",
       "    }\n",
       "\n",
       "    .dataframe thead th {\n",
       "        text-align: right;\n",
       "    }\n",
       "</style>\n",
       "<table border=\"1\" class=\"dataframe\">\n",
       "  <thead>\n",
       "    <tr style=\"text-align: right;\">\n",
       "      <th></th>\n",
       "      <th>column</th>\n",
       "      <th>skewness_value</th>\n",
       "      <th>skewness (+ve or -ve)</th>\n",
       "    </tr>\n",
       "  </thead>\n",
       "  <tbody>\n",
       "    <tr>\n",
       "      <th>0</th>\n",
       "      <td>release_year</td>\n",
       "      <td>-3.6204</td>\n",
       "      <td>negative (-ve) skewed</td>\n",
       "    </tr>\n",
       "  </tbody>\n",
       "</table>\n",
       "</div>"
      ],
      "text/plain": [
       "         column  skewness_value  skewness (+ve or -ve)\n",
       "0  release_year         -3.6204  negative (-ve) skewed"
      ]
     },
     "execution_count": 136,
     "metadata": {},
     "output_type": "execute_result"
    }
   ],
   "source": [
    "skew_df"
   ]
  },
  {
   "cell_type": "code",
   "execution_count": 137,
   "id": "31e63745",
   "metadata": {},
   "outputs": [
    {
     "data": {
      "text/html": [
       "<div>\n",
       "<style scoped>\n",
       "    .dataframe tbody tr th:only-of-type {\n",
       "        vertical-align: middle;\n",
       "    }\n",
       "\n",
       "    .dataframe tbody tr th {\n",
       "        vertical-align: top;\n",
       "    }\n",
       "\n",
       "    .dataframe thead th {\n",
       "        text-align: right;\n",
       "    }\n",
       "</style>\n",
       "<table border=\"1\" class=\"dataframe\">\n",
       "  <thead>\n",
       "    <tr style=\"text-align: right;\">\n",
       "      <th></th>\n",
       "      <th>positive (+ve) skewed</th>\n",
       "      <th>normal distrbution</th>\n",
       "      <th>negative (-ve) skewed</th>\n",
       "    </tr>\n",
       "  </thead>\n",
       "  <tbody>\n",
       "    <tr>\n",
       "      <th>0</th>\n",
       "      <td>0</td>\n",
       "      <td>0</td>\n",
       "      <td>1</td>\n",
       "    </tr>\n",
       "  </tbody>\n",
       "</table>\n",
       "</div>"
      ],
      "text/plain": [
       "   positive (+ve) skewed  normal distrbution  negative (-ve) skewed\n",
       "0                      0                   0                      1"
      ]
     },
     "execution_count": 137,
     "metadata": {},
     "output_type": "execute_result"
    }
   ],
   "source": [
    "skew_total_df"
   ]
  },
  {
   "cell_type": "markdown",
   "id": "6001b655",
   "metadata": {},
   "source": [
    "we notice with the above results that we have following details:\n",
    "\n",
    "1 is negative skewed\n"
   ]
  },
  {
   "cell_type": "markdown",
   "id": "64398b04",
   "metadata": {},
   "source": [
    "## Step 3 Insights:-\n",
    "With the statistical analysis we have found that the data have a lot of skewness in them mostly are +vely skewed while most of the columns have zero varience"
   ]
  },
  {
   "cell_type": "markdown",
   "id": "1a63a683",
   "metadata": {},
   "source": [
    "# Step 4: Data Exploration\n",
    "## Goal/Purpose:-\n",
    "Graphs we are going to develop in this step\n",
    "\n",
    "1. Histogram of all columns to check the distrubution of the columns\n",
    "2. Distplot or distribution plot of all columns to check the variation in the data distribution\n",
    "3. Heatmap to calculate correlation within feature variables\n",
    "4. Boxplot to find out outlier in the feature columns\n",
    "\n",
    "## 1. Histogram"
   ]
  },
  {
   "cell_type": "code",
   "execution_count": 138,
   "id": "9afc5a22",
   "metadata": {},
   "outputs": [
    {
     "data": {
      "image/png": "[encoded data removed]",
      "text/plain": [
       "<Figure size 2160x1440 with 1 Axes>"
      ]
     },
     "metadata": {
      "needs_background": "light"
     },
     "output_type": "display_data"
    }
   ],
   "source": [
    "# Distribution in attributes\n",
    "%matplotlib inline\n",
    "import matplotlib.pyplot as plt\n",
    "df.hist(bins=50, figsize=(30,20))\n",
    "plt.show()"
   ]
  },
  {
   "cell_type": "markdown",
   "id": "91f2ee93",
   "metadata": {},
   "source": [
    "## 2. Distplot"
   ]
  },
  {
   "cell_type": "code",
   "execution_count": 139,
   "id": "e9fd056a",
   "metadata": {},
   "outputs": [
    {
     "data": {
      "text/plain": [
       "<seaborn.axisgrid.FacetGrid at 0x259090c1700>"
      ]
     },
     "execution_count": 139,
     "metadata": {},
     "output_type": "execute_result"
    },
    {
     "data": {
      "image/png": "[encoded data removed]",
      "text/plain": [
       "<Figure size 864x216 with 1 Axes>"
      ]
     },
     "metadata": {
      "needs_background": "light"
     },
     "output_type": "display_data"
    }
   ],
   "source": [
    "num = [f for f in df.columns if df.dtypes[f] != 'object']\n",
    "nd = pd.melt(df, value_vars = num)\n",
    "n1 = sns.FacetGrid (nd, col='variable', col_wrap=4, sharex=False, sharey = False)\n",
    "n1 = n1.map(sns.distplot, 'value')\n",
    "n1"
   ]
  },
  {
   "cell_type": "markdown",
   "id": "1af87071",
   "metadata": {},
   "source": [
    "above we draw distrution bar graphs to confirm about statiscts of the data that we got our data have skewness so here also we notice with the above results that we have following details:\n",
    "\n",
    "1 is negative skewed\n",
    "\n",
    "## Let's proceed and check the distribution of the target variable."
   ]
  },
  {
   "cell_type": "code",
   "execution_count": 140,
   "id": "f6c3f49c",
   "metadata": {},
   "outputs": [
    {
     "data": {
      "image/png": "[encoded data removed]",
      "text/plain": [
       "<Figure size 432x288 with 1 Axes>"
      ]
     },
     "metadata": {
      "needs_background": "light"
     },
     "output_type": "display_data"
    }
   ],
   "source": [
    "sns.distplot(df['release_year'])\n",
    "plt.show()"
   ]
  },
  {
   "cell_type": "markdown",
   "id": "0141314d",
   "metadata": {},
   "source": [
    "# 3. Heatmap\n",
    "## Correlation within feature variables\n",
    "\n",
    "Correlation - A positive correlation is a relationship between two variables in which both variables move in the same direction. Therefore, when one variable increases as the other variable increases, or one variable decreases while the other decreases.\n",
    "\n",
    "## Correlation can have a value:\n",
    "1. 1 is a perfect positive correlation\n",
    "2. 0 is no correlation (the values don't seem linked at all)\n",
    "3. -1 is a perfect negative correlation\n"
   ]
  },
  {
   "cell_type": "code",
   "execution_count": 141,
   "id": "b6678b7e",
   "metadata": {},
   "outputs": [
    {
     "data": {
      "image/png": "[encoded data removed]",
      "text/plain": [
       "<Figure size 432x288 with 2 Axes>"
      ]
     },
     "metadata": {
      "needs_background": "light"
     },
     "output_type": "display_data"
    }
   ],
   "source": [
    "#correlation plot\n",
    "corr = df.corr().abs()\n",
    "sns.heatmap(corr)\n",
    "plt.show()"
   ]
  },
  {
   "cell_type": "code",
   "execution_count": 142,
   "id": "d2cfca16",
   "metadata": {},
   "outputs": [
    {
     "data": {
      "text/html": [
       "<div>\n",
       "<style scoped>\n",
       "    .dataframe tbody tr th:only-of-type {\n",
       "        vertical-align: middle;\n",
       "    }\n",
       "\n",
       "    .dataframe tbody tr th {\n",
       "        vertical-align: top;\n",
       "    }\n",
       "\n",
       "    .dataframe thead th {\n",
       "        text-align: right;\n",
       "    }\n",
       "</style>\n",
       "<table border=\"1\" class=\"dataframe\">\n",
       "  <thead>\n",
       "    <tr style=\"text-align: right;\">\n",
       "      <th></th>\n",
       "      <th>release_year</th>\n",
       "    </tr>\n",
       "  </thead>\n",
       "  <tbody>\n",
       "    <tr>\n",
       "      <th>release_year</th>\n",
       "      <td>1.0</td>\n",
       "    </tr>\n",
       "  </tbody>\n",
       "</table>\n",
       "</div>"
      ],
      "text/plain": [
       "              release_year\n",
       "release_year           1.0"
      ]
     },
     "execution_count": 142,
     "metadata": {},
     "output_type": "execute_result"
    }
   ],
   "source": [
    "corr"
   ]
  },
  {
   "cell_type": "code",
   "execution_count": 143,
   "id": "e7300d52",
   "metadata": {},
   "outputs": [],
   "source": [
    "# Create correlation matrix\n",
    "corr_matrix = df.corr().abs()\n",
    "\n",
    "# Select upper triangle of correlation matrix\n",
    "upper = corr_matrix.where(np.triu(np.ones(corr_matrix.shape), k=1).astype(np.bool))\n",
    "\n",
    "# Find index of feature columns with correlation greater than 0.8\n",
    "to_drop = [column for column in upper.columns if any(upper[column] > 0.8)]"
   ]
  },
  {
   "cell_type": "code",
   "execution_count": 144,
   "id": "0cf648bd",
   "metadata": {},
   "outputs": [
    {
     "data": {
      "text/plain": [
       "[]"
      ]
     },
     "execution_count": 144,
     "metadata": {},
     "output_type": "execute_result"
    }
   ],
   "source": [
    "to_drop"
   ]
  },
  {
   "cell_type": "code",
   "execution_count": 145,
   "id": "aa65850c",
   "metadata": {},
   "outputs": [
    {
     "ename": "KeyError",
     "evalue": "\"['days'] not in index\"",
     "output_type": "error",
     "traceback": [
      "\u001b[1;31m---------------------------------------------------------------------------\u001b[0m",
      "\u001b[1;31mKeyError\u001b[0m                                  Traceback (most recent call last)",
      "\u001b[1;32m~\\AppData\\Local\\Temp/ipykernel_35692/2946006172.py\u001b[0m in \u001b[0;36m<module>\u001b[1;34m\u001b[0m\n\u001b[0;32m      1\u001b[0m \u001b[1;32mfor\u001b[0m \u001b[0mvalue\u001b[0m \u001b[1;32min\u001b[0m \u001b[0mint64_lst_col\u001b[0m\u001b[1;33m:\u001b[0m\u001b[1;33m\u001b[0m\u001b[1;33m\u001b[0m\u001b[0m\n\u001b[1;32m----> 2\u001b[1;33m     \u001b[0msns\u001b[0m\u001b[1;33m.\u001b[0m\u001b[0mlmplot\u001b[0m\u001b[1;33m(\u001b[0m\u001b[0mx\u001b[0m\u001b[1;33m=\u001b[0m\u001b[0mvalue\u001b[0m\u001b[1;33m,\u001b[0m \u001b[0my\u001b[0m\u001b[1;33m=\u001b[0m\u001b[1;34m\"days\"\u001b[0m\u001b[1;33m,\u001b[0m \u001b[0mdata\u001b[0m\u001b[1;33m=\u001b[0m\u001b[0mdf\u001b[0m\u001b[1;33m)\u001b[0m\u001b[1;33m;\u001b[0m\u001b[1;33m\u001b[0m\u001b[1;33m\u001b[0m\u001b[0m\n\u001b[0m\u001b[0;32m      3\u001b[0m \u001b[1;33m\u001b[0m\u001b[0m\n\u001b[0;32m      4\u001b[0m \u001b[0mplt\u001b[0m\u001b[1;33m.\u001b[0m\u001b[0mshow\u001b[0m\u001b[1;33m(\u001b[0m\u001b[1;33m)\u001b[0m\u001b[1;33m\u001b[0m\u001b[1;33m\u001b[0m\u001b[0m\n",
      "\u001b[1;32m~\\anaconda3\\lib\\site-packages\\seaborn\\_decorators.py\u001b[0m in \u001b[0;36minner_f\u001b[1;34m(*args, **kwargs)\u001b[0m\n\u001b[0;32m     44\u001b[0m             )\n\u001b[0;32m     45\u001b[0m         \u001b[0mkwargs\u001b[0m\u001b[1;33m.\u001b[0m\u001b[0mupdate\u001b[0m\u001b[1;33m(\u001b[0m\u001b[1;33m{\u001b[0m\u001b[0mk\u001b[0m\u001b[1;33m:\u001b[0m \u001b[0marg\u001b[0m \u001b[1;32mfor\u001b[0m \u001b[0mk\u001b[0m\u001b[1;33m,\u001b[0m \u001b[0marg\u001b[0m \u001b[1;32min\u001b[0m \u001b[0mzip\u001b[0m\u001b[1;33m(\u001b[0m\u001b[0msig\u001b[0m\u001b[1;33m.\u001b[0m\u001b[0mparameters\u001b[0m\u001b[1;33m,\u001b[0m \u001b[0margs\u001b[0m\u001b[1;33m)\u001b[0m\u001b[1;33m}\u001b[0m\u001b[1;33m)\u001b[0m\u001b[1;33m\u001b[0m\u001b[1;33m\u001b[0m\u001b[0m\n\u001b[1;32m---> 46\u001b[1;33m         \u001b[1;32mreturn\u001b[0m \u001b[0mf\u001b[0m\u001b[1;33m(\u001b[0m\u001b[1;33m**\u001b[0m\u001b[0mkwargs\u001b[0m\u001b[1;33m)\u001b[0m\u001b[1;33m\u001b[0m\u001b[1;33m\u001b[0m\u001b[0m\n\u001b[0m\u001b[0;32m     47\u001b[0m     \u001b[1;32mreturn\u001b[0m \u001b[0minner_f\u001b[0m\u001b[1;33m\u001b[0m\u001b[1;33m\u001b[0m\u001b[0m\n\u001b[0;32m     48\u001b[0m \u001b[1;33m\u001b[0m\u001b[0m\n",
      "\u001b[1;32m~\\anaconda3\\lib\\site-packages\\seaborn\\regression.py\u001b[0m in \u001b[0;36mlmplot\u001b[1;34m(x, y, data, hue, col, row, palette, col_wrap, height, aspect, markers, sharex, sharey, hue_order, col_order, row_order, legend, legend_out, x_estimator, x_bins, x_ci, scatter, fit_reg, ci, n_boot, units, seed, order, logistic, lowess, robust, logx, x_partial, y_partial, truncate, x_jitter, y_jitter, scatter_kws, line_kws, facet_kws, size)\u001b[0m\n\u001b[0;32m    603\u001b[0m     \u001b[0mneed_cols\u001b[0m \u001b[1;33m=\u001b[0m \u001b[1;33m[\u001b[0m\u001b[0mx\u001b[0m\u001b[1;33m,\u001b[0m \u001b[0my\u001b[0m\u001b[1;33m,\u001b[0m \u001b[0mhue\u001b[0m\u001b[1;33m,\u001b[0m \u001b[0mcol\u001b[0m\u001b[1;33m,\u001b[0m \u001b[0mrow\u001b[0m\u001b[1;33m,\u001b[0m \u001b[0munits\u001b[0m\u001b[1;33m,\u001b[0m \u001b[0mx_partial\u001b[0m\u001b[1;33m,\u001b[0m \u001b[0my_partial\u001b[0m\u001b[1;33m]\u001b[0m\u001b[1;33m\u001b[0m\u001b[1;33m\u001b[0m\u001b[0m\n\u001b[0;32m    604\u001b[0m     \u001b[0mcols\u001b[0m \u001b[1;33m=\u001b[0m \u001b[0mnp\u001b[0m\u001b[1;33m.\u001b[0m\u001b[0munique\u001b[0m\u001b[1;33m(\u001b[0m\u001b[1;33m[\u001b[0m\u001b[0ma\u001b[0m \u001b[1;32mfor\u001b[0m \u001b[0ma\u001b[0m \u001b[1;32min\u001b[0m \u001b[0mneed_cols\u001b[0m \u001b[1;32mif\u001b[0m \u001b[0ma\u001b[0m \u001b[1;32mis\u001b[0m \u001b[1;32mnot\u001b[0m \u001b[1;32mNone\u001b[0m\u001b[1;33m]\u001b[0m\u001b[1;33m)\u001b[0m\u001b[1;33m.\u001b[0m\u001b[0mtolist\u001b[0m\u001b[1;33m(\u001b[0m\u001b[1;33m)\u001b[0m\u001b[1;33m\u001b[0m\u001b[1;33m\u001b[0m\u001b[0m\n\u001b[1;32m--> 605\u001b[1;33m     \u001b[0mdata\u001b[0m \u001b[1;33m=\u001b[0m \u001b[0mdata\u001b[0m\u001b[1;33m[\u001b[0m\u001b[0mcols\u001b[0m\u001b[1;33m]\u001b[0m\u001b[1;33m\u001b[0m\u001b[1;33m\u001b[0m\u001b[0m\n\u001b[0m\u001b[0;32m    606\u001b[0m \u001b[1;33m\u001b[0m\u001b[0m\n\u001b[0;32m    607\u001b[0m     \u001b[1;31m# Initialize the grid\u001b[0m\u001b[1;33m\u001b[0m\u001b[1;33m\u001b[0m\u001b[0m\n",
      "\u001b[1;32m~\\anaconda3\\lib\\site-packages\\pandas\\core\\frame.py\u001b[0m in \u001b[0;36m__getitem__\u001b[1;34m(self, key)\u001b[0m\n\u001b[0;32m   3462\u001b[0m             \u001b[1;32mif\u001b[0m \u001b[0mis_iterator\u001b[0m\u001b[1;33m(\u001b[0m\u001b[0mkey\u001b[0m\u001b[1;33m)\u001b[0m\u001b[1;33m:\u001b[0m\u001b[1;33m\u001b[0m\u001b[1;33m\u001b[0m\u001b[0m\n\u001b[0;32m   3463\u001b[0m                 \u001b[0mkey\u001b[0m \u001b[1;33m=\u001b[0m \u001b[0mlist\u001b[0m\u001b[1;33m(\u001b[0m\u001b[0mkey\u001b[0m\u001b[1;33m)\u001b[0m\u001b[1;33m\u001b[0m\u001b[1;33m\u001b[0m\u001b[0m\n\u001b[1;32m-> 3464\u001b[1;33m             \u001b[0mindexer\u001b[0m \u001b[1;33m=\u001b[0m \u001b[0mself\u001b[0m\u001b[1;33m.\u001b[0m\u001b[0mloc\u001b[0m\u001b[1;33m.\u001b[0m\u001b[0m_get_listlike_indexer\u001b[0m\u001b[1;33m(\u001b[0m\u001b[0mkey\u001b[0m\u001b[1;33m,\u001b[0m \u001b[0maxis\u001b[0m\u001b[1;33m=\u001b[0m\u001b[1;36m1\u001b[0m\u001b[1;33m)\u001b[0m\u001b[1;33m[\u001b[0m\u001b[1;36m1\u001b[0m\u001b[1;33m]\u001b[0m\u001b[1;33m\u001b[0m\u001b[1;33m\u001b[0m\u001b[0m\n\u001b[0m\u001b[0;32m   3465\u001b[0m \u001b[1;33m\u001b[0m\u001b[0m\n\u001b[0;32m   3466\u001b[0m         \u001b[1;31m# take() does not accept boolean indexers\u001b[0m\u001b[1;33m\u001b[0m\u001b[1;33m\u001b[0m\u001b[0m\n",
      "\u001b[1;32m~\\anaconda3\\lib\\site-packages\\pandas\\core\\indexing.py\u001b[0m in \u001b[0;36m_get_listlike_indexer\u001b[1;34m(self, key, axis)\u001b[0m\n\u001b[0;32m   1312\u001b[0m             \u001b[0mkeyarr\u001b[0m\u001b[1;33m,\u001b[0m \u001b[0mindexer\u001b[0m\u001b[1;33m,\u001b[0m \u001b[0mnew_indexer\u001b[0m \u001b[1;33m=\u001b[0m \u001b[0max\u001b[0m\u001b[1;33m.\u001b[0m\u001b[0m_reindex_non_unique\u001b[0m\u001b[1;33m(\u001b[0m\u001b[0mkeyarr\u001b[0m\u001b[1;33m)\u001b[0m\u001b[1;33m\u001b[0m\u001b[1;33m\u001b[0m\u001b[0m\n\u001b[0;32m   1313\u001b[0m \u001b[1;33m\u001b[0m\u001b[0m\n\u001b[1;32m-> 1314\u001b[1;33m         \u001b[0mself\u001b[0m\u001b[1;33m.\u001b[0m\u001b[0m_validate_read_indexer\u001b[0m\u001b[1;33m(\u001b[0m\u001b[0mkeyarr\u001b[0m\u001b[1;33m,\u001b[0m \u001b[0mindexer\u001b[0m\u001b[1;33m,\u001b[0m \u001b[0maxis\u001b[0m\u001b[1;33m)\u001b[0m\u001b[1;33m\u001b[0m\u001b[1;33m\u001b[0m\u001b[0m\n\u001b[0m\u001b[0;32m   1315\u001b[0m \u001b[1;33m\u001b[0m\u001b[0m\n\u001b[0;32m   1316\u001b[0m         if needs_i8_conversion(ax.dtype) or isinstance(\n",
      "\u001b[1;32m~\\anaconda3\\lib\\site-packages\\pandas\\core\\indexing.py\u001b[0m in \u001b[0;36m_validate_read_indexer\u001b[1;34m(self, key, indexer, axis)\u001b[0m\n\u001b[0;32m   1375\u001b[0m \u001b[1;33m\u001b[0m\u001b[0m\n\u001b[0;32m   1376\u001b[0m             \u001b[0mnot_found\u001b[0m \u001b[1;33m=\u001b[0m \u001b[0mlist\u001b[0m\u001b[1;33m(\u001b[0m\u001b[0mensure_index\u001b[0m\u001b[1;33m(\u001b[0m\u001b[0mkey\u001b[0m\u001b[1;33m)\u001b[0m\u001b[1;33m[\u001b[0m\u001b[0mmissing_mask\u001b[0m\u001b[1;33m.\u001b[0m\u001b[0mnonzero\u001b[0m\u001b[1;33m(\u001b[0m\u001b[1;33m)\u001b[0m\u001b[1;33m[\u001b[0m\u001b[1;36m0\u001b[0m\u001b[1;33m]\u001b[0m\u001b[1;33m]\u001b[0m\u001b[1;33m.\u001b[0m\u001b[0munique\u001b[0m\u001b[1;33m(\u001b[0m\u001b[1;33m)\u001b[0m\u001b[1;33m)\u001b[0m\u001b[1;33m\u001b[0m\u001b[1;33m\u001b[0m\u001b[0m\n\u001b[1;32m-> 1377\u001b[1;33m             \u001b[1;32mraise\u001b[0m \u001b[0mKeyError\u001b[0m\u001b[1;33m(\u001b[0m\u001b[1;34mf\"{not_found} not in index\"\u001b[0m\u001b[1;33m)\u001b[0m\u001b[1;33m\u001b[0m\u001b[1;33m\u001b[0m\u001b[0m\n\u001b[0m\u001b[0;32m   1378\u001b[0m \u001b[1;33m\u001b[0m\u001b[0m\n\u001b[0;32m   1379\u001b[0m \u001b[1;33m\u001b[0m\u001b[0m\n",
      "\u001b[1;31mKeyError\u001b[0m: \"['days'] not in index\""
     ]
    }
   ],
   "source": [
    "for value in int64_lst_col:\n",
    "    sns.lmplot(x=value, y=\"days\", data=df);\n",
    "\n",
    "plt.show()"
   ]
  },
  {
   "cell_type": "markdown",
   "id": "716d8850",
   "metadata": {},
   "source": [
    "# 4.Boxplot\n",
    "\n",
    "### Outliers\n",
    "\n",
    "In statistics, an outlier is a data point that differs significantly from other observations. An outlier may be due to variability in the measurement or it may indicate experimental error; the latter are sometimes excluded from the data set."
   ]
  },
  {
   "cell_type": "code",
   "execution_count": 146,
   "id": "db503ead",
   "metadata": {},
   "outputs": [
    {
     "data": {
      "image/png": "[encoded data removed]",
      "text/plain": [
       "<Figure size 360x360 with 1 Axes>"
      ]
     },
     "metadata": {
      "needs_background": "light"
     },
     "output_type": "display_data"
    }
   ],
   "source": [
    "for value in int64_lst_col:\n",
    "    sns.catplot(data=df, x=value, kind=\"box\")\n",
    "    \n",
    "plt.show()"
   ]
  },
  {
   "cell_type": "code",
   "execution_count": 147,
   "id": "upper-murray",
   "metadata": {
    "execution": {
     "iopub.execute_input": "2021-06-30T02:51:29.745090Z",
     "iopub.status.busy": "2021-06-30T02:51:29.744141Z",
     "iopub.status.idle": "2021-06-30T02:51:29.949407Z",
     "shell.execute_reply": "2021-06-30T02:51:29.949893Z",
     "shell.execute_reply.started": "2021-06-30T02:48:12.027687Z"
    },
    "id": "ybUr1pSIFNIF",
    "outputId": "06243275-2c6e-4677-aced-d8407931e2c9",
    "papermill": {
     "duration": 0.30767,
     "end_time": "2021-06-30T02:51:29.950098",
     "exception": false,
     "start_time": "2021-06-30T02:51:29.642428",
     "status": "completed"
    },
    "tags": []
   },
   "outputs": [
    {
     "ename": "ModuleNotFoundError",
     "evalue": "No module named 'plotly'",
     "output_type": "error",
     "traceback": [
      "\u001b[1;31m---------------------------------------------------------------------------\u001b[0m",
      "\u001b[1;31mModuleNotFoundError\u001b[0m                       Traceback (most recent call last)",
      "\u001b[1;32m~\\AppData\\Local\\Temp/ipykernel_35692/1098939174.py\u001b[0m in \u001b[0;36m<module>\u001b[1;34m\u001b[0m\n\u001b[1;32m----> 1\u001b[1;33m \u001b[1;32mimport\u001b[0m \u001b[0mplotly\u001b[0m\u001b[1;33m.\u001b[0m\u001b[0mgraph_objects\u001b[0m \u001b[1;32mas\u001b[0m \u001b[0mgo\u001b[0m\u001b[1;33m\u001b[0m\u001b[1;33m\u001b[0m\u001b[0m\n\u001b[0m\u001b[0;32m      2\u001b[0m \u001b[0mval\u001b[0m \u001b[1;33m=\u001b[0m \u001b[0mdf\u001b[0m\u001b[1;33m[\u001b[0m\u001b[1;34m'type'\u001b[0m\u001b[1;33m]\u001b[0m\u001b[1;33m.\u001b[0m\u001b[0mvalue_counts\u001b[0m\u001b[1;33m(\u001b[0m\u001b[1;33m)\u001b[0m\u001b[1;33m.\u001b[0m\u001b[0mindex\u001b[0m\u001b[1;33m\u001b[0m\u001b[1;33m\u001b[0m\u001b[0m\n\u001b[0;32m      3\u001b[0m \u001b[0mcnt\u001b[0m \u001b[1;33m=\u001b[0m \u001b[0mdf\u001b[0m\u001b[1;33m[\u001b[0m\u001b[1;34m'type'\u001b[0m\u001b[1;33m]\u001b[0m\u001b[1;33m.\u001b[0m\u001b[0mvalue_counts\u001b[0m\u001b[1;33m(\u001b[0m\u001b[1;33m)\u001b[0m\u001b[1;33m.\u001b[0m\u001b[0mvalues\u001b[0m\u001b[1;33m\u001b[0m\u001b[1;33m\u001b[0m\u001b[0m\n\u001b[0;32m      4\u001b[0m \u001b[1;33m\u001b[0m\u001b[0m\n\u001b[0;32m      5\u001b[0m \u001b[0mfig\u001b[0m \u001b[1;33m=\u001b[0m \u001b[0mgo\u001b[0m\u001b[1;33m.\u001b[0m\u001b[0mFigure\u001b[0m\u001b[1;33m(\u001b[0m\u001b[1;33m[\u001b[0m\u001b[0mgo\u001b[0m\u001b[1;33m.\u001b[0m\u001b[0mBar\u001b[0m\u001b[1;33m(\u001b[0m\u001b[0mx\u001b[0m\u001b[1;33m=\u001b[0m\u001b[0mval\u001b[0m\u001b[1;33m,\u001b[0m \u001b[0my\u001b[0m\u001b[1;33m=\u001b[0m\u001b[0mcnt\u001b[0m\u001b[1;33m,\u001b[0m \u001b[0mmarker_color\u001b[0m\u001b[1;33m=\u001b[0m\u001b[1;34m'darkturquoise'\u001b[0m\u001b[1;33m)\u001b[0m\u001b[1;33m]\u001b[0m\u001b[1;33m)\u001b[0m\u001b[1;33m\u001b[0m\u001b[1;33m\u001b[0m\u001b[0m\n",
      "\u001b[1;31mModuleNotFoundError\u001b[0m: No module named 'plotly'"
     ]
    }
   ],
   "source": [
    "import plotly.graph_objects as go\n",
    "val = df['type'].value_counts().index\n",
    "cnt = df['type'].value_counts().values\n",
    "\n",
    "fig = go.Figure([go.Bar(x=val, y=cnt, marker_color='darkturquoise')])\n",
    "fig.update_layout(title_text='Netflix Sources Distribution', title_x=0.5)\n",
    "fig.show()\n",
    "#movie and tv show distribution"
   ]
  },
  {
   "cell_type": "code",
   "execution_count": null,
   "id": "decent-conference",
   "metadata": {
    "execution": {
     "iopub.execute_input": "2021-06-30T02:51:30.156271Z",
     "iopub.status.busy": "2021-06-30T02:51:30.154122Z",
     "iopub.status.idle": "2021-06-30T02:51:30.389768Z",
     "shell.execute_reply": "2021-06-30T02:51:30.390304Z",
     "shell.execute_reply.started": "2021-06-30T02:48:12.191661Z"
    },
    "id": "xKCBU6YhlYgR",
    "outputId": "0f9b0a75-b434-4441-f292-20466d770e91",
    "papermill": {
     "duration": 0.342441,
     "end_time": "2021-06-30T02:51:30.390498",
     "exception": false,
     "start_time": "2021-06-30T02:51:30.048057",
     "status": "completed"
    },
    "tags": []
   },
   "outputs": [],
   "source": [
    "countries=pd.crosstab(df[\"country\"],[\"type\"]).sort_values(by=\"type\",ascending=False)\n",
    "countries.head(10).plot(kind=\"bar\")\n",
    "plt.legend()\n",
    "plt.title(\"COUNTRY WITH HIGHEST NUMBER OF SHOWS\")\n",
    "plt.show()\n",
    "#country based on show "
   ]
  },
  {
   "cell_type": "code",
   "execution_count": null,
   "id": "separate-virgin",
   "metadata": {
    "execution": {
     "iopub.execute_input": "2021-06-30T02:51:30.622508Z",
     "iopub.status.busy": "2021-06-30T02:51:30.621424Z",
     "iopub.status.idle": "2021-06-30T02:51:30.769655Z",
     "shell.execute_reply": "2021-06-30T02:51:30.769132Z",
     "shell.execute_reply.started": "2021-06-30T02:48:12.501647Z"
    },
    "id": "cd6y44KG2gn0",
    "outputId": "6a6f2c20-130e-4ad5-b6f7-c5312ac173d8",
    "papermill": {
     "duration": 0.279987,
     "end_time": "2021-06-30T02:51:30.769798",
     "exception": false,
     "start_time": "2021-06-30T02:51:30.489811",
     "status": "completed"
    },
    "tags": []
   },
   "outputs": [],
   "source": [
    "df[\"type\"].value_counts().plot(kind=\"pie\",autopct=\"%1.1f%%\")\n",
    "plt.title(\"%AGE OF MOVIES AND TV SHOWS\")\n",
    "plt.legend()\n",
    "plt.show()\n",
    "#percentage of movie and tv show"
   ]
  },
  {
   "cell_type": "code",
   "execution_count": 30,
   "id": "stretch-cannon",
   "metadata": {
    "execution": {
     "iopub.execute_input": "2021-06-30T02:51:30.980570Z",
     "iopub.status.busy": "2021-06-30T02:51:30.979357Z",
     "iopub.status.idle": "2021-06-30T02:51:31.040780Z",
     "shell.execute_reply": "2021-06-30T02:51:31.040261Z",
     "shell.execute_reply.started": "2021-06-30T02:48:12.673817Z"
    },
    "id": "qe5H6l3zsofY",
    "outputId": "7e00cb1b-af1c-4fd9-84d8-5acd8d757074",
    "papermill": {
     "duration": 0.170964,
     "end_time": "2021-06-30T02:51:31.040928",
     "exception": false,
     "start_time": "2021-06-30T02:51:30.869964",
     "status": "completed"
    },
    "tags": []
   },
   "outputs": [
    {
     "data": {
      "text/html": [
       "<div>                            <div id=\"6db31f32-7556-46c1-bbc4-7d25c32f74f7\" class=\"plotly-graph-div\" style=\"height:525px; width:100%;\"></div>            <script type=\"text/javascript\">                require([\"plotly\"], function(Plotly) {                    window.PLOTLYENV=window.PLOTLYENV || {};                                    if (document.getElementById(\"6db31f32-7556-46c1-bbc4-7d25c32f74f7\")) {                    Plotly.newPlot(                        \"6db31f32-7556-46c1-bbc4-7d25c32f74f7\",                        [{\"marker\": {\"color\": \"mediumpurple\"}, \"mode\": \"lines\", \"name\": \"Movies\", \"type\": \"scatter\", \"x\": [1942, 1943, 1944, 1945, 1946, 1947, 1954, 1955, 1956, 1958, 1959, 1960, 1962, 1963, 1964, 1965, 1966, 1967, 1968, 1969, 1970, 1971, 1972, 1973, 1974, 1975, 1976, 1977, 1978, 1979, 1980, 1981, 1982, 1983, 1984, 1985, 1986, 1987, 1988, 1989, 1990, 1991, 1992, 1993, 1994, 1995, 1996, 1997, 1998, 1999, 2000, 2001, 2002, 2003, 2004, 2005, 2006, 2007, 2008, 2009, 2010, 2011, 2012, 2013, 2014, 2015, 2016, 2017, 2018, 2019, 2020, 2021], \"y\": [2, 3, 3, 3, 1, 1, 2, 3, 2, 3, 1, 4, 3, 1, 1, 2, 1, 4, 4, 2, 2, 5, 3, 10, 6, 6, 9, 6, 6, 10, 9, 8, 15, 9, 9, 8, 8, 7, 14, 12, 17, 16, 16, 18, 15, 17, 16, 26, 27, 26, 30, 32, 39, 40, 50, 61, 72, 72, 102, 103, 136, 127, 158, 202, 244, 382, 642, 744, 734, 582, 411, 12]}, {\"marker\": {\"color\": \"lightcoral\"}, \"mode\": \"lines\", \"name\": \"TV Shows\", \"type\": \"scatter\", \"x\": [1925, 1946, 1963, 1967, 1968, 1972, 1974, 1977, 1979, 1981, 1985, 1986, 1988, 1989, 1990, 1991, 1992, 1993, 1994, 1995, 1996, 1997, 1998, 1999, 2000, 2001, 2002, 2003, 2004, 2005, 2006, 2007, 2008, 2009, 2010, 2011, 2012, 2013, 2014, 2015, 2016, 2017, 2018, 2019, 2020, 2021], \"y\": [1, 1, 1, 1, 1, 1, 1, 1, 1, 1, 1, 2, 2, 1, 3, 1, 2, 4, 1, 2, 3, 4, 4, 7, 4, 4, 6, 7, 9, 12, 13, 13, 22, 34, 36, 39, 60, 64, 90, 157, 239, 268, 386, 414, 457, 19]}],                        {\"template\": {\"data\": {\"bar\": [{\"error_x\": {\"color\": \"#2a3f5f\"}, \"error_y\": {\"color\": \"#2a3f5f\"}, \"marker\": {\"line\": {\"color\": \"#E5ECF6\", \"width\": 0.5}}, \"type\": \"bar\"}], \"barpolar\": [{\"marker\": {\"line\": {\"color\": \"#E5ECF6\", \"width\": 0.5}}, \"type\": \"barpolar\"}], \"carpet\": [{\"aaxis\": {\"endlinecolor\": \"#2a3f5f\", \"gridcolor\": \"white\", \"linecolor\": \"white\", \"minorgridcolor\": \"white\", \"startlinecolor\": \"#2a3f5f\"}, \"baxis\": {\"endlinecolor\": \"#2a3f5f\", \"gridcolor\": \"white\", \"linecolor\": \"white\", \"minorgridcolor\": \"white\", \"startlinecolor\": \"#2a3f5f\"}, \"type\": \"carpet\"}], \"choropleth\": [{\"colorbar\": {\"outlinewidth\": 0, \"ticks\": \"\"}, \"type\": \"choropleth\"}], \"contour\": [{\"colorbar\": {\"outlinewidth\": 0, \"ticks\": \"\"}, \"colorscale\": [[0.0, \"#0d0887\"], [0.1111111111111111, \"#46039f\"], [0.2222222222222222, \"#7201a8\"], [0.3333333333333333, \"#9c179e\"], [0.4444444444444444, \"#bd3786\"], [0.5555555555555556, \"#d8576b\"], [0.6666666666666666, \"#ed7953\"], [0.7777777777777778, \"#fb9f3a\"], [0.8888888888888888, \"#fdca26\"], [1.0, \"#f0f921\"]], \"type\": \"contour\"}], \"contourcarpet\": [{\"colorbar\": {\"outlinewidth\": 0, \"ticks\": \"\"}, \"type\": \"contourcarpet\"}], \"heatmap\": [{\"colorbar\": {\"outlinewidth\": 0, \"ticks\": \"\"}, \"colorscale\": [[0.0, \"#0d0887\"], [0.1111111111111111, \"#46039f\"], [0.2222222222222222, \"#7201a8\"], [0.3333333333333333, \"#9c179e\"], [0.4444444444444444, \"#bd3786\"], [0.5555555555555556, \"#d8576b\"], [0.6666666666666666, \"#ed7953\"], [0.7777777777777778, \"#fb9f3a\"], [0.8888888888888888, \"#fdca26\"], [1.0, \"#f0f921\"]], \"type\": \"heatmap\"}], \"heatmapgl\": [{\"colorbar\": {\"outlinewidth\": 0, \"ticks\": \"\"}, \"colorscale\": [[0.0, \"#0d0887\"], [0.1111111111111111, \"#46039f\"], [0.2222222222222222, \"#7201a8\"], [0.3333333333333333, \"#9c179e\"], [0.4444444444444444, \"#bd3786\"], [0.5555555555555556, \"#d8576b\"], [0.6666666666666666, \"#ed7953\"], [0.7777777777777778, \"#fb9f3a\"], [0.8888888888888888, \"#fdca26\"], [1.0, \"#f0f921\"]], \"type\": \"heatmapgl\"}], \"histogram\": [{\"marker\": {\"colorbar\": {\"outlinewidth\": 0, \"ticks\": \"\"}}, \"type\": \"histogram\"}], \"histogram2d\": [{\"colorbar\": {\"outlinewidth\": 0, \"ticks\": \"\"}, \"colorscale\": [[0.0, \"#0d0887\"], [0.1111111111111111, \"#46039f\"], [0.2222222222222222, \"#7201a8\"], [0.3333333333333333, \"#9c179e\"], [0.4444444444444444, \"#bd3786\"], [0.5555555555555556, \"#d8576b\"], [0.6666666666666666, \"#ed7953\"], [0.7777777777777778, \"#fb9f3a\"], [0.8888888888888888, \"#fdca26\"], [1.0, \"#f0f921\"]], \"type\": \"histogram2d\"}], \"histogram2dcontour\": [{\"colorbar\": {\"outlinewidth\": 0, \"ticks\": \"\"}, \"colorscale\": [[0.0, \"#0d0887\"], [0.1111111111111111, \"#46039f\"], [0.2222222222222222, \"#7201a8\"], [0.3333333333333333, \"#9c179e\"], [0.4444444444444444, \"#bd3786\"], [0.5555555555555556, \"#d8576b\"], [0.6666666666666666, \"#ed7953\"], [0.7777777777777778, \"#fb9f3a\"], [0.8888888888888888, \"#fdca26\"], [1.0, \"#f0f921\"]], \"type\": \"histogram2dcontour\"}], \"mesh3d\": [{\"colorbar\": {\"outlinewidth\": 0, \"ticks\": \"\"}, \"type\": \"mesh3d\"}], \"parcoords\": [{\"line\": {\"colorbar\": {\"outlinewidth\": 0, \"ticks\": \"\"}}, \"type\": \"parcoords\"}], \"pie\": [{\"automargin\": true, \"type\": \"pie\"}], \"scatter\": [{\"marker\": {\"colorbar\": {\"outlinewidth\": 0, \"ticks\": \"\"}}, \"type\": \"scatter\"}], \"scatter3d\": [{\"line\": {\"colorbar\": {\"outlinewidth\": 0, \"ticks\": \"\"}}, \"marker\": {\"colorbar\": {\"outlinewidth\": 0, \"ticks\": \"\"}}, \"type\": \"scatter3d\"}], \"scattercarpet\": [{\"marker\": {\"colorbar\": {\"outlinewidth\": 0, \"ticks\": \"\"}}, \"type\": \"scattercarpet\"}], \"scattergeo\": [{\"marker\": {\"colorbar\": {\"outlinewidth\": 0, \"ticks\": \"\"}}, \"type\": \"scattergeo\"}], \"scattergl\": [{\"marker\": {\"colorbar\": {\"outlinewidth\": 0, \"ticks\": \"\"}}, \"type\": \"scattergl\"}], \"scattermapbox\": [{\"marker\": {\"colorbar\": {\"outlinewidth\": 0, \"ticks\": \"\"}}, \"type\": \"scattermapbox\"}], \"scatterpolar\": [{\"marker\": {\"colorbar\": {\"outlinewidth\": 0, \"ticks\": \"\"}}, \"type\": \"scatterpolar\"}], \"scatterpolargl\": [{\"marker\": {\"colorbar\": {\"outlinewidth\": 0, \"ticks\": \"\"}}, \"type\": \"scatterpolargl\"}], \"scatterternary\": [{\"marker\": {\"colorbar\": {\"outlinewidth\": 0, \"ticks\": \"\"}}, \"type\": \"scatterternary\"}], \"surface\": [{\"colorbar\": {\"outlinewidth\": 0, \"ticks\": \"\"}, \"colorscale\": [[0.0, \"#0d0887\"], [0.1111111111111111, \"#46039f\"], [0.2222222222222222, \"#7201a8\"], [0.3333333333333333, \"#9c179e\"], [0.4444444444444444, \"#bd3786\"], [0.5555555555555556, \"#d8576b\"], [0.6666666666666666, \"#ed7953\"], [0.7777777777777778, \"#fb9f3a\"], [0.8888888888888888, \"#fdca26\"], [1.0, \"#f0f921\"]], \"type\": \"surface\"}], \"table\": [{\"cells\": {\"fill\": {\"color\": \"#EBF0F8\"}, \"line\": {\"color\": \"white\"}}, \"header\": {\"fill\": {\"color\": \"#C8D4E3\"}, \"line\": {\"color\": \"white\"}}, \"type\": \"table\"}]}, \"layout\": {\"annotationdefaults\": {\"arrowcolor\": \"#2a3f5f\", \"arrowhead\": 0, \"arrowwidth\": 1}, \"autotypenumbers\": \"strict\", \"coloraxis\": {\"colorbar\": {\"outlinewidth\": 0, \"ticks\": \"\"}}, \"colorscale\": {\"diverging\": [[0, \"#8e0152\"], [0.1, \"#c51b7d\"], [0.2, \"#de77ae\"], [0.3, \"#f1b6da\"], [0.4, \"#fde0ef\"], [0.5, \"#f7f7f7\"], [0.6, \"#e6f5d0\"], [0.7, \"#b8e186\"], [0.8, \"#7fbc41\"], [0.9, \"#4d9221\"], [1, \"#276419\"]], \"sequential\": [[0.0, \"#0d0887\"], [0.1111111111111111, \"#46039f\"], [0.2222222222222222, \"#7201a8\"], [0.3333333333333333, \"#9c179e\"], [0.4444444444444444, \"#bd3786\"], [0.5555555555555556, \"#d8576b\"], [0.6666666666666666, \"#ed7953\"], [0.7777777777777778, \"#fb9f3a\"], [0.8888888888888888, \"#fdca26\"], [1.0, \"#f0f921\"]], \"sequentialminus\": [[0.0, \"#0d0887\"], [0.1111111111111111, \"#46039f\"], [0.2222222222222222, \"#7201a8\"], [0.3333333333333333, \"#9c179e\"], [0.4444444444444444, \"#bd3786\"], [0.5555555555555556, \"#d8576b\"], [0.6666666666666666, \"#ed7953\"], [0.7777777777777778, \"#fb9f3a\"], [0.8888888888888888, \"#fdca26\"], [1.0, \"#f0f921\"]]}, \"colorway\": [\"#636efa\", \"#EF553B\", \"#00cc96\", \"#ab63fa\", \"#FFA15A\", \"#19d3f3\", \"#FF6692\", \"#B6E880\", \"#FF97FF\", \"#FECB52\"], \"font\": {\"color\": \"#2a3f5f\"}, \"geo\": {\"bgcolor\": \"white\", \"lakecolor\": \"white\", \"landcolor\": \"#E5ECF6\", \"showlakes\": true, \"showland\": true, \"subunitcolor\": \"white\"}, \"hoverlabel\": {\"align\": \"left\"}, \"hovermode\": \"closest\", \"mapbox\": {\"style\": \"light\"}, \"paper_bgcolor\": \"white\", \"plot_bgcolor\": \"#E5ECF6\", \"polar\": {\"angularaxis\": {\"gridcolor\": \"white\", \"linecolor\": \"white\", \"ticks\": \"\"}, \"bgcolor\": \"#E5ECF6\", \"radialaxis\": {\"gridcolor\": \"white\", \"linecolor\": \"white\", \"ticks\": \"\"}}, \"scene\": {\"xaxis\": {\"backgroundcolor\": \"#E5ECF6\", \"gridcolor\": \"white\", \"gridwidth\": 2, \"linecolor\": \"white\", \"showbackground\": true, \"ticks\": \"\", \"zerolinecolor\": \"white\"}, \"yaxis\": {\"backgroundcolor\": \"#E5ECF6\", \"gridcolor\": \"white\", \"gridwidth\": 2, \"linecolor\": \"white\", \"showbackground\": true, \"ticks\": \"\", \"zerolinecolor\": \"white\"}, \"zaxis\": {\"backgroundcolor\": \"#E5ECF6\", \"gridcolor\": \"white\", \"gridwidth\": 2, \"linecolor\": \"white\", \"showbackground\": true, \"ticks\": \"\", \"zerolinecolor\": \"white\"}}, \"shapedefaults\": {\"line\": {\"color\": \"#2a3f5f\"}}, \"ternary\": {\"aaxis\": {\"gridcolor\": \"white\", \"linecolor\": \"white\", \"ticks\": \"\"}, \"baxis\": {\"gridcolor\": \"white\", \"linecolor\": \"white\", \"ticks\": \"\"}, \"bgcolor\": \"#E5ECF6\", \"caxis\": {\"gridcolor\": \"white\", \"linecolor\": \"white\", \"ticks\": \"\"}}, \"title\": {\"x\": 0.05}, \"xaxis\": {\"automargin\": true, \"gridcolor\": \"white\", \"linecolor\": \"white\", \"ticks\": \"\", \"title\": {\"standoff\": 15}, \"zerolinecolor\": \"white\", \"zerolinewidth\": 2}, \"yaxis\": {\"automargin\": true, \"gridcolor\": \"white\", \"linecolor\": \"white\", \"ticks\": \"\", \"title\": {\"standoff\": 15}, \"zerolinecolor\": \"white\", \"zerolinewidth\": 2}}}, \"title\": {\"text\": \"Trend Movies vs TV Shows in recent years\", \"x\": 0.5}},                        {\"responsive\": true}                    ).then(function(){\n",
       "                            \n",
       "var gd = document.getElementById('6db31f32-7556-46c1-bbc4-7d25c32f74f7');\n",
       "var x = new MutationObserver(function (mutations, observer) {{\n",
       "        var display = window.getComputedStyle(gd).display;\n",
       "        if (!display || display === 'none') {{\n",
       "            console.log([gd, 'removed!']);\n",
       "            Plotly.purge(gd);\n",
       "            observer.disconnect();\n",
       "        }}\n",
       "}});\n",
       "\n",
       "// Listen for the removal of the full notebook cells\n",
       "var notebookContainer = gd.closest('#notebook-container');\n",
       "if (notebookContainer) {{\n",
       "    x.observe(notebookContainer, {childList: true});\n",
       "}}\n",
       "\n",
       "// Listen for the clearing of the current output cell\n",
       "var outputEl = gd.closest('.output');\n",
       "if (outputEl) {{\n",
       "    x.observe(outputEl, {childList: true});\n",
       "}}\n",
       "\n",
       "                        })                };                });            </script>        </div>"
      ]
     },
     "metadata": {},
     "output_type": "display_data"
    }
   ],
   "source": [
    "df_movie = df[df['type']=='Movie'].groupby('release_year').count()\n",
    "df_tv = df[df['type']=='TV Show'].groupby('release_year').count()\n",
    "\n",
    "\n",
    "df_movie.reset_index(level=0, inplace=True)\n",
    "df_tv.reset_index(level=0, inplace=True)\n",
    "\n",
    "# fig = px.line(data_movie, x=\"release_year\", y=\"type\")\n",
    "# fig.show()\n",
    "\n",
    "fig = go.Figure()\n",
    "fig.add_trace(go.Scatter(x=df_movie['release_year'], y=df_movie['type'],\n",
    "                    mode='lines',\n",
    "                    name='Movies', marker_color='mediumpurple'))\n",
    "fig.add_trace(go.Scatter(x=df_tv['release_year'], y=df_tv['type'],\n",
    "                    mode='lines',\n",
    "                    name='TV Shows', marker_color='lightcoral'))\n",
    "fig.update_layout(title_text='Trend Movies vs TV Shows in recent years', title_x=0.5)\n",
    "fig.show()\n",
    "#trend of movies and tv shows in recent year (from 1930 to 2020)"
   ]
  },
  {
   "cell_type": "code",
   "execution_count": 31,
   "id": "modern-ozone",
   "metadata": {
    "execution": {
     "iopub.execute_input": "2021-06-30T02:51:31.254236Z",
     "iopub.status.busy": "2021-06-30T02:51:31.253117Z",
     "iopub.status.idle": "2021-06-30T02:51:31.288822Z",
     "shell.execute_reply": "2021-06-30T02:51:31.287661Z",
     "shell.execute_reply.started": "2021-06-30T02:48:18.737643Z"
    },
    "id": "9dfQNXUyu4Gh",
    "outputId": "40e039af-ea35-47a4-835b-28a8a3cd5ebf",
    "papermill": {
     "duration": 0.145845,
     "end_time": "2021-06-30T02:51:31.289006",
     "exception": false,
     "start_time": "2021-06-30T02:51:31.143161",
     "status": "completed"
    },
    "tags": []
   },
   "outputs": [
    {
     "data": {
      "text/html": [
       "<div>                            <div id=\"e28ce49b-f943-4c08-8832-00c7531f625f\" class=\"plotly-graph-div\" style=\"height:525px; width:100%;\"></div>            <script type=\"text/javascript\">                require([\"plotly\"], function(Plotly) {                    window.PLOTLYENV=window.PLOTLYENV || {};                                    if (document.getElementById(\"e28ce49b-f943-4c08-8832-00c7531f625f\")) {                    Plotly.newPlot(                        \"e28ce49b-f943-4c08-8832-00c7531f625f\",                        [{\"marker\": {\"color\": \"mediumpurple\"}, \"mode\": \"lines\", \"name\": \"Movies\", \"type\": \"scatter\", \"x\": [\"2008\", \"2009\", \"2010\", \"2011\", \"2012\", \"2013\", \"2014\", \"2015\", \"2016\", \"2017\", \"2018\", \"2019\", \"2020\", \"2021\"], \"y\": [1, 2, 1, 13, 3, 6, 19, 58, 258, 864, 1255, 1497, 1312, 88]}, {\"marker\": {\"color\": \"lightcoral\"}, \"mode\": \"lines\", \"name\": \"TV Shows\", \"type\": \"scatter\", \"x\": [\"2008\", \"2013\", \"2014\", \"2015\", \"2016\", \"2017\", \"2018\", \"2019\", \"2020\", \"2021\"], \"y\": [1, 5, 6, 30, 185, 361, 430, 656, 697, 29]}],                        {\"template\": {\"data\": {\"bar\": [{\"error_x\": {\"color\": \"#2a3f5f\"}, \"error_y\": {\"color\": \"#2a3f5f\"}, \"marker\": {\"line\": {\"color\": \"#E5ECF6\", \"width\": 0.5}}, \"type\": \"bar\"}], \"barpolar\": [{\"marker\": {\"line\": {\"color\": \"#E5ECF6\", \"width\": 0.5}}, \"type\": \"barpolar\"}], \"carpet\": [{\"aaxis\": {\"endlinecolor\": \"#2a3f5f\", \"gridcolor\": \"white\", \"linecolor\": \"white\", \"minorgridcolor\": \"white\", \"startlinecolor\": \"#2a3f5f\"}, \"baxis\": {\"endlinecolor\": \"#2a3f5f\", \"gridcolor\": \"white\", \"linecolor\": \"white\", \"minorgridcolor\": \"white\", \"startlinecolor\": \"#2a3f5f\"}, \"type\": \"carpet\"}], \"choropleth\": [{\"colorbar\": {\"outlinewidth\": 0, \"ticks\": \"\"}, \"type\": \"choropleth\"}], \"contour\": [{\"colorbar\": {\"outlinewidth\": 0, \"ticks\": \"\"}, \"colorscale\": [[0.0, \"#0d0887\"], [0.1111111111111111, \"#46039f\"], [0.2222222222222222, \"#7201a8\"], [0.3333333333333333, \"#9c179e\"], [0.4444444444444444, \"#bd3786\"], [0.5555555555555556, \"#d8576b\"], [0.6666666666666666, \"#ed7953\"], [0.7777777777777778, \"#fb9f3a\"], [0.8888888888888888, \"#fdca26\"], [1.0, \"#f0f921\"]], \"type\": \"contour\"}], \"contourcarpet\": [{\"colorbar\": {\"outlinewidth\": 0, \"ticks\": \"\"}, \"type\": \"contourcarpet\"}], \"heatmap\": [{\"colorbar\": {\"outlinewidth\": 0, \"ticks\": \"\"}, \"colorscale\": [[0.0, \"#0d0887\"], [0.1111111111111111, \"#46039f\"], [0.2222222222222222, \"#7201a8\"], [0.3333333333333333, \"#9c179e\"], [0.4444444444444444, \"#bd3786\"], [0.5555555555555556, \"#d8576b\"], [0.6666666666666666, \"#ed7953\"], [0.7777777777777778, \"#fb9f3a\"], [0.8888888888888888, \"#fdca26\"], [1.0, \"#f0f921\"]], \"type\": \"heatmap\"}], \"heatmapgl\": [{\"colorbar\": {\"outlinewidth\": 0, \"ticks\": \"\"}, \"colorscale\": [[0.0, \"#0d0887\"], [0.1111111111111111, \"#46039f\"], [0.2222222222222222, \"#7201a8\"], [0.3333333333333333, \"#9c179e\"], [0.4444444444444444, \"#bd3786\"], [0.5555555555555556, \"#d8576b\"], [0.6666666666666666, \"#ed7953\"], [0.7777777777777778, \"#fb9f3a\"], [0.8888888888888888, \"#fdca26\"], [1.0, \"#f0f921\"]], \"type\": \"heatmapgl\"}], \"histogram\": [{\"marker\": {\"colorbar\": {\"outlinewidth\": 0, \"ticks\": \"\"}}, \"type\": \"histogram\"}], \"histogram2d\": [{\"colorbar\": {\"outlinewidth\": 0, \"ticks\": \"\"}, \"colorscale\": [[0.0, \"#0d0887\"], [0.1111111111111111, \"#46039f\"], [0.2222222222222222, \"#7201a8\"], [0.3333333333333333, \"#9c179e\"], [0.4444444444444444, \"#bd3786\"], [0.5555555555555556, \"#d8576b\"], [0.6666666666666666, \"#ed7953\"], [0.7777777777777778, \"#fb9f3a\"], [0.8888888888888888, \"#fdca26\"], [1.0, \"#f0f921\"]], \"type\": \"histogram2d\"}], \"histogram2dcontour\": [{\"colorbar\": {\"outlinewidth\": 0, \"ticks\": \"\"}, \"colorscale\": [[0.0, \"#0d0887\"], [0.1111111111111111, \"#46039f\"], [0.2222222222222222, \"#7201a8\"], [0.3333333333333333, \"#9c179e\"], [0.4444444444444444, \"#bd3786\"], [0.5555555555555556, \"#d8576b\"], [0.6666666666666666, \"#ed7953\"], [0.7777777777777778, \"#fb9f3a\"], [0.8888888888888888, \"#fdca26\"], [1.0, \"#f0f921\"]], \"type\": \"histogram2dcontour\"}], \"mesh3d\": [{\"colorbar\": {\"outlinewidth\": 0, \"ticks\": \"\"}, \"type\": \"mesh3d\"}], \"parcoords\": [{\"line\": {\"colorbar\": {\"outlinewidth\": 0, \"ticks\": \"\"}}, \"type\": \"parcoords\"}], \"pie\": [{\"automargin\": true, \"type\": \"pie\"}], \"scatter\": [{\"marker\": {\"colorbar\": {\"outlinewidth\": 0, \"ticks\": \"\"}}, \"type\": \"scatter\"}], \"scatter3d\": [{\"line\": {\"colorbar\": {\"outlinewidth\": 0, \"ticks\": \"\"}}, \"marker\": {\"colorbar\": {\"outlinewidth\": 0, \"ticks\": \"\"}}, \"type\": \"scatter3d\"}], \"scattercarpet\": [{\"marker\": {\"colorbar\": {\"outlinewidth\": 0, \"ticks\": \"\"}}, \"type\": \"scattercarpet\"}], \"scattergeo\": [{\"marker\": {\"colorbar\": {\"outlinewidth\": 0, \"ticks\": \"\"}}, \"type\": \"scattergeo\"}], \"scattergl\": [{\"marker\": {\"colorbar\": {\"outlinewidth\": 0, \"ticks\": \"\"}}, \"type\": \"scattergl\"}], \"scattermapbox\": [{\"marker\": {\"colorbar\": {\"outlinewidth\": 0, \"ticks\": \"\"}}, \"type\": \"scattermapbox\"}], \"scatterpolar\": [{\"marker\": {\"colorbar\": {\"outlinewidth\": 0, \"ticks\": \"\"}}, \"type\": \"scatterpolar\"}], \"scatterpolargl\": [{\"marker\": {\"colorbar\": {\"outlinewidth\": 0, \"ticks\": \"\"}}, \"type\": \"scatterpolargl\"}], \"scatterternary\": [{\"marker\": {\"colorbar\": {\"outlinewidth\": 0, \"ticks\": \"\"}}, \"type\": \"scatterternary\"}], \"surface\": [{\"colorbar\": {\"outlinewidth\": 0, \"ticks\": \"\"}, \"colorscale\": [[0.0, \"#0d0887\"], [0.1111111111111111, \"#46039f\"], [0.2222222222222222, \"#7201a8\"], [0.3333333333333333, \"#9c179e\"], [0.4444444444444444, \"#bd3786\"], [0.5555555555555556, \"#d8576b\"], [0.6666666666666666, \"#ed7953\"], [0.7777777777777778, \"#fb9f3a\"], [0.8888888888888888, \"#fdca26\"], [1.0, \"#f0f921\"]], \"type\": \"surface\"}], \"table\": [{\"cells\": {\"fill\": {\"color\": \"#EBF0F8\"}, \"line\": {\"color\": \"white\"}}, \"header\": {\"fill\": {\"color\": \"#C8D4E3\"}, \"line\": {\"color\": \"white\"}}, \"type\": \"table\"}]}, \"layout\": {\"annotationdefaults\": {\"arrowcolor\": \"#2a3f5f\", \"arrowhead\": 0, \"arrowwidth\": 1}, \"autotypenumbers\": \"strict\", \"coloraxis\": {\"colorbar\": {\"outlinewidth\": 0, \"ticks\": \"\"}}, \"colorscale\": {\"diverging\": [[0, \"#8e0152\"], [0.1, \"#c51b7d\"], [0.2, \"#de77ae\"], [0.3, \"#f1b6da\"], [0.4, \"#fde0ef\"], [0.5, \"#f7f7f7\"], [0.6, \"#e6f5d0\"], [0.7, \"#b8e186\"], [0.8, \"#7fbc41\"], [0.9, \"#4d9221\"], [1, \"#276419\"]], \"sequential\": [[0.0, \"#0d0887\"], [0.1111111111111111, \"#46039f\"], [0.2222222222222222, \"#7201a8\"], [0.3333333333333333, \"#9c179e\"], [0.4444444444444444, \"#bd3786\"], [0.5555555555555556, \"#d8576b\"], [0.6666666666666666, \"#ed7953\"], [0.7777777777777778, \"#fb9f3a\"], [0.8888888888888888, \"#fdca26\"], [1.0, \"#f0f921\"]], \"sequentialminus\": [[0.0, \"#0d0887\"], [0.1111111111111111, \"#46039f\"], [0.2222222222222222, \"#7201a8\"], [0.3333333333333333, \"#9c179e\"], [0.4444444444444444, \"#bd3786\"], [0.5555555555555556, \"#d8576b\"], [0.6666666666666666, \"#ed7953\"], [0.7777777777777778, \"#fb9f3a\"], [0.8888888888888888, \"#fdca26\"], [1.0, \"#f0f921\"]]}, \"colorway\": [\"#636efa\", \"#EF553B\", \"#00cc96\", \"#ab63fa\", \"#FFA15A\", \"#19d3f3\", \"#FF6692\", \"#B6E880\", \"#FF97FF\", \"#FECB52\"], \"font\": {\"color\": \"#2a3f5f\"}, \"geo\": {\"bgcolor\": \"white\", \"lakecolor\": \"white\", \"landcolor\": \"#E5ECF6\", \"showlakes\": true, \"showland\": true, \"subunitcolor\": \"white\"}, \"hoverlabel\": {\"align\": \"left\"}, \"hovermode\": \"closest\", \"mapbox\": {\"style\": \"light\"}, \"paper_bgcolor\": \"white\", \"plot_bgcolor\": \"#E5ECF6\", \"polar\": {\"angularaxis\": {\"gridcolor\": \"white\", \"linecolor\": \"white\", \"ticks\": \"\"}, \"bgcolor\": \"#E5ECF6\", \"radialaxis\": {\"gridcolor\": \"white\", \"linecolor\": \"white\", \"ticks\": \"\"}}, \"scene\": {\"xaxis\": {\"backgroundcolor\": \"#E5ECF6\", \"gridcolor\": \"white\", \"gridwidth\": 2, \"linecolor\": \"white\", \"showbackground\": true, \"ticks\": \"\", \"zerolinecolor\": \"white\"}, \"yaxis\": {\"backgroundcolor\": \"#E5ECF6\", \"gridcolor\": \"white\", \"gridwidth\": 2, \"linecolor\": \"white\", \"showbackground\": true, \"ticks\": \"\", \"zerolinecolor\": \"white\"}, \"zaxis\": {\"backgroundcolor\": \"#E5ECF6\", \"gridcolor\": \"white\", \"gridwidth\": 2, \"linecolor\": \"white\", \"showbackground\": true, \"ticks\": \"\", \"zerolinecolor\": \"white\"}}, \"shapedefaults\": {\"line\": {\"color\": \"#2a3f5f\"}}, \"ternary\": {\"aaxis\": {\"gridcolor\": \"white\", \"linecolor\": \"white\", \"ticks\": \"\"}, \"baxis\": {\"gridcolor\": \"white\", \"linecolor\": \"white\", \"ticks\": \"\"}, \"bgcolor\": \"#E5ECF6\", \"caxis\": {\"gridcolor\": \"white\", \"linecolor\": \"white\", \"ticks\": \"\"}}, \"title\": {\"x\": 0.05}, \"xaxis\": {\"automargin\": true, \"gridcolor\": \"white\", \"linecolor\": \"white\", \"ticks\": \"\", \"title\": {\"standoff\": 15}, \"zerolinecolor\": \"white\", \"zerolinewidth\": 2}, \"yaxis\": {\"automargin\": true, \"gridcolor\": \"white\", \"linecolor\": \"white\", \"ticks\": \"\", \"title\": {\"standoff\": 15}, \"zerolinecolor\": \"white\", \"zerolinewidth\": 2}}}, \"title\": {\"text\": \"Trend Movies vs TV Shows in year added\", \"x\": 0.5}},                        {\"responsive\": true}                    ).then(function(){\n",
       "                            \n",
       "var gd = document.getElementById('e28ce49b-f943-4c08-8832-00c7531f625f');\n",
       "var x = new MutationObserver(function (mutations, observer) {{\n",
       "        var display = window.getComputedStyle(gd).display;\n",
       "        if (!display || display === 'none') {{\n",
       "            console.log([gd, 'removed!']);\n",
       "            Plotly.purge(gd);\n",
       "            observer.disconnect();\n",
       "        }}\n",
       "}});\n",
       "\n",
       "// Listen for the removal of the full notebook cells\n",
       "var notebookContainer = gd.closest('#notebook-container');\n",
       "if (notebookContainer) {{\n",
       "    x.observe(notebookContainer, {childList: true});\n",
       "}}\n",
       "\n",
       "// Listen for the clearing of the current output cell\n",
       "var outputEl = gd.closest('.output');\n",
       "if (outputEl) {{\n",
       "    x.observe(outputEl, {childList: true});\n",
       "}}\n",
       "\n",
       "                        })                };                });            </script>        </div>"
      ]
     },
     "metadata": {},
     "output_type": "display_data"
    }
   ],
   "source": [
    "df_movie = df[df['type']=='Movie'].groupby('year_added').count()\n",
    "df_tv = df[df['type']=='TV Show'].groupby('year_added').count()\n",
    "\n",
    "\n",
    "df_movie.reset_index(level=0, inplace=True)\n",
    "df_tv.reset_index(level=0, inplace=True)\n",
    "\n",
    "# fig = px.line(data_movie, x=\"year_added\", y=\"type\")\n",
    "# fig.show()\n",
    "\n",
    "fig = go.Figure()\n",
    "fig.add_trace(go.Scatter(x=df_movie['year_added'], y=df_movie['type'],\n",
    "                    mode='lines',\n",
    "                    name='Movies', marker_color='mediumpurple'))\n",
    "fig.add_trace(go.Scatter(x=df_tv['year_added'], y=df_tv['type'],\n",
    "                    mode='lines',\n",
    "                    name='TV Shows', marker_color='lightcoral'))\n",
    "fig.update_layout(title_text='Trend Movies vs TV Shows in year added', title_x=0.5)\n",
    "fig.show()\n",
    "#trend of movies and tv shows in year added (from 2008 to 2020)"
   ]
  },
  {
   "cell_type": "code",
   "execution_count": 32,
   "id": "missing-collaboration",
   "metadata": {
    "execution": {
     "iopub.execute_input": "2021-06-30T02:51:31.502537Z",
     "iopub.status.busy": "2021-06-30T02:51:31.501771Z",
     "iopub.status.idle": "2021-06-30T02:51:31.536063Z",
     "shell.execute_reply": "2021-06-30T02:51:31.535515Z",
     "shell.execute_reply.started": "2021-06-30T02:48:18.952244Z"
    },
    "id": "JMKCfQOevYq0",
    "outputId": "8f2ad73b-5422-485c-cd14-16ea6ed8aa0b",
    "papermill": {
     "duration": 0.145045,
     "end_time": "2021-06-30T02:51:31.536224",
     "exception": false,
     "start_time": "2021-06-30T02:51:31.391179",
     "status": "completed"
    },
    "tags": []
   },
   "outputs": [
    {
     "data": {
      "text/html": [
       "<div>                            <div id=\"39b10ade-b513-405f-9d62-19dd0e4c2761\" class=\"plotly-graph-div\" style=\"height:525px; width:100%;\"></div>            <script type=\"text/javascript\">                require([\"plotly\"], function(Plotly) {                    window.PLOTLYENV=window.PLOTLYENV || {};                                    if (document.getElementById(\"39b10ade-b513-405f-9d62-19dd0e4c2761\")) {                    Plotly.newPlot(                        \"39b10ade-b513-405f-9d62-19dd0e4c2761\",                        [{\"marker\": {\"color\": \"mediumpurple\"}, \"mode\": \"lines\", \"name\": \"Movies\", \"type\": \"scatter\", \"x\": [\"April\", \"August\", \"December\", \"February\", \"January\", \"July\", \"June\", \"March\", \"May\", \"November\", \"October\", \"September\"], \"y\": [420, 414, 554, 328, 560, 403, 377, 471, 371, 511, 553, 415]}, {\"marker\": {\"color\": \"lightcoral\"}, \"mode\": \"lines\", \"name\": \"TV Shows\", \"type\": \"scatter\", \"x\": [\"\", \"April\", \"August\", \"December\", \"February\", \"January\", \"July\", \"June\", \"March\", \"May\", \"November\", \"October\", \"September\"], \"y\": [88, 176, 198, 263, 138, 186, 189, 161, 190, 166, 219, 227, 199]}],                        {\"template\": {\"data\": {\"bar\": [{\"error_x\": {\"color\": \"#2a3f5f\"}, \"error_y\": {\"color\": \"#2a3f5f\"}, \"marker\": {\"line\": {\"color\": \"#E5ECF6\", \"width\": 0.5}}, \"type\": \"bar\"}], \"barpolar\": [{\"marker\": {\"line\": {\"color\": \"#E5ECF6\", \"width\": 0.5}}, \"type\": \"barpolar\"}], \"carpet\": [{\"aaxis\": {\"endlinecolor\": \"#2a3f5f\", \"gridcolor\": \"white\", \"linecolor\": \"white\", \"minorgridcolor\": \"white\", \"startlinecolor\": \"#2a3f5f\"}, \"baxis\": {\"endlinecolor\": \"#2a3f5f\", \"gridcolor\": \"white\", \"linecolor\": \"white\", \"minorgridcolor\": \"white\", \"startlinecolor\": \"#2a3f5f\"}, \"type\": \"carpet\"}], \"choropleth\": [{\"colorbar\": {\"outlinewidth\": 0, \"ticks\": \"\"}, \"type\": \"choropleth\"}], \"contour\": [{\"colorbar\": {\"outlinewidth\": 0, \"ticks\": \"\"}, \"colorscale\": [[0.0, \"#0d0887\"], [0.1111111111111111, \"#46039f\"], [0.2222222222222222, \"#7201a8\"], [0.3333333333333333, \"#9c179e\"], [0.4444444444444444, \"#bd3786\"], [0.5555555555555556, \"#d8576b\"], [0.6666666666666666, \"#ed7953\"], [0.7777777777777778, \"#fb9f3a\"], [0.8888888888888888, \"#fdca26\"], [1.0, \"#f0f921\"]], \"type\": \"contour\"}], \"contourcarpet\": [{\"colorbar\": {\"outlinewidth\": 0, \"ticks\": \"\"}, \"type\": \"contourcarpet\"}], \"heatmap\": [{\"colorbar\": {\"outlinewidth\": 0, \"ticks\": \"\"}, \"colorscale\": [[0.0, \"#0d0887\"], [0.1111111111111111, \"#46039f\"], [0.2222222222222222, \"#7201a8\"], [0.3333333333333333, \"#9c179e\"], [0.4444444444444444, \"#bd3786\"], [0.5555555555555556, \"#d8576b\"], [0.6666666666666666, \"#ed7953\"], [0.7777777777777778, \"#fb9f3a\"], [0.8888888888888888, \"#fdca26\"], [1.0, \"#f0f921\"]], \"type\": \"heatmap\"}], \"heatmapgl\": [{\"colorbar\": {\"outlinewidth\": 0, \"ticks\": \"\"}, \"colorscale\": [[0.0, \"#0d0887\"], [0.1111111111111111, \"#46039f\"], [0.2222222222222222, \"#7201a8\"], [0.3333333333333333, \"#9c179e\"], [0.4444444444444444, \"#bd3786\"], [0.5555555555555556, \"#d8576b\"], [0.6666666666666666, \"#ed7953\"], [0.7777777777777778, \"#fb9f3a\"], [0.8888888888888888, \"#fdca26\"], [1.0, \"#f0f921\"]], \"type\": \"heatmapgl\"}], \"histogram\": [{\"marker\": {\"colorbar\": {\"outlinewidth\": 0, \"ticks\": \"\"}}, \"type\": \"histogram\"}], \"histogram2d\": [{\"colorbar\": {\"outlinewidth\": 0, \"ticks\": \"\"}, \"colorscale\": [[0.0, \"#0d0887\"], [0.1111111111111111, \"#46039f\"], [0.2222222222222222, \"#7201a8\"], [0.3333333333333333, \"#9c179e\"], [0.4444444444444444, \"#bd3786\"], [0.5555555555555556, \"#d8576b\"], [0.6666666666666666, \"#ed7953\"], [0.7777777777777778, \"#fb9f3a\"], [0.8888888888888888, \"#fdca26\"], [1.0, \"#f0f921\"]], \"type\": \"histogram2d\"}], \"histogram2dcontour\": [{\"colorbar\": {\"outlinewidth\": 0, \"ticks\": \"\"}, \"colorscale\": [[0.0, \"#0d0887\"], [0.1111111111111111, \"#46039f\"], [0.2222222222222222, \"#7201a8\"], [0.3333333333333333, \"#9c179e\"], [0.4444444444444444, \"#bd3786\"], [0.5555555555555556, \"#d8576b\"], [0.6666666666666666, \"#ed7953\"], [0.7777777777777778, \"#fb9f3a\"], [0.8888888888888888, \"#fdca26\"], [1.0, \"#f0f921\"]], \"type\": \"histogram2dcontour\"}], \"mesh3d\": [{\"colorbar\": {\"outlinewidth\": 0, \"ticks\": \"\"}, \"type\": \"mesh3d\"}], \"parcoords\": [{\"line\": {\"colorbar\": {\"outlinewidth\": 0, \"ticks\": \"\"}}, \"type\": \"parcoords\"}], \"pie\": [{\"automargin\": true, \"type\": \"pie\"}], \"scatter\": [{\"marker\": {\"colorbar\": {\"outlinewidth\": 0, \"ticks\": \"\"}}, \"type\": \"scatter\"}], \"scatter3d\": [{\"line\": {\"colorbar\": {\"outlinewidth\": 0, \"ticks\": \"\"}}, \"marker\": {\"colorbar\": {\"outlinewidth\": 0, \"ticks\": \"\"}}, \"type\": \"scatter3d\"}], \"scattercarpet\": [{\"marker\": {\"colorbar\": {\"outlinewidth\": 0, \"ticks\": \"\"}}, \"type\": \"scattercarpet\"}], \"scattergeo\": [{\"marker\": {\"colorbar\": {\"outlinewidth\": 0, \"ticks\": \"\"}}, \"type\": \"scattergeo\"}], \"scattergl\": [{\"marker\": {\"colorbar\": {\"outlinewidth\": 0, \"ticks\": \"\"}}, \"type\": \"scattergl\"}], \"scattermapbox\": [{\"marker\": {\"colorbar\": {\"outlinewidth\": 0, \"ticks\": \"\"}}, \"type\": \"scattermapbox\"}], \"scatterpolar\": [{\"marker\": {\"colorbar\": {\"outlinewidth\": 0, \"ticks\": \"\"}}, \"type\": \"scatterpolar\"}], \"scatterpolargl\": [{\"marker\": {\"colorbar\": {\"outlinewidth\": 0, \"ticks\": \"\"}}, \"type\": \"scatterpolargl\"}], \"scatterternary\": [{\"marker\": {\"colorbar\": {\"outlinewidth\": 0, \"ticks\": \"\"}}, \"type\": \"scatterternary\"}], \"surface\": [{\"colorbar\": {\"outlinewidth\": 0, \"ticks\": \"\"}, \"colorscale\": [[0.0, \"#0d0887\"], [0.1111111111111111, \"#46039f\"], [0.2222222222222222, \"#7201a8\"], [0.3333333333333333, \"#9c179e\"], [0.4444444444444444, \"#bd3786\"], [0.5555555555555556, \"#d8576b\"], [0.6666666666666666, \"#ed7953\"], [0.7777777777777778, \"#fb9f3a\"], [0.8888888888888888, \"#fdca26\"], [1.0, \"#f0f921\"]], \"type\": \"surface\"}], \"table\": [{\"cells\": {\"fill\": {\"color\": \"#EBF0F8\"}, \"line\": {\"color\": \"white\"}}, \"header\": {\"fill\": {\"color\": \"#C8D4E3\"}, \"line\": {\"color\": \"white\"}}, \"type\": \"table\"}]}, \"layout\": {\"annotationdefaults\": {\"arrowcolor\": \"#2a3f5f\", \"arrowhead\": 0, \"arrowwidth\": 1}, \"autotypenumbers\": \"strict\", \"coloraxis\": {\"colorbar\": {\"outlinewidth\": 0, \"ticks\": \"\"}}, \"colorscale\": {\"diverging\": [[0, \"#8e0152\"], [0.1, \"#c51b7d\"], [0.2, \"#de77ae\"], [0.3, \"#f1b6da\"], [0.4, \"#fde0ef\"], [0.5, \"#f7f7f7\"], [0.6, \"#e6f5d0\"], [0.7, \"#b8e186\"], [0.8, \"#7fbc41\"], [0.9, \"#4d9221\"], [1, \"#276419\"]], \"sequential\": [[0.0, \"#0d0887\"], [0.1111111111111111, \"#46039f\"], [0.2222222222222222, \"#7201a8\"], [0.3333333333333333, \"#9c179e\"], [0.4444444444444444, \"#bd3786\"], [0.5555555555555556, \"#d8576b\"], [0.6666666666666666, \"#ed7953\"], [0.7777777777777778, \"#fb9f3a\"], [0.8888888888888888, \"#fdca26\"], [1.0, \"#f0f921\"]], \"sequentialminus\": [[0.0, \"#0d0887\"], [0.1111111111111111, \"#46039f\"], [0.2222222222222222, \"#7201a8\"], [0.3333333333333333, \"#9c179e\"], [0.4444444444444444, \"#bd3786\"], [0.5555555555555556, \"#d8576b\"], [0.6666666666666666, \"#ed7953\"], [0.7777777777777778, \"#fb9f3a\"], [0.8888888888888888, \"#fdca26\"], [1.0, \"#f0f921\"]]}, \"colorway\": [\"#636efa\", \"#EF553B\", \"#00cc96\", \"#ab63fa\", \"#FFA15A\", \"#19d3f3\", \"#FF6692\", \"#B6E880\", \"#FF97FF\", \"#FECB52\"], \"font\": {\"color\": \"#2a3f5f\"}, \"geo\": {\"bgcolor\": \"white\", \"lakecolor\": \"white\", \"landcolor\": \"#E5ECF6\", \"showlakes\": true, \"showland\": true, \"subunitcolor\": \"white\"}, \"hoverlabel\": {\"align\": \"left\"}, \"hovermode\": \"closest\", \"mapbox\": {\"style\": \"light\"}, \"paper_bgcolor\": \"white\", \"plot_bgcolor\": \"#E5ECF6\", \"polar\": {\"angularaxis\": {\"gridcolor\": \"white\", \"linecolor\": \"white\", \"ticks\": \"\"}, \"bgcolor\": \"#E5ECF6\", \"radialaxis\": {\"gridcolor\": \"white\", \"linecolor\": \"white\", \"ticks\": \"\"}}, \"scene\": {\"xaxis\": {\"backgroundcolor\": \"#E5ECF6\", \"gridcolor\": \"white\", \"gridwidth\": 2, \"linecolor\": \"white\", \"showbackground\": true, \"ticks\": \"\", \"zerolinecolor\": \"white\"}, \"yaxis\": {\"backgroundcolor\": \"#E5ECF6\", \"gridcolor\": \"white\", \"gridwidth\": 2, \"linecolor\": \"white\", \"showbackground\": true, \"ticks\": \"\", \"zerolinecolor\": \"white\"}, \"zaxis\": {\"backgroundcolor\": \"#E5ECF6\", \"gridcolor\": \"white\", \"gridwidth\": 2, \"linecolor\": \"white\", \"showbackground\": true, \"ticks\": \"\", \"zerolinecolor\": \"white\"}}, \"shapedefaults\": {\"line\": {\"color\": \"#2a3f5f\"}}, \"ternary\": {\"aaxis\": {\"gridcolor\": \"white\", \"linecolor\": \"white\", \"ticks\": \"\"}, \"baxis\": {\"gridcolor\": \"white\", \"linecolor\": \"white\", \"ticks\": \"\"}, \"bgcolor\": \"#E5ECF6\", \"caxis\": {\"gridcolor\": \"white\", \"linecolor\": \"white\", \"ticks\": \"\"}}, \"title\": {\"x\": 0.05}, \"xaxis\": {\"automargin\": true, \"gridcolor\": \"white\", \"linecolor\": \"white\", \"ticks\": \"\", \"title\": {\"standoff\": 15}, \"zerolinecolor\": \"white\", \"zerolinewidth\": 2}, \"yaxis\": {\"automargin\": true, \"gridcolor\": \"white\", \"linecolor\": \"white\", \"ticks\": \"\", \"title\": {\"standoff\": 15}, \"zerolinecolor\": \"white\", \"zerolinewidth\": 2}}}, \"title\": {\"text\": \"Trend Movies vs TV Shows in month added\", \"x\": 0.5}},                        {\"responsive\": true}                    ).then(function(){\n",
       "                            \n",
       "var gd = document.getElementById('39b10ade-b513-405f-9d62-19dd0e4c2761');\n",
       "var x = new MutationObserver(function (mutations, observer) {{\n",
       "        var display = window.getComputedStyle(gd).display;\n",
       "        if (!display || display === 'none') {{\n",
       "            console.log([gd, 'removed!']);\n",
       "            Plotly.purge(gd);\n",
       "            observer.disconnect();\n",
       "        }}\n",
       "}});\n",
       "\n",
       "// Listen for the removal of the full notebook cells\n",
       "var notebookContainer = gd.closest('#notebook-container');\n",
       "if (notebookContainer) {{\n",
       "    x.observe(notebookContainer, {childList: true});\n",
       "}}\n",
       "\n",
       "// Listen for the clearing of the current output cell\n",
       "var outputEl = gd.closest('.output');\n",
       "if (outputEl) {{\n",
       "    x.observe(outputEl, {childList: true});\n",
       "}}\n",
       "\n",
       "                        })                };                });            </script>        </div>"
      ]
     },
     "metadata": {},
     "output_type": "display_data"
    }
   ],
   "source": [
    "df_movie = df[df['type']=='Movie'].groupby('month_added').count()\n",
    "df_tv = df[df['type']=='TV Show'].groupby('month_added').count()\n",
    "\n",
    "\n",
    "df_movie.reset_index(level=0, inplace=True)\n",
    "df_tv.reset_index(level=0, inplace=True)\n",
    "\n",
    "# fig = px.line(data_movie, x=\"year_added\", y=\"type\")\n",
    "# fig.show()\n",
    "\n",
    "fig = go.Figure()\n",
    "fig.add_trace(go.Scatter(x=df_movie['month_added'], y=df_movie['type'],\n",
    "                    mode='lines',\n",
    "                    name='Movies', marker_color='mediumpurple'))\n",
    "fig.add_trace(go.Scatter(x=df_tv['month_added'], y=df_tv['type'],\n",
    "                    mode='lines',\n",
    "                    name='TV Shows', marker_color='lightcoral'))\n",
    "fig.update_layout(title_text='Trend Movies vs TV Shows in month added', title_x=0.5)\n",
    "fig.show()\n",
    "#Trend Movies vs TV Shows in month added (from august to september)"
   ]
  },
  {
   "cell_type": "code",
   "execution_count": 33,
   "id": "bigger-karaoke",
   "metadata": {
    "execution": {
     "iopub.execute_input": "2021-06-30T02:51:31.750898Z",
     "iopub.status.busy": "2021-06-30T02:51:31.750136Z",
     "iopub.status.idle": "2021-06-30T02:51:31.937085Z",
     "shell.execute_reply": "2021-06-30T02:51:31.937629Z",
     "shell.execute_reply.started": "2021-06-30T02:48:19.031895Z"
    },
    "id": "LNAVyi75E5sB",
    "outputId": "5593010e-3884-47ca-ade8-b7c16d7ea7ff",
    "papermill": {
     "duration": 0.298114,
     "end_time": "2021-06-30T02:51:31.937804",
     "exception": false,
     "start_time": "2021-06-30T02:51:31.639690",
     "status": "completed"
    },
    "tags": []
   },
   "outputs": [
    {
     "data": {
      "image/png": "[encoded data removed]",
      "text/plain": [
       "<Figure size 1296x576 with 1 Axes>"
      ]
     },
     "metadata": {
      "needs_background": "light"
     },
     "output_type": "display_data"
    }
   ],
   "source": [
    "df_tv = df[df[\"type\"] == \"TV Show\"]\n",
    "df_movie = df[df[\"type\"] == \"Movie\"]\n",
    "\n",
    "movie_ratings = df_movie.groupby(['target_ages'])['type'].count().reset_index(name='count').sort_values(by='count',ascending=False)\n",
    "fig_dims = (18,8)\n",
    "fig, ax = plt.subplots(figsize=fig_dims)  \n",
    "sns.pointplot(x='target_ages',y='count',data=movie_ratings)\n",
    "plt.title('Top Movie Ratings Based On Rating System',size='20')\n",
    "plt.show()\n",
    "#movie rating "
   ]
  },
  {
   "cell_type": "code",
   "execution_count": 34,
   "id": "stone-unknown",
   "metadata": {
    "execution": {
     "iopub.execute_input": "2021-06-30T02:51:32.166890Z",
     "iopub.status.busy": "2021-06-30T02:51:32.165873Z",
     "iopub.status.idle": "2021-06-30T02:51:32.374513Z",
     "shell.execute_reply": "2021-06-30T02:51:32.375102Z",
     "shell.execute_reply.started": "2021-06-30T02:48:19.233063Z"
    },
    "id": "6lxtmZcHF3gn",
    "outputId": "d2680981-42be-49c7-bf52-8dd22dbdb4fe",
    "papermill": {
     "duration": 0.334014,
     "end_time": "2021-06-30T02:51:32.375302",
     "exception": false,
     "start_time": "2021-06-30T02:51:32.041288",
     "status": "completed"
    },
    "tags": []
   },
   "outputs": [
    {
     "data": {
      "image/png": "[encoded data removed]",
      "text/plain": [
       "<Figure size 1296x576 with 1 Axes>"
      ]
     },
     "metadata": {
      "needs_background": "light"
     },
     "output_type": "display_data"
    }
   ],
   "source": [
    "tv_ratings = df_tv.groupby(['target_ages'])['type'].count().reset_index(name='count').sort_values(by='count',ascending=False)\n",
    "fig_dims = (18,8)\n",
    "fig, ax = plt.subplots(figsize=fig_dims)  \n",
    "sns.pointplot(x='target_ages',y='count',data=tv_ratings)\n",
    "plt.title('Top TV Show Ratings Based On Rating System',size='20')\n",
    "plt.show()\n",
    "#tv show rating based on rating system"
   ]
  },
  {
   "cell_type": "code",
   "execution_count": 35,
   "id": "hairy-classic",
   "metadata": {
    "execution": {
     "iopub.execute_input": "2021-06-30T02:51:32.600770Z",
     "iopub.status.busy": "2021-06-30T02:51:32.599963Z",
     "iopub.status.idle": "2021-06-30T02:51:34.879082Z",
     "shell.execute_reply": "2021-06-30T02:51:34.878461Z",
     "shell.execute_reply.started": "2021-06-30T02:48:19.437984Z"
    },
    "id": "vaLpK9WHtn0m",
    "outputId": "6193c192-967c-4516-ca05-d6dafe13c652",
    "papermill": {
     "duration": 2.394843,
     "end_time": "2021-06-30T02:51:34.879231",
     "exception": false,
     "start_time": "2021-06-30T02:51:32.484388",
     "status": "completed"
    },
    "tags": []
   },
   "outputs": [
    {
     "data": {
      "text/html": [
       "<div>                            <div id=\"78dccb28-2a54-46be-a7c0-8af64dad85af\" class=\"plotly-graph-div\" style=\"height:525px; width:100%;\"></div>            <script type=\"text/javascript\">                require([\"plotly\"], function(Plotly) {                    window.PLOTLYENV=window.PLOTLYENV || {};                                    if (document.getElementById(\"78dccb28-2a54-46be-a7c0-8af64dad85af\")) {                    Plotly.newPlot(                        \"78dccb28-2a54-46be-a7c0-8af64dad85af\",                        [{\"alignmentgroup\": \"True\", \"hovertemplate\": \"TARGET AGE GROUPS=Adults<br>RATINGS=%{x}<br>COUNT=%{y}<extra></extra>\", \"legendgroup\": \"Adults\", \"marker\": {\"color\": \"#636efa\"}, \"name\": \"Adults\", \"offsetgroup\": \"Adults\", \"orientation\": \"v\", \"showlegend\": true, \"textposition\": \"auto\", \"type\": \"bar\", \"x\": [\"NC-17\", \"NR\", \"R\", \"TV-MA\", \"UR\"], \"xaxis\": \"x\", \"y\": [3, 83, 665, 2868, 5], \"yaxis\": \"y\"}, {\"alignmentgroup\": \"True\", \"hovertemplate\": \"TARGET AGE GROUPS=Kids<br>RATINGS=%{x}<br>COUNT=%{y}<extra></extra>\", \"legendgroup\": \"Kids\", \"marker\": {\"color\": \"#EF553B\"}, \"name\": \"Kids\", \"offsetgroup\": \"Kids\", \"orientation\": \"v\", \"showlegend\": true, \"textposition\": \"auto\", \"type\": \"bar\", \"x\": [\"G\", \"TV-G\", \"TV-Y\"], \"xaxis\": \"x\", \"y\": [39, 194, 279], \"yaxis\": \"y\"}, {\"alignmentgroup\": \"True\", \"hovertemplate\": \"TARGET AGE GROUPS=Older Kids<br>RATINGS=%{x}<br>COUNT=%{y}<extra></extra>\", \"legendgroup\": \"Older Kids\", \"marker\": {\"color\": \"#00cc96\"}, \"name\": \"Older Kids\", \"offsetgroup\": \"Older Kids\", \"orientation\": \"v\", \"showlegend\": true, \"textposition\": \"auto\", \"type\": \"bar\", \"x\": [\"PG\", \"TV-PG\", \"TV-Y7\", \"TV-Y7-FV\"], \"xaxis\": \"x\", \"y\": [247, 804, 270, 6], \"yaxis\": \"y\"}, {\"alignmentgroup\": \"True\", \"hovertemplate\": \"TARGET AGE GROUPS=Teens<br>RATINGS=%{x}<br>COUNT=%{y}<extra></extra>\", \"legendgroup\": \"Teens\", \"marker\": {\"color\": \"#ab63fa\"}, \"name\": \"Teens\", \"offsetgroup\": \"Teens\", \"orientation\": \"v\", \"showlegend\": true, \"textposition\": \"auto\", \"type\": \"bar\", \"x\": [\"PG-13\", \"TV-14\"], \"xaxis\": \"x\", \"y\": [386, 1928], \"yaxis\": \"y\"}],                        {\"barmode\": \"relative\", \"legend\": {\"title\": {\"text\": \"TARGET AGE GROUPS\"}, \"tracegroupgap\": 0}, \"template\": {\"data\": {\"bar\": [{\"error_x\": {\"color\": \"#2a3f5f\"}, \"error_y\": {\"color\": \"#2a3f5f\"}, \"marker\": {\"line\": {\"color\": \"#E5ECF6\", \"width\": 0.5}}, \"type\": \"bar\"}], \"barpolar\": [{\"marker\": {\"line\": {\"color\": \"#E5ECF6\", \"width\": 0.5}}, \"type\": \"barpolar\"}], \"carpet\": [{\"aaxis\": {\"endlinecolor\": \"#2a3f5f\", \"gridcolor\": \"white\", \"linecolor\": \"white\", \"minorgridcolor\": \"white\", \"startlinecolor\": \"#2a3f5f\"}, \"baxis\": {\"endlinecolor\": \"#2a3f5f\", \"gridcolor\": \"white\", \"linecolor\": \"white\", \"minorgridcolor\": \"white\", \"startlinecolor\": \"#2a3f5f\"}, \"type\": \"carpet\"}], \"choropleth\": [{\"colorbar\": {\"outlinewidth\": 0, \"ticks\": \"\"}, \"type\": \"choropleth\"}], \"contour\": [{\"colorbar\": {\"outlinewidth\": 0, \"ticks\": \"\"}, \"colorscale\": [[0.0, \"#0d0887\"], [0.1111111111111111, \"#46039f\"], [0.2222222222222222, \"#7201a8\"], [0.3333333333333333, \"#9c179e\"], [0.4444444444444444, \"#bd3786\"], [0.5555555555555556, \"#d8576b\"], [0.6666666666666666, \"#ed7953\"], [0.7777777777777778, \"#fb9f3a\"], [0.8888888888888888, \"#fdca26\"], [1.0, \"#f0f921\"]], \"type\": \"contour\"}], \"contourcarpet\": [{\"colorbar\": {\"outlinewidth\": 0, \"ticks\": \"\"}, \"type\": \"contourcarpet\"}], \"heatmap\": [{\"colorbar\": {\"outlinewidth\": 0, \"ticks\": \"\"}, \"colorscale\": [[0.0, \"#0d0887\"], [0.1111111111111111, \"#46039f\"], [0.2222222222222222, \"#7201a8\"], [0.3333333333333333, \"#9c179e\"], [0.4444444444444444, \"#bd3786\"], [0.5555555555555556, \"#d8576b\"], [0.6666666666666666, \"#ed7953\"], [0.7777777777777778, \"#fb9f3a\"], [0.8888888888888888, \"#fdca26\"], [1.0, \"#f0f921\"]], \"type\": \"heatmap\"}], \"heatmapgl\": [{\"colorbar\": {\"outlinewidth\": 0, \"ticks\": \"\"}, \"colorscale\": [[0.0, \"#0d0887\"], [0.1111111111111111, \"#46039f\"], [0.2222222222222222, \"#7201a8\"], [0.3333333333333333, \"#9c179e\"], [0.4444444444444444, \"#bd3786\"], [0.5555555555555556, \"#d8576b\"], [0.6666666666666666, \"#ed7953\"], [0.7777777777777778, \"#fb9f3a\"], [0.8888888888888888, \"#fdca26\"], [1.0, \"#f0f921\"]], \"type\": \"heatmapgl\"}], \"histogram\": [{\"marker\": {\"colorbar\": {\"outlinewidth\": 0, \"ticks\": \"\"}}, \"type\": \"histogram\"}], \"histogram2d\": [{\"colorbar\": {\"outlinewidth\": 0, \"ticks\": \"\"}, \"colorscale\": [[0.0, \"#0d0887\"], [0.1111111111111111, \"#46039f\"], [0.2222222222222222, \"#7201a8\"], [0.3333333333333333, \"#9c179e\"], [0.4444444444444444, \"#bd3786\"], [0.5555555555555556, \"#d8576b\"], [0.6666666666666666, \"#ed7953\"], [0.7777777777777778, \"#fb9f3a\"], [0.8888888888888888, \"#fdca26\"], [1.0, \"#f0f921\"]], \"type\": \"histogram2d\"}], \"histogram2dcontour\": [{\"colorbar\": {\"outlinewidth\": 0, \"ticks\": \"\"}, \"colorscale\": [[0.0, \"#0d0887\"], [0.1111111111111111, \"#46039f\"], [0.2222222222222222, \"#7201a8\"], [0.3333333333333333, \"#9c179e\"], [0.4444444444444444, \"#bd3786\"], [0.5555555555555556, \"#d8576b\"], [0.6666666666666666, \"#ed7953\"], [0.7777777777777778, \"#fb9f3a\"], [0.8888888888888888, \"#fdca26\"], [1.0, \"#f0f921\"]], \"type\": \"histogram2dcontour\"}], \"mesh3d\": [{\"colorbar\": {\"outlinewidth\": 0, \"ticks\": \"\"}, \"type\": \"mesh3d\"}], \"parcoords\": [{\"line\": {\"colorbar\": {\"outlinewidth\": 0, \"ticks\": \"\"}}, \"type\": \"parcoords\"}], \"pie\": [{\"automargin\": true, \"type\": \"pie\"}], \"scatter\": [{\"marker\": {\"colorbar\": {\"outlinewidth\": 0, \"ticks\": \"\"}}, \"type\": \"scatter\"}], \"scatter3d\": [{\"line\": {\"colorbar\": {\"outlinewidth\": 0, \"ticks\": \"\"}}, \"marker\": {\"colorbar\": {\"outlinewidth\": 0, \"ticks\": \"\"}}, \"type\": \"scatter3d\"}], \"scattercarpet\": [{\"marker\": {\"colorbar\": {\"outlinewidth\": 0, \"ticks\": \"\"}}, \"type\": \"scattercarpet\"}], \"scattergeo\": [{\"marker\": {\"colorbar\": {\"outlinewidth\": 0, \"ticks\": \"\"}}, \"type\": \"scattergeo\"}], \"scattergl\": [{\"marker\": {\"colorbar\": {\"outlinewidth\": 0, \"ticks\": \"\"}}, \"type\": \"scattergl\"}], \"scattermapbox\": [{\"marker\": {\"colorbar\": {\"outlinewidth\": 0, \"ticks\": \"\"}}, \"type\": \"scattermapbox\"}], \"scatterpolar\": [{\"marker\": {\"colorbar\": {\"outlinewidth\": 0, \"ticks\": \"\"}}, \"type\": \"scatterpolar\"}], \"scatterpolargl\": [{\"marker\": {\"colorbar\": {\"outlinewidth\": 0, \"ticks\": \"\"}}, \"type\": \"scatterpolargl\"}], \"scatterternary\": [{\"marker\": {\"colorbar\": {\"outlinewidth\": 0, \"ticks\": \"\"}}, \"type\": \"scatterternary\"}], \"surface\": [{\"colorbar\": {\"outlinewidth\": 0, \"ticks\": \"\"}, \"colorscale\": [[0.0, \"#0d0887\"], [0.1111111111111111, \"#46039f\"], [0.2222222222222222, \"#7201a8\"], [0.3333333333333333, \"#9c179e\"], [0.4444444444444444, \"#bd3786\"], [0.5555555555555556, \"#d8576b\"], [0.6666666666666666, \"#ed7953\"], [0.7777777777777778, \"#fb9f3a\"], [0.8888888888888888, \"#fdca26\"], [1.0, \"#f0f921\"]], \"type\": \"surface\"}], \"table\": [{\"cells\": {\"fill\": {\"color\": \"#EBF0F8\"}, \"line\": {\"color\": \"white\"}}, \"header\": {\"fill\": {\"color\": \"#C8D4E3\"}, \"line\": {\"color\": \"white\"}}, \"type\": \"table\"}]}, \"layout\": {\"annotationdefaults\": {\"arrowcolor\": \"#2a3f5f\", \"arrowhead\": 0, \"arrowwidth\": 1}, \"autotypenumbers\": \"strict\", \"coloraxis\": {\"colorbar\": {\"outlinewidth\": 0, \"ticks\": \"\"}}, \"colorscale\": {\"diverging\": [[0, \"#8e0152\"], [0.1, \"#c51b7d\"], [0.2, \"#de77ae\"], [0.3, \"#f1b6da\"], [0.4, \"#fde0ef\"], [0.5, \"#f7f7f7\"], [0.6, \"#e6f5d0\"], [0.7, \"#b8e186\"], [0.8, \"#7fbc41\"], [0.9, \"#4d9221\"], [1, \"#276419\"]], \"sequential\": [[0.0, \"#0d0887\"], [0.1111111111111111, \"#46039f\"], [0.2222222222222222, \"#7201a8\"], [0.3333333333333333, \"#9c179e\"], [0.4444444444444444, \"#bd3786\"], [0.5555555555555556, \"#d8576b\"], [0.6666666666666666, \"#ed7953\"], [0.7777777777777778, \"#fb9f3a\"], [0.8888888888888888, \"#fdca26\"], [1.0, \"#f0f921\"]], \"sequentialminus\": [[0.0, \"#0d0887\"], [0.1111111111111111, \"#46039f\"], [0.2222222222222222, \"#7201a8\"], [0.3333333333333333, \"#9c179e\"], [0.4444444444444444, \"#bd3786\"], [0.5555555555555556, \"#d8576b\"], [0.6666666666666666, \"#ed7953\"], [0.7777777777777778, \"#fb9f3a\"], [0.8888888888888888, \"#fdca26\"], [1.0, \"#f0f921\"]]}, \"colorway\": [\"#636efa\", \"#EF553B\", \"#00cc96\", \"#ab63fa\", \"#FFA15A\", \"#19d3f3\", \"#FF6692\", \"#B6E880\", \"#FF97FF\", \"#FECB52\"], \"font\": {\"color\": \"#2a3f5f\"}, \"geo\": {\"bgcolor\": \"white\", \"lakecolor\": \"white\", \"landcolor\": \"#E5ECF6\", \"showlakes\": true, \"showland\": true, \"subunitcolor\": \"white\"}, \"hoverlabel\": {\"align\": \"left\"}, \"hovermode\": \"closest\", \"mapbox\": {\"style\": \"light\"}, \"paper_bgcolor\": \"white\", \"plot_bgcolor\": \"#E5ECF6\", \"polar\": {\"angularaxis\": {\"gridcolor\": \"white\", \"linecolor\": \"white\", \"ticks\": \"\"}, \"bgcolor\": \"#E5ECF6\", \"radialaxis\": {\"gridcolor\": \"white\", \"linecolor\": \"white\", \"ticks\": \"\"}}, \"scene\": {\"xaxis\": {\"backgroundcolor\": \"#E5ECF6\", \"gridcolor\": \"white\", \"gridwidth\": 2, \"linecolor\": \"white\", \"showbackground\": true, \"ticks\": \"\", \"zerolinecolor\": \"white\"}, \"yaxis\": {\"backgroundcolor\": \"#E5ECF6\", \"gridcolor\": \"white\", \"gridwidth\": 2, \"linecolor\": \"white\", \"showbackground\": true, \"ticks\": \"\", \"zerolinecolor\": \"white\"}, \"zaxis\": {\"backgroundcolor\": \"#E5ECF6\", \"gridcolor\": \"white\", \"gridwidth\": 2, \"linecolor\": \"white\", \"showbackground\": true, \"ticks\": \"\", \"zerolinecolor\": \"white\"}}, \"shapedefaults\": {\"line\": {\"color\": \"#2a3f5f\"}}, \"ternary\": {\"aaxis\": {\"gridcolor\": \"white\", \"linecolor\": \"white\", \"ticks\": \"\"}, \"baxis\": {\"gridcolor\": \"white\", \"linecolor\": \"white\", \"ticks\": \"\"}, \"bgcolor\": \"#E5ECF6\", \"caxis\": {\"gridcolor\": \"white\", \"linecolor\": \"white\", \"ticks\": \"\"}}, \"title\": {\"x\": 0.05}, \"xaxis\": {\"automargin\": true, \"gridcolor\": \"white\", \"linecolor\": \"white\", \"ticks\": \"\", \"title\": {\"standoff\": 15}, \"zerolinecolor\": \"white\", \"zerolinewidth\": 2}, \"yaxis\": {\"automargin\": true, \"gridcolor\": \"white\", \"linecolor\": \"white\", \"ticks\": \"\", \"title\": {\"standoff\": 15}, \"zerolinecolor\": \"white\", \"zerolinewidth\": 2}}}, \"title\": {\"text\": \"Ratings of Movies And TV Shows Based On Target Age Groups\"}, \"xaxis\": {\"anchor\": \"y\", \"domain\": [0.0, 1.0], \"title\": {\"text\": \"RATINGS\"}}, \"yaxis\": {\"anchor\": \"x\", \"domain\": [0.0, 1.0], \"title\": {\"text\": \"COUNT\"}}},                        {\"responsive\": true}                    ).then(function(){\n",
       "                            \n",
       "var gd = document.getElementById('78dccb28-2a54-46be-a7c0-8af64dad85af');\n",
       "var x = new MutationObserver(function (mutations, observer) {{\n",
       "        var display = window.getComputedStyle(gd).display;\n",
       "        if (!display || display === 'none') {{\n",
       "            console.log([gd, 'removed!']);\n",
       "            Plotly.purge(gd);\n",
       "            observer.disconnect();\n",
       "        }}\n",
       "}});\n",
       "\n",
       "// Listen for the removal of the full notebook cells\n",
       "var notebookContainer = gd.closest('#notebook-container');\n",
       "if (notebookContainer) {{\n",
       "    x.observe(notebookContainer, {childList: true});\n",
       "}}\n",
       "\n",
       "// Listen for the clearing of the current output cell\n",
       "var outputEl = gd.closest('.output');\n",
       "if (outputEl) {{\n",
       "    x.observe(outputEl, {childList: true});\n",
       "}}\n",
       "\n",
       "                        })                };                });            </script>        </div>"
      ]
     },
     "metadata": {},
     "output_type": "display_data"
    }
   ],
   "source": [
    "import plotly.express as px\n",
    "def generate_rating_df(df):\n",
    "    rating_df = df.groupby(['rating', 'target_ages']).agg({'type': 'count'}).reset_index()\n",
    "    rating_df = rating_df[rating_df['type'] != 0]\n",
    "    rating_df.columns = ['rating', 'target_ages', 'counts']\n",
    "    rating_df = rating_df.sort_values('target_ages')\n",
    "    return rating_df\n",
    "\n",
    "\n",
    "rating_df = generate_rating_df(df)\n",
    "fig = px.bar(rating_df, x='rating', y='counts', color='target_ages', title='Ratings of Movies And TV Shows Based On Target Age Groups',  labels={'counts':'COUNT', 'rating':'RATINGS', 'target_ages':'TARGET AGE GROUPS' })\n",
    "fig.show()\n",
    "#Ratings of Movies And TV Shows Based On Target Age Groups"
   ]
  },
  {
   "cell_type": "code",
   "execution_count": 36,
   "id": "brilliant-edinburgh",
   "metadata": {
    "execution": {
     "iopub.execute_input": "2021-06-30T02:51:35.108731Z",
     "iopub.status.busy": "2021-06-30T02:51:35.108044Z",
     "iopub.status.idle": "2021-06-30T02:51:35.416255Z",
     "shell.execute_reply": "2021-06-30T02:51:35.416769Z",
     "shell.execute_reply.started": "2021-06-30T02:48:19.667020Z"
    },
    "id": "bEgfVGz9uEcd",
    "outputId": "3c55bb4e-4d8e-4fbc-c59a-2f9c7867d58d",
    "papermill": {
     "duration": 0.426242,
     "end_time": "2021-06-30T02:51:35.416963",
     "exception": false,
     "start_time": "2021-06-30T02:51:34.990721",
     "status": "completed"
    },
    "tags": []
   },
   "outputs": [
    {
     "data": {
      "image/png": "[encoded data removed]",
      "text/plain": [
       "<Figure size 864x720 with 1 Axes>"
      ]
     },
     "metadata": {
      "needs_background": "light"
     },
     "output_type": "display_data"
    }
   ],
   "source": [
    "plt.figure(figsize=(12,10))\n",
    "sns.set(style=\"whitegrid\")\n",
    "ax = sns.countplot(y=\"release_year\", data=df_movie, palette=\"coolwarm\", order=df_movie['release_year'].value_counts().index[0:15])\n",
    "\n",
    "plt.title('ANALYSIS ON RELEASE YEAR OF MOVIES', fontsize=15, fontweight='bold')\n",
    "plt.show()\n",
    "#release year of movies"
   ]
  },
  {
   "cell_type": "code",
   "execution_count": 37,
   "id": "conservative-collection",
   "metadata": {
    "execution": {
     "iopub.execute_input": "2021-06-30T02:51:35.639956Z",
     "iopub.status.busy": "2021-06-30T02:51:35.639224Z",
     "iopub.status.idle": "2021-06-30T02:51:35.913583Z",
     "shell.execute_reply": "2021-06-30T02:51:35.914097Z",
     "shell.execute_reply.started": "2021-06-30T02:48:19.956585Z"
    },
    "id": "jFAuutpSuLl9",
    "outputId": "cbea7117-bf73-4899-f414-1956e6a9097a",
    "papermill": {
     "duration": 0.388373,
     "end_time": "2021-06-30T02:51:35.914356",
     "exception": false,
     "start_time": "2021-06-30T02:51:35.525983",
     "status": "completed"
    },
    "tags": []
   },
   "outputs": [
    {
     "data": {
      "image/png": "[encoded data removed]",
      "text/plain": [
       "<Figure size 864x720 with 1 Axes>"
      ]
     },
     "metadata": {},
     "output_type": "display_data"
    }
   ],
   "source": [
    "plt.figure(figsize=(12,10))\n",
    "sns.set(style=\"darkgrid\")\n",
    "ax = sns.countplot(y=\"release_year\", data=df_tv, palette=\"coolwarm\", order=df_tv['release_year'].value_counts().index[0:15])\n",
    "\n",
    "plt.title('ANALYSIS ON RELEASE YEAR OF TV Show', fontsize=15, fontweight='bold')\n",
    "plt.show()\n",
    "#release year of tv show"
   ]
  },
  {
   "cell_type": "code",
   "execution_count": 38,
   "id": "experimental-fluid",
   "metadata": {
    "execution": {
     "iopub.execute_input": "2021-06-30T02:51:36.222978Z",
     "iopub.status.busy": "2021-06-30T02:51:36.221956Z",
     "iopub.status.idle": "2021-06-30T02:51:36.489802Z",
     "shell.execute_reply": "2021-06-30T02:51:36.490423Z",
     "shell.execute_reply.started": "2021-06-30T02:48:20.223934Z"
    },
    "id": "5CQmNEvouRu_",
    "outputId": "cc7cfddb-555c-474a-aefb-78b6f79a0778",
    "papermill": {
     "duration": 0.410279,
     "end_time": "2021-06-30T02:51:36.490630",
     "exception": false,
     "start_time": "2021-06-30T02:51:36.080351",
     "status": "completed"
    },
    "tags": []
   },
   "outputs": [
    {
     "data": {
      "image/png": "[encoded data removed]",
      "text/plain": [
       "<Figure size 1080x360 with 1 Axes>"
      ]
     },
     "metadata": {},
     "output_type": "display_data"
    }
   ],
   "source": [
    "from collections import Counter\n",
    "country_data = df['country']\n",
    "country_count = pd.Series(dict(Counter(','.join(country_data).replace(' ,',',').replace(\n",
    "    ', ',',').split(',')))).sort_values(ascending=False)\n",
    "top20country = country_count.head(10)\n",
    "plt.figure(figsize=(15,5))\n",
    "sns.barplot(x= top20country.index, y=top20country, palette=\"pastel\")\n",
    "plt.xticks(rotation=50)\n",
    "plt.title('Top 10 countries with most contents', fontsize=15, fontweight='bold')\n",
    "plt.show()"
   ]
  },
  {
   "cell_type": "code",
   "execution_count": 39,
   "id": "cardiac-prospect",
   "metadata": {
    "execution": {
     "iopub.execute_input": "2021-06-30T02:51:36.716071Z",
     "iopub.status.busy": "2021-06-30T02:51:36.715064Z",
     "iopub.status.idle": "2021-06-30T02:51:36.732952Z",
     "shell.execute_reply": "2021-06-30T02:51:36.733529Z",
     "shell.execute_reply.started": "2021-06-30T02:48:20.495630Z"
    },
    "id": "od2qIluOuYGA",
    "papermill": {
     "duration": 0.132572,
     "end_time": "2021-06-30T02:51:36.733719",
     "exception": false,
     "start_time": "2021-06-30T02:51:36.601147",
     "status": "completed"
    },
    "tags": []
   },
   "outputs": [],
   "source": [
    "rating_order_movie =  ['G', 'TV-Y', 'TV-G', 'PG', 'TV-Y7', 'TV-Y7-FV', 'TV-PG', 'PG-13', 'TV-14', 'R', 'NC-17', 'TV-MA']\n",
    "rating_order_tv =  [ 'TV-Y', 'TV-G', 'TV-Y7', 'TV-Y7-FV', 'TV-PG', 'TV-14', 'R', 'TV-MA']\n",
    "movie_rating = df_movie['rating'].value_counts()[rating_order_movie]\n",
    "tv_rating = df_tv['rating'].value_counts()[rating_order_tv].fillna(0)\n",
    "def rating_barplot(data, title, height, h_lim=None):\n",
    "    fig, ax = plt.subplots(1,1, figsize=(15, 7))\n",
    "    if h_lim :\n",
    "        ax.set_ylim(0, h_lim)\n",
    "    ax.bar(data.index, data,  color=\"#d0d0d0\", width=0.6, edgecolor='black')\n",
    "\n",
    "    color =  ['green',  'blue',  'orange',  'red']\n",
    "    span_range = [[0, 2], [3,  6], [7, 8], [9, 11]]\n",
    "\n",
    "    for idx, sub_title in enumerate(['Little Kids', 'Older Kids', 'Teens', 'Mature']):\n",
    "        ax.annotate(sub_title,\n",
    "                    xy=(sum(span_range[idx])/2 ,height),\n",
    "                    xytext=(0,0), textcoords='offset points',\n",
    "                    va=\"center\", ha=\"center\",\n",
    "                    color=\"w\", fontsize=16, fontweight='bold',\n",
    "                    bbox=dict(boxstyle='round4', pad=0.4, color=color[idx], alpha=0.6))\n",
    "        ax.axvspan(span_range[idx][0]-0.4,span_range[idx][1]+0.4,  color=color[idx], alpha=0.1)\n",
    "\n",
    "    ax.set_title(f'Distribution of {title} Rating', fontsize=20, fontweight='bold', position=(0.5, 1.0+0.03))\n",
    "    plt.show()"
   ]
  },
  {
   "cell_type": "code",
   "execution_count": 40,
   "id": "micro-african",
   "metadata": {
    "execution": {
     "iopub.execute_input": "2021-06-30T02:51:36.993102Z",
     "iopub.status.busy": "2021-06-30T02:51:36.991455Z",
     "iopub.status.idle": "2021-06-30T02:51:37.248124Z",
     "shell.execute_reply": "2021-06-30T02:51:37.247567Z",
     "shell.execute_reply.started": "2021-06-30T02:48:20.514671Z"
    },
    "id": "NDUEnU9ruhWn",
    "outputId": "0a4baf33-9204-4933-b4dc-5ff707a04253",
    "papermill": {
     "duration": 0.403197,
     "end_time": "2021-06-30T02:51:37.248277",
     "exception": false,
     "start_time": "2021-06-30T02:51:36.845080",
     "status": "completed"
    },
    "tags": []
   },
   "outputs": [
    {
     "data": {
      "image/png": "[encoded data removed]",
      "text/plain": [
       "<Figure size 1080x504 with 1 Axes>"
      ]
     },
     "metadata": {},
     "output_type": "display_data"
    }
   ],
   "source": [
    "rating_barplot(movie_rating,'Movie', 1500)"
   ]
  },
  {
   "cell_type": "code",
   "execution_count": 41,
   "id": "alleged-bhutan",
   "metadata": {
    "execution": {
     "iopub.execute_input": "2021-06-30T02:51:37.619161Z",
     "iopub.status.busy": "2021-06-30T02:51:37.618295Z",
     "iopub.status.idle": "2021-06-30T02:51:37.850187Z",
     "shell.execute_reply": "2021-06-30T02:51:37.849386Z",
     "shell.execute_reply.started": "2021-06-30T02:48:20.856042Z"
    },
    "id": "5n2wyTvgujym",
    "outputId": "20cdebb6-5b42-406c-ee17-ce04105a4a0c",
    "papermill": {
     "duration": 0.491224,
     "end_time": "2021-06-30T02:51:37.850356",
     "exception": false,
     "start_time": "2021-06-30T02:51:37.359132",
     "status": "completed"
    },
    "tags": []
   },
   "outputs": [
    {
     "data": {
      "image/png": "[encoded data removed]",
      "text/plain": [
       "<Figure size 1080x504 with 1 Axes>"
      ]
     },
     "metadata": {},
     "output_type": "display_data"
    }
   ],
   "source": [
    "rating_barplot(tv_rating,'TV Show' , 600, 1500)"
   ]
  },
  {
   "cell_type": "markdown",
   "id": "static-filing",
   "metadata": {
    "id": "h7OBjI9oD2k2",
    "papermill": {
     "duration": 0.126971,
     "end_time": "2021-06-30T02:51:42.329554",
     "exception": false,
     "start_time": "2021-06-30T02:51:42.202583",
     "status": "completed"
    },
    "tags": []
   },
   "source": [
    "##Feature Engineering"
   ]
  },
  {
   "cell_type": "code",
   "execution_count": 44,
   "id": "requested-gross",
   "metadata": {
    "execution": {
     "iopub.execute_input": "2021-06-30T02:51:42.591433Z",
     "iopub.status.busy": "2021-06-30T02:51:42.590420Z",
     "iopub.status.idle": "2021-06-30T02:51:42.738657Z",
     "shell.execute_reply": "2021-06-30T02:51:42.739201Z",
     "shell.execute_reply.started": "2021-06-30T02:48:24.784937Z"
    },
    "id": "886jLrXMDWn3",
    "outputId": "8c1459aa-6961-476a-c3ca-3ecfa6160601",
    "papermill": {
     "duration": 0.282707,
     "end_time": "2021-06-30T02:51:42.739380",
     "exception": false,
     "start_time": "2021-06-30T02:51:42.456673",
     "status": "completed"
    },
    "tags": []
   },
   "outputs": [
    {
     "data": {
      "text/plain": [
       "\"target_ages_enc = LabelEncoder()\\ntarget_ages_enc.fit(df['target_ages'])\\ndf['target_ages_enc'] = target_ages_enc.transform(df['target_ages'])\""
      ]
     },
     "execution_count": 44,
     "metadata": {},
     "output_type": "execute_result"
    }
   ],
   "source": [
    "#label encoding\n",
    "from sklearn.preprocessing import LabelEncoder\n",
    "'''target_ages_enc = LabelEncoder()\n",
    "target_ages_enc.fit(df['target_ages'])\n",
    "df['target_ages_enc'] = target_ages_enc.transform(df['target_ages'])'''\n",
    "#adults is replaced by 0 , teens is replaced by 1 , older kids is replaced by 2 and kids is replaced by 3"
   ]
  },
  {
   "cell_type": "code",
   "execution_count": 45,
   "id": "raising-settlement",
   "metadata": {
    "execution": {
     "iopub.execute_input": "2021-06-30T02:51:42.999456Z",
     "iopub.status.busy": "2021-06-30T02:51:42.998716Z",
     "iopub.status.idle": "2021-06-30T02:51:43.001928Z",
     "shell.execute_reply": "2021-06-30T02:51:43.001399Z",
     "shell.execute_reply.started": "2021-06-30T02:48:24.792212Z"
    },
    "id": "1TIYP7-eD_ca",
    "papermill": {
     "duration": 0.135707,
     "end_time": "2021-06-30T02:51:43.002107",
     "exception": false,
     "start_time": "2021-06-30T02:51:42.866400",
     "status": "completed"
    },
    "tags": []
   },
   "outputs": [],
   "source": [
    "#df.drop('target_ages', axis='columns', inplace=True)"
   ]
  },
  {
   "cell_type": "code",
   "execution_count": 46,
   "id": "plastic-toyota",
   "metadata": {
    "execution": {
     "iopub.execute_input": "2021-06-30T02:51:43.298334Z",
     "iopub.status.busy": "2021-06-30T02:51:43.297595Z",
     "iopub.status.idle": "2021-06-30T02:51:43.301045Z",
     "shell.execute_reply": "2021-06-30T02:51:43.300358Z",
     "shell.execute_reply.started": "2021-06-30T02:48:24.805814Z"
    },
    "id": "TmFXEc8FEXLF",
    "papermill": {
     "duration": 0.16471,
     "end_time": "2021-06-30T02:51:43.301216",
     "exception": false,
     "start_time": "2021-06-30T02:51:43.136506",
     "status": "completed"
    },
    "tags": []
   },
   "outputs": [],
   "source": [
    "type_enc = LabelEncoder()\n",
    "type_enc.fit(df['type'])\n",
    "df['type_enc'] = type_enc.transform(df['type'])\n",
    "# movie is replaced by 1 and tv show is replaced by 0"
   ]
  },
  {
   "cell_type": "code",
   "execution_count": 47,
   "id": "common-passenger",
   "metadata": {
    "execution": {
     "iopub.execute_input": "2021-06-30T02:51:43.564870Z",
     "iopub.status.busy": "2021-06-30T02:51:43.563624Z",
     "iopub.status.idle": "2021-06-30T02:51:43.568632Z",
     "shell.execute_reply": "2021-06-30T02:51:43.568099Z",
     "shell.execute_reply.started": "2021-06-30T02:48:24.822068Z"
    },
    "id": "d0t8u8swFESP",
    "papermill": {
     "duration": 0.13866,
     "end_time": "2021-06-30T02:51:43.568784",
     "exception": false,
     "start_time": "2021-06-30T02:51:43.430124",
     "status": "completed"
    },
    "tags": []
   },
   "outputs": [],
   "source": [
    "df.drop('type', axis='columns', inplace=True)"
   ]
  },
  {
   "cell_type": "code",
   "execution_count": 48,
   "id": "gentle-script",
   "metadata": {
    "execution": {
     "iopub.execute_input": "2021-06-30T02:51:43.843471Z",
     "iopub.status.busy": "2021-06-30T02:51:43.842424Z",
     "iopub.status.idle": "2021-06-30T02:51:43.858049Z",
     "shell.execute_reply": "2021-06-30T02:51:43.858613Z",
     "shell.execute_reply.started": "2021-06-30T02:48:24.838493Z"
    },
    "id": "GBVl-cIKFKLS",
    "papermill": {
     "duration": 0.162419,
     "end_time": "2021-06-30T02:51:43.858787",
     "exception": false,
     "start_time": "2021-06-30T02:51:43.696368",
     "status": "completed"
    },
    "tags": []
   },
   "outputs": [],
   "source": [
    "title_enc = LabelEncoder()\n",
    "title_enc.fit(df['title'])\n",
    "df['title_enc'] = title_enc.transform(df['title'])"
   ]
  },
  {
   "cell_type": "code",
   "execution_count": 49,
   "id": "smaller-projector",
   "metadata": {
    "execution": {
     "iopub.execute_input": "2021-06-30T02:51:44.118903Z",
     "iopub.status.busy": "2021-06-30T02:51:44.117890Z",
     "iopub.status.idle": "2021-06-30T02:51:44.124879Z",
     "shell.execute_reply": "2021-06-30T02:51:44.125520Z",
     "shell.execute_reply.started": "2021-06-30T02:48:24.874631Z"
    },
    "id": "BC8aYo3mFrbj",
    "papermill": {
     "duration": 0.139151,
     "end_time": "2021-06-30T02:51:44.125706",
     "exception": false,
     "start_time": "2021-06-30T02:51:43.986555",
     "status": "completed"
    },
    "tags": []
   },
   "outputs": [],
   "source": [
    "df.drop('title', axis='columns', inplace=True)"
   ]
  },
  {
   "cell_type": "code",
   "execution_count": 50,
   "id": "upset-conviction",
   "metadata": {
    "execution": {
     "iopub.execute_input": "2021-06-30T02:51:44.389178Z",
     "iopub.status.busy": "2021-06-30T02:51:44.388147Z",
     "iopub.status.idle": "2021-06-30T02:51:44.398910Z",
     "shell.execute_reply": "2021-06-30T02:51:44.399501Z",
     "shell.execute_reply.started": "2021-06-30T02:48:24.882530Z"
    },
    "id": "kx-gZhG-Ftg2",
    "papermill": {
     "duration": 0.14421,
     "end_time": "2021-06-30T02:51:44.399688",
     "exception": false,
     "start_time": "2021-06-30T02:51:44.255478",
     "status": "completed"
    },
    "tags": []
   },
   "outputs": [],
   "source": [
    "country_enc = LabelEncoder()\n",
    "country_enc.fit(df['country'])\n",
    "df['country_enc'] = country_enc.transform(df['country'])"
   ]
  },
  {
   "cell_type": "code",
   "execution_count": 51,
   "id": "yellow-lloyd",
   "metadata": {
    "execution": {
     "iopub.execute_input": "2021-06-30T02:51:44.665332Z",
     "iopub.status.busy": "2021-06-30T02:51:44.664302Z",
     "iopub.status.idle": "2021-06-30T02:51:44.672170Z",
     "shell.execute_reply": "2021-06-30T02:51:44.671553Z",
     "shell.execute_reply.started": "2021-06-30T02:48:24.901763Z"
    },
    "id": "7zjqn3N5F8FZ",
    "papermill": {
     "duration": 0.144149,
     "end_time": "2021-06-30T02:51:44.672324",
     "exception": false,
     "start_time": "2021-06-30T02:51:44.528175",
     "status": "completed"
    },
    "tags": []
   },
   "outputs": [],
   "source": [
    "df.drop('country', axis='columns', inplace=True)"
   ]
  },
  {
   "cell_type": "code",
   "execution_count": 52,
   "id": "enclosed-nerve",
   "metadata": {
    "execution": {
     "iopub.execute_input": "2021-06-30T02:51:44.944927Z",
     "iopub.status.busy": "2021-06-30T02:51:44.944235Z",
     "iopub.status.idle": "2021-06-30T02:51:44.948871Z",
     "shell.execute_reply": "2021-06-30T02:51:44.948357Z",
     "shell.execute_reply.started": "2021-06-30T02:48:24.911312Z"
    },
    "id": "BdrJwCqlHRjn",
    "outputId": "24e77e87-4a0c-41c8-d386-4823d02f9dcb",
    "papermill": {
     "duration": 0.146655,
     "end_time": "2021-06-30T02:51:44.949035",
     "exception": false,
     "start_time": "2021-06-30T02:51:44.802380",
     "status": "completed"
    },
    "tags": []
   },
   "outputs": [
    {
     "data": {
      "text/plain": [
       "0      August 14\n",
       "1    December 23\n",
       "2    December 20\n",
       "3    November 16\n",
       "4      January 1\n",
       "Name: date_added_date, dtype: object"
      ]
     },
     "execution_count": 52,
     "metadata": {},
     "output_type": "execute_result"
    }
   ],
   "source": [
    "df['date_added_date'] = df['date_added'].apply(lambda x: x.split(\",\")[-2])\n",
    "df['date_added_date'].head()"
   ]
  },
  {
   "cell_type": "code",
   "execution_count": 53,
   "id": "official-survey",
   "metadata": {
    "execution": {
     "iopub.execute_input": "2021-06-30T02:51:45.211813Z",
     "iopub.status.busy": "2021-06-30T02:51:45.211045Z",
     "iopub.status.idle": "2021-06-30T02:51:45.237515Z",
     "shell.execute_reply": "2021-06-30T02:51:45.238059Z",
     "shell.execute_reply.started": "2021-06-30T02:48:24.932395Z"
    },
    "id": "Xw_qkJYhIuwI",
    "outputId": "cc23a03d-5776-413f-ef0a-575907165784",
    "papermill": {
     "duration": 0.16108,
     "end_time": "2021-06-30T02:51:45.238252",
     "exception": false,
     "start_time": "2021-06-30T02:51:45.077172",
     "status": "completed"
    },
    "tags": []
   },
   "outputs": [
    {
     "data": {
      "text/html": [
       "<div>\n",
       "<style scoped>\n",
       "    .dataframe tbody tr th:only-of-type {\n",
       "        vertical-align: middle;\n",
       "    }\n",
       "\n",
       "    .dataframe tbody tr th {\n",
       "        vertical-align: top;\n",
       "    }\n",
       "\n",
       "    .dataframe thead th {\n",
       "        text-align: right;\n",
       "    }\n",
       "</style>\n",
       "<table border=\"1\" class=\"dataframe\">\n",
       "  <thead>\n",
       "    <tr style=\"text-align: right;\">\n",
       "      <th></th>\n",
       "      <th>date_added</th>\n",
       "      <th>release_year</th>\n",
       "      <th>rating</th>\n",
       "      <th>duration</th>\n",
       "      <th>listed_in</th>\n",
       "      <th>year_added</th>\n",
       "      <th>month_added</th>\n",
       "      <th>target_ages</th>\n",
       "      <th>type_enc</th>\n",
       "      <th>title_enc</th>\n",
       "      <th>country_enc</th>\n",
       "      <th>date_added_date</th>\n",
       "    </tr>\n",
       "  </thead>\n",
       "  <tbody>\n",
       "    <tr>\n",
       "      <th>0</th>\n",
       "      <td>August 14, 2020</td>\n",
       "      <td>2020</td>\n",
       "      <td>TV-MA</td>\n",
       "      <td>4 Seasons</td>\n",
       "      <td>International TV Shows, TV Dramas, TV Sci-Fi &amp;...</td>\n",
       "      <td>2020</td>\n",
       "      <td>August</td>\n",
       "      <td>Adults</td>\n",
       "      <td>1</td>\n",
       "      <td>82</td>\n",
       "      <td>39</td>\n",
       "      <td>August 14</td>\n",
       "    </tr>\n",
       "    <tr>\n",
       "      <th>1</th>\n",
       "      <td>December 23, 2016</td>\n",
       "      <td>2016</td>\n",
       "      <td>TV-MA</td>\n",
       "      <td>93 min</td>\n",
       "      <td>Dramas, International Movies</td>\n",
       "      <td>2016</td>\n",
       "      <td>December</td>\n",
       "      <td>Adults</td>\n",
       "      <td>0</td>\n",
       "      <td>124</td>\n",
       "      <td>308</td>\n",
       "      <td>December 23</td>\n",
       "    </tr>\n",
       "    <tr>\n",
       "      <th>2</th>\n",
       "      <td>December 20, 2018</td>\n",
       "      <td>2011</td>\n",
       "      <td>R</td>\n",
       "      <td>78 min</td>\n",
       "      <td>Horror Movies, International Movies</td>\n",
       "      <td>2018</td>\n",
       "      <td>December</td>\n",
       "      <td>Adults</td>\n",
       "      <td>0</td>\n",
       "      <td>67</td>\n",
       "      <td>379</td>\n",
       "      <td>December 20</td>\n",
       "    </tr>\n",
       "    <tr>\n",
       "      <th>3</th>\n",
       "      <td>November 16, 2017</td>\n",
       "      <td>2009</td>\n",
       "      <td>PG-13</td>\n",
       "      <td>80 min</td>\n",
       "      <td>Action &amp; Adventure, Independent Movies, Sci-Fi...</td>\n",
       "      <td>2017</td>\n",
       "      <td>November</td>\n",
       "      <td>Teens</td>\n",
       "      <td>0</td>\n",
       "      <td>126</td>\n",
       "      <td>549</td>\n",
       "      <td>November 16</td>\n",
       "    </tr>\n",
       "    <tr>\n",
       "      <th>4</th>\n",
       "      <td>January 1, 2020</td>\n",
       "      <td>2008</td>\n",
       "      <td>PG-13</td>\n",
       "      <td>123 min</td>\n",
       "      <td>Dramas</td>\n",
       "      <td>2020</td>\n",
       "      <td>January</td>\n",
       "      <td>Teens</td>\n",
       "      <td>0</td>\n",
       "      <td>60</td>\n",
       "      <td>549</td>\n",
       "      <td>January 1</td>\n",
       "    </tr>\n",
       "    <tr>\n",
       "      <th>...</th>\n",
       "      <td>...</td>\n",
       "      <td>...</td>\n",
       "      <td>...</td>\n",
       "      <td>...</td>\n",
       "      <td>...</td>\n",
       "      <td>...</td>\n",
       "      <td>...</td>\n",
       "      <td>...</td>\n",
       "      <td>...</td>\n",
       "      <td>...</td>\n",
       "      <td>...</td>\n",
       "      <td>...</td>\n",
       "    </tr>\n",
       "    <tr>\n",
       "      <th>7782</th>\n",
       "      <td>October 19, 2020</td>\n",
       "      <td>2005</td>\n",
       "      <td>TV-MA</td>\n",
       "      <td>99 min</td>\n",
       "      <td>Dramas, International Movies</td>\n",
       "      <td>2020</td>\n",
       "      <td>October</td>\n",
       "      <td>Adults</td>\n",
       "      <td>0</td>\n",
       "      <td>7749</td>\n",
       "      <td>429</td>\n",
       "      <td>October 19</td>\n",
       "    </tr>\n",
       "    <tr>\n",
       "      <th>7783</th>\n",
       "      <td>March 2, 2019</td>\n",
       "      <td>2015</td>\n",
       "      <td>TV-14</td>\n",
       "      <td>111 min</td>\n",
       "      <td>Dramas, International Movies, Music &amp; Musicals</td>\n",
       "      <td>2019</td>\n",
       "      <td>March</td>\n",
       "      <td>Teens</td>\n",
       "      <td>0</td>\n",
       "      <td>7751</td>\n",
       "      <td>229</td>\n",
       "      <td>March 2</td>\n",
       "    </tr>\n",
       "    <tr>\n",
       "      <th>7784</th>\n",
       "      <td>September 25, 2020</td>\n",
       "      <td>2019</td>\n",
       "      <td>TV-MA</td>\n",
       "      <td>44 min</td>\n",
       "      <td>Documentaries, International Movies, Music &amp; M...</td>\n",
       "      <td>2020</td>\n",
       "      <td>September</td>\n",
       "      <td>Adults</td>\n",
       "      <td>0</td>\n",
       "      <td>7752</td>\n",
       "      <td>549</td>\n",
       "      <td>September 25</td>\n",
       "    </tr>\n",
       "    <tr>\n",
       "      <th>7785</th>\n",
       "      <td>October 31, 2020</td>\n",
       "      <td>2019</td>\n",
       "      <td>TV-PG</td>\n",
       "      <td>1 Season</td>\n",
       "      <td>International TV Shows, Reality TV</td>\n",
       "      <td>2020</td>\n",
       "      <td>October</td>\n",
       "      <td>Older Kids</td>\n",
       "      <td>1</td>\n",
       "      <td>7753</td>\n",
       "      <td>12</td>\n",
       "      <td>October 31</td>\n",
       "    </tr>\n",
       "    <tr>\n",
       "      <th>7786</th>\n",
       "      <td>March 1, 2020</td>\n",
       "      <td>2019</td>\n",
       "      <td>TV-MA</td>\n",
       "      <td>90 min</td>\n",
       "      <td>Documentaries, Music &amp; Musicals</td>\n",
       "      <td>2020</td>\n",
       "      <td>March</td>\n",
       "      <td>Adults</td>\n",
       "      <td>0</td>\n",
       "      <td>7724</td>\n",
       "      <td>473</td>\n",
       "      <td>March 1</td>\n",
       "    </tr>\n",
       "  </tbody>\n",
       "</table>\n",
       "<p>7777 rows × 12 columns</p>\n",
       "</div>"
      ],
      "text/plain": [
       "              date_added  release_year rating   duration  \\\n",
       "0        August 14, 2020          2020  TV-MA  4 Seasons   \n",
       "1      December 23, 2016          2016  TV-MA     93 min   \n",
       "2      December 20, 2018          2011      R     78 min   \n",
       "3      November 16, 2017          2009  PG-13     80 min   \n",
       "4        January 1, 2020          2008  PG-13    123 min   \n",
       "...                  ...           ...    ...        ...   \n",
       "7782    October 19, 2020          2005  TV-MA     99 min   \n",
       "7783       March 2, 2019          2015  TV-14    111 min   \n",
       "7784  September 25, 2020          2019  TV-MA     44 min   \n",
       "7785    October 31, 2020          2019  TV-PG   1 Season   \n",
       "7786       March 1, 2020          2019  TV-MA     90 min   \n",
       "\n",
       "                                              listed_in year_added  \\\n",
       "0     International TV Shows, TV Dramas, TV Sci-Fi &...       2020   \n",
       "1                          Dramas, International Movies       2016   \n",
       "2                   Horror Movies, International Movies       2018   \n",
       "3     Action & Adventure, Independent Movies, Sci-Fi...       2017   \n",
       "4                                                Dramas       2020   \n",
       "...                                                 ...        ...   \n",
       "7782                       Dramas, International Movies       2020   \n",
       "7783     Dramas, International Movies, Music & Musicals       2019   \n",
       "7784  Documentaries, International Movies, Music & M...       2020   \n",
       "7785                 International TV Shows, Reality TV       2020   \n",
       "7786                    Documentaries, Music & Musicals       2020   \n",
       "\n",
       "     month_added target_ages  type_enc  title_enc  country_enc date_added_date  \n",
       "0         August      Adults         1         82           39       August 14  \n",
       "1       December      Adults         0        124          308     December 23  \n",
       "2       December      Adults         0         67          379     December 20  \n",
       "3       November       Teens         0        126          549     November 16  \n",
       "4        January       Teens         0         60          549       January 1  \n",
       "...          ...         ...       ...        ...          ...             ...  \n",
       "7782     October      Adults         0       7749          429      October 19  \n",
       "7783       March       Teens         0       7751          229         March 2  \n",
       "7784   September      Adults         0       7752          549    September 25  \n",
       "7785     October  Older Kids         1       7753           12      October 31  \n",
       "7786       March      Adults         0       7724          473         March 1  \n",
       "\n",
       "[7777 rows x 12 columns]"
      ]
     },
     "execution_count": 53,
     "metadata": {},
     "output_type": "execute_result"
    }
   ],
   "source": [
    "df"
   ]
  },
  {
   "cell_type": "code",
   "execution_count": 54,
   "id": "floating-needle",
   "metadata": {
    "execution": {
     "iopub.execute_input": "2021-06-30T02:51:45.504204Z",
     "iopub.status.busy": "2021-06-30T02:51:45.503431Z",
     "iopub.status.idle": "2021-06-30T02:51:45.515725Z",
     "shell.execute_reply": "2021-06-30T02:51:45.516280Z",
     "shell.execute_reply.started": "2021-06-30T02:48:24.969355Z"
    },
    "id": "m-8aO0XoJ3iK",
    "outputId": "3c11eef6-7007-4d54-d4cc-248d59717f81",
    "papermill": {
     "duration": 0.145328,
     "end_time": "2021-06-30T02:51:45.516457",
     "exception": false,
     "start_time": "2021-06-30T02:51:45.371129",
     "status": "completed"
    },
    "tags": []
   },
   "outputs": [
    {
     "data": {
      "text/plain": [
       "0    14\n",
       "1    23\n",
       "2    20\n",
       "3    16\n",
       "4     1\n",
       "Name: date_added_dates, dtype: object"
      ]
     },
     "execution_count": 54,
     "metadata": {},
     "output_type": "execute_result"
    }
   ],
   "source": [
    "df['date_added_dates'] = df['date_added_date'].apply(lambda x: x.split(\" \")[-1])\n",
    "df['date_added_dates'].head()"
   ]
  },
  {
   "cell_type": "code",
   "execution_count": 55,
   "id": "convinced-intent",
   "metadata": {
    "execution": {
     "iopub.execute_input": "2021-06-30T02:51:45.801152Z",
     "iopub.status.busy": "2021-06-30T02:51:45.800141Z",
     "iopub.status.idle": "2021-06-30T02:51:45.805480Z",
     "shell.execute_reply": "2021-06-30T02:51:45.804912Z",
     "shell.execute_reply.started": "2021-06-30T02:48:24.984096Z"
    },
    "id": "vQY7OXWILMks",
    "outputId": "2da10f76-769b-4c60-bc94-497bbe08616a",
    "papermill": {
     "duration": 0.159865,
     "end_time": "2021-06-30T02:51:45.805639",
     "exception": false,
     "start_time": "2021-06-30T02:51:45.645774",
     "status": "completed"
    },
    "tags": []
   },
   "outputs": [
    {
     "data": {
      "text/html": [
       "<div>\n",
       "<style scoped>\n",
       "    .dataframe tbody tr th:only-of-type {\n",
       "        vertical-align: middle;\n",
       "    }\n",
       "\n",
       "    .dataframe tbody tr th {\n",
       "        vertical-align: top;\n",
       "    }\n",
       "\n",
       "    .dataframe thead th {\n",
       "        text-align: right;\n",
       "    }\n",
       "</style>\n",
       "<table border=\"1\" class=\"dataframe\">\n",
       "  <thead>\n",
       "    <tr style=\"text-align: right;\">\n",
       "      <th></th>\n",
       "      <th>date_added</th>\n",
       "      <th>release_year</th>\n",
       "      <th>rating</th>\n",
       "      <th>duration</th>\n",
       "      <th>listed_in</th>\n",
       "      <th>year_added</th>\n",
       "      <th>month_added</th>\n",
       "      <th>target_ages</th>\n",
       "      <th>type_enc</th>\n",
       "      <th>title_enc</th>\n",
       "      <th>country_enc</th>\n",
       "      <th>date_added_date</th>\n",
       "      <th>date_added_dates</th>\n",
       "    </tr>\n",
       "  </thead>\n",
       "  <tbody>\n",
       "    <tr>\n",
       "      <th>0</th>\n",
       "      <td>August 14, 2020</td>\n",
       "      <td>2020</td>\n",
       "      <td>TV-MA</td>\n",
       "      <td>4 Seasons</td>\n",
       "      <td>International TV Shows, TV Dramas, TV Sci-Fi &amp;...</td>\n",
       "      <td>2020</td>\n",
       "      <td>August</td>\n",
       "      <td>Adults</td>\n",
       "      <td>1</td>\n",
       "      <td>82</td>\n",
       "      <td>39</td>\n",
       "      <td>August 14</td>\n",
       "      <td>14</td>\n",
       "    </tr>\n",
       "    <tr>\n",
       "      <th>1</th>\n",
       "      <td>December 23, 2016</td>\n",
       "      <td>2016</td>\n",
       "      <td>TV-MA</td>\n",
       "      <td>93 min</td>\n",
       "      <td>Dramas, International Movies</td>\n",
       "      <td>2016</td>\n",
       "      <td>December</td>\n",
       "      <td>Adults</td>\n",
       "      <td>0</td>\n",
       "      <td>124</td>\n",
       "      <td>308</td>\n",
       "      <td>December 23</td>\n",
       "      <td>23</td>\n",
       "    </tr>\n",
       "    <tr>\n",
       "      <th>2</th>\n",
       "      <td>December 20, 2018</td>\n",
       "      <td>2011</td>\n",
       "      <td>R</td>\n",
       "      <td>78 min</td>\n",
       "      <td>Horror Movies, International Movies</td>\n",
       "      <td>2018</td>\n",
       "      <td>December</td>\n",
       "      <td>Adults</td>\n",
       "      <td>0</td>\n",
       "      <td>67</td>\n",
       "      <td>379</td>\n",
       "      <td>December 20</td>\n",
       "      <td>20</td>\n",
       "    </tr>\n",
       "    <tr>\n",
       "      <th>3</th>\n",
       "      <td>November 16, 2017</td>\n",
       "      <td>2009</td>\n",
       "      <td>PG-13</td>\n",
       "      <td>80 min</td>\n",
       "      <td>Action &amp; Adventure, Independent Movies, Sci-Fi...</td>\n",
       "      <td>2017</td>\n",
       "      <td>November</td>\n",
       "      <td>Teens</td>\n",
       "      <td>0</td>\n",
       "      <td>126</td>\n",
       "      <td>549</td>\n",
       "      <td>November 16</td>\n",
       "      <td>16</td>\n",
       "    </tr>\n",
       "    <tr>\n",
       "      <th>4</th>\n",
       "      <td>January 1, 2020</td>\n",
       "      <td>2008</td>\n",
       "      <td>PG-13</td>\n",
       "      <td>123 min</td>\n",
       "      <td>Dramas</td>\n",
       "      <td>2020</td>\n",
       "      <td>January</td>\n",
       "      <td>Teens</td>\n",
       "      <td>0</td>\n",
       "      <td>60</td>\n",
       "      <td>549</td>\n",
       "      <td>January 1</td>\n",
       "      <td>1</td>\n",
       "    </tr>\n",
       "    <tr>\n",
       "      <th>...</th>\n",
       "      <td>...</td>\n",
       "      <td>...</td>\n",
       "      <td>...</td>\n",
       "      <td>...</td>\n",
       "      <td>...</td>\n",
       "      <td>...</td>\n",
       "      <td>...</td>\n",
       "      <td>...</td>\n",
       "      <td>...</td>\n",
       "      <td>...</td>\n",
       "      <td>...</td>\n",
       "      <td>...</td>\n",
       "      <td>...</td>\n",
       "    </tr>\n",
       "    <tr>\n",
       "      <th>7782</th>\n",
       "      <td>October 19, 2020</td>\n",
       "      <td>2005</td>\n",
       "      <td>TV-MA</td>\n",
       "      <td>99 min</td>\n",
       "      <td>Dramas, International Movies</td>\n",
       "      <td>2020</td>\n",
       "      <td>October</td>\n",
       "      <td>Adults</td>\n",
       "      <td>0</td>\n",
       "      <td>7749</td>\n",
       "      <td>429</td>\n",
       "      <td>October 19</td>\n",
       "      <td>19</td>\n",
       "    </tr>\n",
       "    <tr>\n",
       "      <th>7783</th>\n",
       "      <td>March 2, 2019</td>\n",
       "      <td>2015</td>\n",
       "      <td>TV-14</td>\n",
       "      <td>111 min</td>\n",
       "      <td>Dramas, International Movies, Music &amp; Musicals</td>\n",
       "      <td>2019</td>\n",
       "      <td>March</td>\n",
       "      <td>Teens</td>\n",
       "      <td>0</td>\n",
       "      <td>7751</td>\n",
       "      <td>229</td>\n",
       "      <td>March 2</td>\n",
       "      <td>2</td>\n",
       "    </tr>\n",
       "    <tr>\n",
       "      <th>7784</th>\n",
       "      <td>September 25, 2020</td>\n",
       "      <td>2019</td>\n",
       "      <td>TV-MA</td>\n",
       "      <td>44 min</td>\n",
       "      <td>Documentaries, International Movies, Music &amp; M...</td>\n",
       "      <td>2020</td>\n",
       "      <td>September</td>\n",
       "      <td>Adults</td>\n",
       "      <td>0</td>\n",
       "      <td>7752</td>\n",
       "      <td>549</td>\n",
       "      <td>September 25</td>\n",
       "      <td>25</td>\n",
       "    </tr>\n",
       "    <tr>\n",
       "      <th>7785</th>\n",
       "      <td>October 31, 2020</td>\n",
       "      <td>2019</td>\n",
       "      <td>TV-PG</td>\n",
       "      <td>1 Season</td>\n",
       "      <td>International TV Shows, Reality TV</td>\n",
       "      <td>2020</td>\n",
       "      <td>October</td>\n",
       "      <td>Older Kids</td>\n",
       "      <td>1</td>\n",
       "      <td>7753</td>\n",
       "      <td>12</td>\n",
       "      <td>October 31</td>\n",
       "      <td>31</td>\n",
       "    </tr>\n",
       "    <tr>\n",
       "      <th>7786</th>\n",
       "      <td>March 1, 2020</td>\n",
       "      <td>2019</td>\n",
       "      <td>TV-MA</td>\n",
       "      <td>90 min</td>\n",
       "      <td>Documentaries, Music &amp; Musicals</td>\n",
       "      <td>2020</td>\n",
       "      <td>March</td>\n",
       "      <td>Adults</td>\n",
       "      <td>0</td>\n",
       "      <td>7724</td>\n",
       "      <td>473</td>\n",
       "      <td>March 1</td>\n",
       "      <td>1</td>\n",
       "    </tr>\n",
       "  </tbody>\n",
       "</table>\n",
       "<p>7777 rows × 13 columns</p>\n",
       "</div>"
      ],
      "text/plain": [
       "              date_added  release_year rating   duration  \\\n",
       "0        August 14, 2020          2020  TV-MA  4 Seasons   \n",
       "1      December 23, 2016          2016  TV-MA     93 min   \n",
       "2      December 20, 2018          2011      R     78 min   \n",
       "3      November 16, 2017          2009  PG-13     80 min   \n",
       "4        January 1, 2020          2008  PG-13    123 min   \n",
       "...                  ...           ...    ...        ...   \n",
       "7782    October 19, 2020          2005  TV-MA     99 min   \n",
       "7783       March 2, 2019          2015  TV-14    111 min   \n",
       "7784  September 25, 2020          2019  TV-MA     44 min   \n",
       "7785    October 31, 2020          2019  TV-PG   1 Season   \n",
       "7786       March 1, 2020          2019  TV-MA     90 min   \n",
       "\n",
       "                                              listed_in year_added  \\\n",
       "0     International TV Shows, TV Dramas, TV Sci-Fi &...       2020   \n",
       "1                          Dramas, International Movies       2016   \n",
       "2                   Horror Movies, International Movies       2018   \n",
       "3     Action & Adventure, Independent Movies, Sci-Fi...       2017   \n",
       "4                                                Dramas       2020   \n",
       "...                                                 ...        ...   \n",
       "7782                       Dramas, International Movies       2020   \n",
       "7783     Dramas, International Movies, Music & Musicals       2019   \n",
       "7784  Documentaries, International Movies, Music & M...       2020   \n",
       "7785                 International TV Shows, Reality TV       2020   \n",
       "7786                    Documentaries, Music & Musicals       2020   \n",
       "\n",
       "     month_added target_ages  type_enc  title_enc  country_enc  \\\n",
       "0         August      Adults         1         82           39   \n",
       "1       December      Adults         0        124          308   \n",
       "2       December      Adults         0         67          379   \n",
       "3       November       Teens         0        126          549   \n",
       "4        January       Teens         0         60          549   \n",
       "...          ...         ...       ...        ...          ...   \n",
       "7782     October      Adults         0       7749          429   \n",
       "7783       March       Teens         0       7751          229   \n",
       "7784   September      Adults         0       7752          549   \n",
       "7785     October  Older Kids         1       7753           12   \n",
       "7786       March      Adults         0       7724          473   \n",
       "\n",
       "     date_added_date date_added_dates  \n",
       "0          August 14               14  \n",
       "1        December 23               23  \n",
       "2        December 20               20  \n",
       "3        November 16               16  \n",
       "4          January 1                1  \n",
       "...              ...              ...  \n",
       "7782      October 19               19  \n",
       "7783         March 2                2  \n",
       "7784    September 25               25  \n",
       "7785      October 31               31  \n",
       "7786         March 1                1  \n",
       "\n",
       "[7777 rows x 13 columns]"
      ]
     },
     "execution_count": 55,
     "metadata": {},
     "output_type": "execute_result"
    }
   ],
   "source": [
    "df"
   ]
  },
  {
   "cell_type": "code",
   "execution_count": 56,
   "id": "loving-importance",
   "metadata": {
    "execution": {
     "iopub.execute_input": "2021-06-30T02:51:46.072565Z",
     "iopub.status.busy": "2021-06-30T02:51:46.071524Z",
     "iopub.status.idle": "2021-06-30T02:51:46.079243Z",
     "shell.execute_reply": "2021-06-30T02:51:46.079718Z",
     "shell.execute_reply.started": "2021-06-30T02:48:25.018435Z"
    },
    "id": "rqMdoB48LRd7",
    "papermill": {
     "duration": 0.143088,
     "end_time": "2021-06-30T02:51:46.079902",
     "exception": false,
     "start_time": "2021-06-30T02:51:45.936814",
     "status": "completed"
    },
    "tags": []
   },
   "outputs": [],
   "source": [
    "df.drop('date_added', axis='columns', inplace=True)"
   ]
  },
  {
   "cell_type": "code",
   "execution_count": 57,
   "id": "hearing-fundamental",
   "metadata": {
    "execution": {
     "iopub.execute_input": "2021-06-30T02:51:46.349352Z",
     "iopub.status.busy": "2021-06-30T02:51:46.348084Z",
     "iopub.status.idle": "2021-06-30T02:51:46.351477Z",
     "shell.execute_reply": "2021-06-30T02:51:46.352018Z",
     "shell.execute_reply.started": "2021-06-30T02:48:25.036536Z"
    },
    "id": "kYG8TETmLZh4",
    "papermill": {
     "duration": 0.141109,
     "end_time": "2021-06-30T02:51:46.352203",
     "exception": false,
     "start_time": "2021-06-30T02:51:46.211094",
     "status": "completed"
    },
    "tags": []
   },
   "outputs": [],
   "source": [
    "df.drop('date_added_date', axis='columns', inplace=True)"
   ]
  },
  {
   "cell_type": "code",
   "execution_count": 58,
   "id": "planned-confidentiality",
   "metadata": {
    "execution": {
     "iopub.execute_input": "2021-06-30T02:51:46.617774Z",
     "iopub.status.busy": "2021-06-30T02:51:46.617040Z",
     "iopub.status.idle": "2021-06-30T02:51:46.638156Z",
     "shell.execute_reply": "2021-06-30T02:51:46.638609Z",
     "shell.execute_reply.started": "2021-06-30T02:48:25.048322Z"
    },
    "id": "3_oW8Zd3LjBB",
    "outputId": "efa73979-3bad-40b8-eecc-a2e791e345fb",
    "papermill": {
     "duration": 0.15427,
     "end_time": "2021-06-30T02:51:46.638787",
     "exception": false,
     "start_time": "2021-06-30T02:51:46.484517",
     "status": "completed"
    },
    "tags": []
   },
   "outputs": [
    {
     "data": {
      "text/html": [
       "<div>\n",
       "<style scoped>\n",
       "    .dataframe tbody tr th:only-of-type {\n",
       "        vertical-align: middle;\n",
       "    }\n",
       "\n",
       "    .dataframe tbody tr th {\n",
       "        vertical-align: top;\n",
       "    }\n",
       "\n",
       "    .dataframe thead th {\n",
       "        text-align: right;\n",
       "    }\n",
       "</style>\n",
       "<table border=\"1\" class=\"dataframe\">\n",
       "  <thead>\n",
       "    <tr style=\"text-align: right;\">\n",
       "      <th></th>\n",
       "      <th>release_year</th>\n",
       "      <th>rating</th>\n",
       "      <th>duration</th>\n",
       "      <th>listed_in</th>\n",
       "      <th>year_added</th>\n",
       "      <th>month_added</th>\n",
       "      <th>target_ages</th>\n",
       "      <th>type_enc</th>\n",
       "      <th>title_enc</th>\n",
       "      <th>country_enc</th>\n",
       "      <th>date_added_dates</th>\n",
       "    </tr>\n",
       "  </thead>\n",
       "  <tbody>\n",
       "    <tr>\n",
       "      <th>0</th>\n",
       "      <td>2020</td>\n",
       "      <td>TV-MA</td>\n",
       "      <td>4 Seasons</td>\n",
       "      <td>International TV Shows, TV Dramas, TV Sci-Fi &amp;...</td>\n",
       "      <td>2020</td>\n",
       "      <td>August</td>\n",
       "      <td>Adults</td>\n",
       "      <td>1</td>\n",
       "      <td>82</td>\n",
       "      <td>39</td>\n",
       "      <td>14</td>\n",
       "    </tr>\n",
       "    <tr>\n",
       "      <th>1</th>\n",
       "      <td>2016</td>\n",
       "      <td>TV-MA</td>\n",
       "      <td>93 min</td>\n",
       "      <td>Dramas, International Movies</td>\n",
       "      <td>2016</td>\n",
       "      <td>December</td>\n",
       "      <td>Adults</td>\n",
       "      <td>0</td>\n",
       "      <td>124</td>\n",
       "      <td>308</td>\n",
       "      <td>23</td>\n",
       "    </tr>\n",
       "    <tr>\n",
       "      <th>2</th>\n",
       "      <td>2011</td>\n",
       "      <td>R</td>\n",
       "      <td>78 min</td>\n",
       "      <td>Horror Movies, International Movies</td>\n",
       "      <td>2018</td>\n",
       "      <td>December</td>\n",
       "      <td>Adults</td>\n",
       "      <td>0</td>\n",
       "      <td>67</td>\n",
       "      <td>379</td>\n",
       "      <td>20</td>\n",
       "    </tr>\n",
       "    <tr>\n",
       "      <th>3</th>\n",
       "      <td>2009</td>\n",
       "      <td>PG-13</td>\n",
       "      <td>80 min</td>\n",
       "      <td>Action &amp; Adventure, Independent Movies, Sci-Fi...</td>\n",
       "      <td>2017</td>\n",
       "      <td>November</td>\n",
       "      <td>Teens</td>\n",
       "      <td>0</td>\n",
       "      <td>126</td>\n",
       "      <td>549</td>\n",
       "      <td>16</td>\n",
       "    </tr>\n",
       "    <tr>\n",
       "      <th>4</th>\n",
       "      <td>2008</td>\n",
       "      <td>PG-13</td>\n",
       "      <td>123 min</td>\n",
       "      <td>Dramas</td>\n",
       "      <td>2020</td>\n",
       "      <td>January</td>\n",
       "      <td>Teens</td>\n",
       "      <td>0</td>\n",
       "      <td>60</td>\n",
       "      <td>549</td>\n",
       "      <td>1</td>\n",
       "    </tr>\n",
       "    <tr>\n",
       "      <th>...</th>\n",
       "      <td>...</td>\n",
       "      <td>...</td>\n",
       "      <td>...</td>\n",
       "      <td>...</td>\n",
       "      <td>...</td>\n",
       "      <td>...</td>\n",
       "      <td>...</td>\n",
       "      <td>...</td>\n",
       "      <td>...</td>\n",
       "      <td>...</td>\n",
       "      <td>...</td>\n",
       "    </tr>\n",
       "    <tr>\n",
       "      <th>7782</th>\n",
       "      <td>2005</td>\n",
       "      <td>TV-MA</td>\n",
       "      <td>99 min</td>\n",
       "      <td>Dramas, International Movies</td>\n",
       "      <td>2020</td>\n",
       "      <td>October</td>\n",
       "      <td>Adults</td>\n",
       "      <td>0</td>\n",
       "      <td>7749</td>\n",
       "      <td>429</td>\n",
       "      <td>19</td>\n",
       "    </tr>\n",
       "    <tr>\n",
       "      <th>7783</th>\n",
       "      <td>2015</td>\n",
       "      <td>TV-14</td>\n",
       "      <td>111 min</td>\n",
       "      <td>Dramas, International Movies, Music &amp; Musicals</td>\n",
       "      <td>2019</td>\n",
       "      <td>March</td>\n",
       "      <td>Teens</td>\n",
       "      <td>0</td>\n",
       "      <td>7751</td>\n",
       "      <td>229</td>\n",
       "      <td>2</td>\n",
       "    </tr>\n",
       "    <tr>\n",
       "      <th>7784</th>\n",
       "      <td>2019</td>\n",
       "      <td>TV-MA</td>\n",
       "      <td>44 min</td>\n",
       "      <td>Documentaries, International Movies, Music &amp; M...</td>\n",
       "      <td>2020</td>\n",
       "      <td>September</td>\n",
       "      <td>Adults</td>\n",
       "      <td>0</td>\n",
       "      <td>7752</td>\n",
       "      <td>549</td>\n",
       "      <td>25</td>\n",
       "    </tr>\n",
       "    <tr>\n",
       "      <th>7785</th>\n",
       "      <td>2019</td>\n",
       "      <td>TV-PG</td>\n",
       "      <td>1 Season</td>\n",
       "      <td>International TV Shows, Reality TV</td>\n",
       "      <td>2020</td>\n",
       "      <td>October</td>\n",
       "      <td>Older Kids</td>\n",
       "      <td>1</td>\n",
       "      <td>7753</td>\n",
       "      <td>12</td>\n",
       "      <td>31</td>\n",
       "    </tr>\n",
       "    <tr>\n",
       "      <th>7786</th>\n",
       "      <td>2019</td>\n",
       "      <td>TV-MA</td>\n",
       "      <td>90 min</td>\n",
       "      <td>Documentaries, Music &amp; Musicals</td>\n",
       "      <td>2020</td>\n",
       "      <td>March</td>\n",
       "      <td>Adults</td>\n",
       "      <td>0</td>\n",
       "      <td>7724</td>\n",
       "      <td>473</td>\n",
       "      <td>1</td>\n",
       "    </tr>\n",
       "  </tbody>\n",
       "</table>\n",
       "<p>7777 rows × 11 columns</p>\n",
       "</div>"
      ],
      "text/plain": [
       "      release_year rating   duration  \\\n",
       "0             2020  TV-MA  4 Seasons   \n",
       "1             2016  TV-MA     93 min   \n",
       "2             2011      R     78 min   \n",
       "3             2009  PG-13     80 min   \n",
       "4             2008  PG-13    123 min   \n",
       "...            ...    ...        ...   \n",
       "7782          2005  TV-MA     99 min   \n",
       "7783          2015  TV-14    111 min   \n",
       "7784          2019  TV-MA     44 min   \n",
       "7785          2019  TV-PG   1 Season   \n",
       "7786          2019  TV-MA     90 min   \n",
       "\n",
       "                                              listed_in year_added  \\\n",
       "0     International TV Shows, TV Dramas, TV Sci-Fi &...       2020   \n",
       "1                          Dramas, International Movies       2016   \n",
       "2                   Horror Movies, International Movies       2018   \n",
       "3     Action & Adventure, Independent Movies, Sci-Fi...       2017   \n",
       "4                                                Dramas       2020   \n",
       "...                                                 ...        ...   \n",
       "7782                       Dramas, International Movies       2020   \n",
       "7783     Dramas, International Movies, Music & Musicals       2019   \n",
       "7784  Documentaries, International Movies, Music & M...       2020   \n",
       "7785                 International TV Shows, Reality TV       2020   \n",
       "7786                    Documentaries, Music & Musicals       2020   \n",
       "\n",
       "     month_added target_ages  type_enc  title_enc  country_enc  \\\n",
       "0         August      Adults         1         82           39   \n",
       "1       December      Adults         0        124          308   \n",
       "2       December      Adults         0         67          379   \n",
       "3       November       Teens         0        126          549   \n",
       "4        January       Teens         0         60          549   \n",
       "...          ...         ...       ...        ...          ...   \n",
       "7782     October      Adults         0       7749          429   \n",
       "7783       March       Teens         0       7751          229   \n",
       "7784   September      Adults         0       7752          549   \n",
       "7785     October  Older Kids         1       7753           12   \n",
       "7786       March      Adults         0       7724          473   \n",
       "\n",
       "     date_added_dates  \n",
       "0                  14  \n",
       "1                  23  \n",
       "2                  20  \n",
       "3                  16  \n",
       "4                   1  \n",
       "...               ...  \n",
       "7782               19  \n",
       "7783                2  \n",
       "7784               25  \n",
       "7785               31  \n",
       "7786                1  \n",
       "\n",
       "[7777 rows x 11 columns]"
      ]
     },
     "execution_count": 58,
     "metadata": {},
     "output_type": "execute_result"
    }
   ],
   "source": [
    "df"
   ]
  },
  {
   "cell_type": "code",
   "execution_count": 59,
   "id": "christian-prospect",
   "metadata": {
    "execution": {
     "iopub.execute_input": "2021-06-30T02:51:46.905208Z",
     "iopub.status.busy": "2021-06-30T02:51:46.904486Z",
     "iopub.status.idle": "2021-06-30T02:51:46.913793Z",
     "shell.execute_reply": "2021-06-30T02:51:46.914374Z",
     "shell.execute_reply.started": "2021-06-30T02:48:25.077119Z"
    },
    "id": "MOR62n-vLkW-",
    "papermill": {
     "duration": 0.145056,
     "end_time": "2021-06-30T02:51:46.914553",
     "exception": false,
     "start_time": "2021-06-30T02:51:46.769497",
     "status": "completed"
    },
    "tags": []
   },
   "outputs": [],
   "source": [
    "month_added_enc = LabelEncoder()\n",
    "month_added_enc.fit(df['month_added'])\n",
    "df['month_added_enc'] = month_added_enc.transform(df['month_added'])"
   ]
  },
  {
   "cell_type": "code",
   "execution_count": 60,
   "id": "dramatic-johns",
   "metadata": {
    "execution": {
     "iopub.execute_input": "2021-06-30T02:51:47.180687Z",
     "iopub.status.busy": "2021-06-30T02:51:47.180058Z",
     "iopub.status.idle": "2021-06-30T02:51:47.186396Z",
     "shell.execute_reply": "2021-06-30T02:51:47.187003Z",
     "shell.execute_reply.started": "2021-06-30T02:48:25.131670Z"
    },
    "id": "6XIDQ5l-L05R",
    "papermill": {
     "duration": 0.141533,
     "end_time": "2021-06-30T02:51:47.187209",
     "exception": false,
     "start_time": "2021-06-30T02:51:47.045676",
     "status": "completed"
    },
    "tags": []
   },
   "outputs": [],
   "source": [
    "df.drop('month_added', axis='columns', inplace=True)"
   ]
  },
  {
   "cell_type": "code",
   "execution_count": 61,
   "id": "formed-fraud",
   "metadata": {
    "execution": {
     "iopub.execute_input": "2021-06-30T02:51:47.462347Z",
     "iopub.status.busy": "2021-06-30T02:51:47.461326Z",
     "iopub.status.idle": "2021-06-30T02:51:47.464351Z",
     "shell.execute_reply": "2021-06-30T02:51:47.464832Z",
     "shell.execute_reply.started": "2021-06-30T02:48:25.245632Z"
    },
    "id": "zJJbdtyvL2E-",
    "papermill": {
     "duration": 0.146668,
     "end_time": "2021-06-30T02:51:47.465029",
     "exception": false,
     "start_time": "2021-06-30T02:51:47.318361",
     "status": "completed"
    },
    "tags": []
   },
   "outputs": [],
   "source": [
    "year_added_enc = LabelEncoder()\n",
    "year_added_enc.fit(df['year_added'])\n",
    "df['year_added_enc'] = year_added_enc.transform(df['year_added'])"
   ]
  },
  {
   "cell_type": "code",
   "execution_count": 62,
   "id": "spatial-dodge",
   "metadata": {
    "execution": {
     "iopub.execute_input": "2021-06-30T02:51:47.733633Z",
     "iopub.status.busy": "2021-06-30T02:51:47.731533Z",
     "iopub.status.idle": "2021-06-30T02:51:47.737147Z",
     "shell.execute_reply": "2021-06-30T02:51:47.736588Z",
     "shell.execute_reply.started": "2021-06-30T02:48:25.256847Z"
    },
    "id": "wMjDgHWNL81A",
    "papermill": {
     "duration": 0.141512,
     "end_time": "2021-06-30T02:51:47.737309",
     "exception": false,
     "start_time": "2021-06-30T02:51:47.595797",
     "status": "completed"
    },
    "tags": []
   },
   "outputs": [],
   "source": [
    "df.drop('year_added', axis='columns', inplace=True)"
   ]
  },
  {
   "cell_type": "code",
   "execution_count": 63,
   "id": "painted-packing",
   "metadata": {
    "execution": {
     "iopub.execute_input": "2021-06-30T02:51:48.006635Z",
     "iopub.status.busy": "2021-06-30T02:51:48.005924Z",
     "iopub.status.idle": "2021-06-30T02:51:48.013409Z",
     "shell.execute_reply": "2021-06-30T02:51:48.012801Z",
     "shell.execute_reply.started": "2021-06-30T02:48:25.267169Z"
    },
    "id": "XC_K6fO-MJgJ",
    "papermill": {
     "duration": 0.142915,
     "end_time": "2021-06-30T02:51:48.013567",
     "exception": false,
     "start_time": "2021-06-30T02:51:47.870652",
     "status": "completed"
    },
    "tags": []
   },
   "outputs": [],
   "source": [
    "release_year_enc = LabelEncoder()\n",
    "release_year_enc.fit(df['release_year'])\n",
    "df['release_year_enc'] = release_year_enc.transform(df['release_year'])"
   ]
  },
  {
   "cell_type": "code",
   "execution_count": 64,
   "id": "convenient-switzerland",
   "metadata": {
    "execution": {
     "iopub.execute_input": "2021-06-30T02:51:48.279977Z",
     "iopub.status.busy": "2021-06-30T02:51:48.279308Z",
     "iopub.status.idle": "2021-06-30T02:51:48.302956Z",
     "shell.execute_reply": "2021-06-30T02:51:48.302429Z",
     "shell.execute_reply.started": "2021-06-30T02:48:25.279330Z"
    },
    "id": "HMqhG-EPMRwr",
    "outputId": "3826a730-7a0c-49f3-f9f7-1052bf5dc92a",
    "papermill": {
     "duration": 0.157688,
     "end_time": "2021-06-30T02:51:48.303113",
     "exception": false,
     "start_time": "2021-06-30T02:51:48.145425",
     "status": "completed"
    },
    "tags": []
   },
   "outputs": [
    {
     "data": {
      "text/html": [
       "<div>\n",
       "<style scoped>\n",
       "    .dataframe tbody tr th:only-of-type {\n",
       "        vertical-align: middle;\n",
       "    }\n",
       "\n",
       "    .dataframe tbody tr th {\n",
       "        vertical-align: top;\n",
       "    }\n",
       "\n",
       "    .dataframe thead th {\n",
       "        text-align: right;\n",
       "    }\n",
       "</style>\n",
       "<table border=\"1\" class=\"dataframe\">\n",
       "  <thead>\n",
       "    <tr style=\"text-align: right;\">\n",
       "      <th></th>\n",
       "      <th>release_year</th>\n",
       "      <th>rating</th>\n",
       "      <th>duration</th>\n",
       "      <th>listed_in</th>\n",
       "      <th>target_ages</th>\n",
       "      <th>type_enc</th>\n",
       "      <th>title_enc</th>\n",
       "      <th>country_enc</th>\n",
       "      <th>date_added_dates</th>\n",
       "      <th>month_added_enc</th>\n",
       "      <th>year_added_enc</th>\n",
       "      <th>release_year_enc</th>\n",
       "    </tr>\n",
       "  </thead>\n",
       "  <tbody>\n",
       "    <tr>\n",
       "      <th>0</th>\n",
       "      <td>2020</td>\n",
       "      <td>TV-MA</td>\n",
       "      <td>4 Seasons</td>\n",
       "      <td>International TV Shows, TV Dramas, TV Sci-Fi &amp;...</td>\n",
       "      <td>Adults</td>\n",
       "      <td>1</td>\n",
       "      <td>82</td>\n",
       "      <td>39</td>\n",
       "      <td>14</td>\n",
       "      <td>2</td>\n",
       "      <td>12</td>\n",
       "      <td>71</td>\n",
       "    </tr>\n",
       "    <tr>\n",
       "      <th>1</th>\n",
       "      <td>2016</td>\n",
       "      <td>TV-MA</td>\n",
       "      <td>93 min</td>\n",
       "      <td>Dramas, International Movies</td>\n",
       "      <td>Adults</td>\n",
       "      <td>0</td>\n",
       "      <td>124</td>\n",
       "      <td>308</td>\n",
       "      <td>23</td>\n",
       "      <td>3</td>\n",
       "      <td>8</td>\n",
       "      <td>67</td>\n",
       "    </tr>\n",
       "    <tr>\n",
       "      <th>2</th>\n",
       "      <td>2011</td>\n",
       "      <td>R</td>\n",
       "      <td>78 min</td>\n",
       "      <td>Horror Movies, International Movies</td>\n",
       "      <td>Adults</td>\n",
       "      <td>0</td>\n",
       "      <td>67</td>\n",
       "      <td>379</td>\n",
       "      <td>20</td>\n",
       "      <td>3</td>\n",
       "      <td>10</td>\n",
       "      <td>62</td>\n",
       "    </tr>\n",
       "    <tr>\n",
       "      <th>3</th>\n",
       "      <td>2009</td>\n",
       "      <td>PG-13</td>\n",
       "      <td>80 min</td>\n",
       "      <td>Action &amp; Adventure, Independent Movies, Sci-Fi...</td>\n",
       "      <td>Teens</td>\n",
       "      <td>0</td>\n",
       "      <td>126</td>\n",
       "      <td>549</td>\n",
       "      <td>16</td>\n",
       "      <td>10</td>\n",
       "      <td>9</td>\n",
       "      <td>60</td>\n",
       "    </tr>\n",
       "    <tr>\n",
       "      <th>4</th>\n",
       "      <td>2008</td>\n",
       "      <td>PG-13</td>\n",
       "      <td>123 min</td>\n",
       "      <td>Dramas</td>\n",
       "      <td>Teens</td>\n",
       "      <td>0</td>\n",
       "      <td>60</td>\n",
       "      <td>549</td>\n",
       "      <td>1</td>\n",
       "      <td>5</td>\n",
       "      <td>12</td>\n",
       "      <td>59</td>\n",
       "    </tr>\n",
       "    <tr>\n",
       "      <th>...</th>\n",
       "      <td>...</td>\n",
       "      <td>...</td>\n",
       "      <td>...</td>\n",
       "      <td>...</td>\n",
       "      <td>...</td>\n",
       "      <td>...</td>\n",
       "      <td>...</td>\n",
       "      <td>...</td>\n",
       "      <td>...</td>\n",
       "      <td>...</td>\n",
       "      <td>...</td>\n",
       "      <td>...</td>\n",
       "    </tr>\n",
       "    <tr>\n",
       "      <th>7782</th>\n",
       "      <td>2005</td>\n",
       "      <td>TV-MA</td>\n",
       "      <td>99 min</td>\n",
       "      <td>Dramas, International Movies</td>\n",
       "      <td>Adults</td>\n",
       "      <td>0</td>\n",
       "      <td>7749</td>\n",
       "      <td>429</td>\n",
       "      <td>19</td>\n",
       "      <td>11</td>\n",
       "      <td>12</td>\n",
       "      <td>56</td>\n",
       "    </tr>\n",
       "    <tr>\n",
       "      <th>7783</th>\n",
       "      <td>2015</td>\n",
       "      <td>TV-14</td>\n",
       "      <td>111 min</td>\n",
       "      <td>Dramas, International Movies, Music &amp; Musicals</td>\n",
       "      <td>Teens</td>\n",
       "      <td>0</td>\n",
       "      <td>7751</td>\n",
       "      <td>229</td>\n",
       "      <td>2</td>\n",
       "      <td>8</td>\n",
       "      <td>11</td>\n",
       "      <td>66</td>\n",
       "    </tr>\n",
       "    <tr>\n",
       "      <th>7784</th>\n",
       "      <td>2019</td>\n",
       "      <td>TV-MA</td>\n",
       "      <td>44 min</td>\n",
       "      <td>Documentaries, International Movies, Music &amp; M...</td>\n",
       "      <td>Adults</td>\n",
       "      <td>0</td>\n",
       "      <td>7752</td>\n",
       "      <td>549</td>\n",
       "      <td>25</td>\n",
       "      <td>12</td>\n",
       "      <td>12</td>\n",
       "      <td>70</td>\n",
       "    </tr>\n",
       "    <tr>\n",
       "      <th>7785</th>\n",
       "      <td>2019</td>\n",
       "      <td>TV-PG</td>\n",
       "      <td>1 Season</td>\n",
       "      <td>International TV Shows, Reality TV</td>\n",
       "      <td>Older Kids</td>\n",
       "      <td>1</td>\n",
       "      <td>7753</td>\n",
       "      <td>12</td>\n",
       "      <td>31</td>\n",
       "      <td>11</td>\n",
       "      <td>12</td>\n",
       "      <td>70</td>\n",
       "    </tr>\n",
       "    <tr>\n",
       "      <th>7786</th>\n",
       "      <td>2019</td>\n",
       "      <td>TV-MA</td>\n",
       "      <td>90 min</td>\n",
       "      <td>Documentaries, Music &amp; Musicals</td>\n",
       "      <td>Adults</td>\n",
       "      <td>0</td>\n",
       "      <td>7724</td>\n",
       "      <td>473</td>\n",
       "      <td>1</td>\n",
       "      <td>8</td>\n",
       "      <td>12</td>\n",
       "      <td>70</td>\n",
       "    </tr>\n",
       "  </tbody>\n",
       "</table>\n",
       "<p>7777 rows × 12 columns</p>\n",
       "</div>"
      ],
      "text/plain": [
       "      release_year rating   duration  \\\n",
       "0             2020  TV-MA  4 Seasons   \n",
       "1             2016  TV-MA     93 min   \n",
       "2             2011      R     78 min   \n",
       "3             2009  PG-13     80 min   \n",
       "4             2008  PG-13    123 min   \n",
       "...            ...    ...        ...   \n",
       "7782          2005  TV-MA     99 min   \n",
       "7783          2015  TV-14    111 min   \n",
       "7784          2019  TV-MA     44 min   \n",
       "7785          2019  TV-PG   1 Season   \n",
       "7786          2019  TV-MA     90 min   \n",
       "\n",
       "                                              listed_in target_ages  type_enc  \\\n",
       "0     International TV Shows, TV Dramas, TV Sci-Fi &...      Adults         1   \n",
       "1                          Dramas, International Movies      Adults         0   \n",
       "2                   Horror Movies, International Movies      Adults         0   \n",
       "3     Action & Adventure, Independent Movies, Sci-Fi...       Teens         0   \n",
       "4                                                Dramas       Teens         0   \n",
       "...                                                 ...         ...       ...   \n",
       "7782                       Dramas, International Movies      Adults         0   \n",
       "7783     Dramas, International Movies, Music & Musicals       Teens         0   \n",
       "7784  Documentaries, International Movies, Music & M...      Adults         0   \n",
       "7785                 International TV Shows, Reality TV  Older Kids         1   \n",
       "7786                    Documentaries, Music & Musicals      Adults         0   \n",
       "\n",
       "      title_enc  country_enc date_added_dates  month_added_enc  \\\n",
       "0            82           39               14                2   \n",
       "1           124          308               23                3   \n",
       "2            67          379               20                3   \n",
       "3           126          549               16               10   \n",
       "4            60          549                1                5   \n",
       "...         ...          ...              ...              ...   \n",
       "7782       7749          429               19               11   \n",
       "7783       7751          229                2                8   \n",
       "7784       7752          549               25               12   \n",
       "7785       7753           12               31               11   \n",
       "7786       7724          473                1                8   \n",
       "\n",
       "      year_added_enc  release_year_enc  \n",
       "0                 12                71  \n",
       "1                  8                67  \n",
       "2                 10                62  \n",
       "3                  9                60  \n",
       "4                 12                59  \n",
       "...              ...               ...  \n",
       "7782              12                56  \n",
       "7783              11                66  \n",
       "7784              12                70  \n",
       "7785              12                70  \n",
       "7786              12                70  \n",
       "\n",
       "[7777 rows x 12 columns]"
      ]
     },
     "execution_count": 64,
     "metadata": {},
     "output_type": "execute_result"
    }
   ],
   "source": [
    "df"
   ]
  },
  {
   "cell_type": "code",
   "execution_count": 65,
   "id": "norman-african",
   "metadata": {
    "execution": {
     "iopub.execute_input": "2021-06-30T02:51:48.574300Z",
     "iopub.status.busy": "2021-06-30T02:51:48.573557Z",
     "iopub.status.idle": "2021-06-30T02:51:48.578678Z",
     "shell.execute_reply": "2021-06-30T02:51:48.578157Z",
     "shell.execute_reply.started": "2021-06-30T02:48:25.314913Z"
    },
    "id": "brEmEWquOKjJ",
    "papermill": {
     "duration": 0.142157,
     "end_time": "2021-06-30T02:51:48.578827",
     "exception": false,
     "start_time": "2021-06-30T02:51:48.436670",
     "status": "completed"
    },
    "tags": []
   },
   "outputs": [],
   "source": [
    "df.drop('release_year', axis='columns', inplace=True)"
   ]
  },
  {
   "cell_type": "code",
   "execution_count": 66,
   "id": "delayed-swiss",
   "metadata": {
    "execution": {
     "iopub.execute_input": "2021-06-30T02:51:48.862274Z",
     "iopub.status.busy": "2021-06-30T02:51:48.861554Z",
     "iopub.status.idle": "2021-06-30T02:51:48.866688Z",
     "shell.execute_reply": "2021-06-30T02:51:48.865978Z",
     "shell.execute_reply.started": "2021-06-30T02:48:25.324634Z"
    },
    "id": "c-tc_ovQORUs",
    "outputId": "e4c4a21b-f952-4888-c209-56465b55a3bb",
    "papermill": {
     "duration": 0.157105,
     "end_time": "2021-06-30T02:51:48.866846",
     "exception": false,
     "start_time": "2021-06-30T02:51:48.709741",
     "status": "completed"
    },
    "tags": []
   },
   "outputs": [
    {
     "data": {
      "text/html": [
       "<div>\n",
       "<style scoped>\n",
       "    .dataframe tbody tr th:only-of-type {\n",
       "        vertical-align: middle;\n",
       "    }\n",
       "\n",
       "    .dataframe tbody tr th {\n",
       "        vertical-align: top;\n",
       "    }\n",
       "\n",
       "    .dataframe thead th {\n",
       "        text-align: right;\n",
       "    }\n",
       "</style>\n",
       "<table border=\"1\" class=\"dataframe\">\n",
       "  <thead>\n",
       "    <tr style=\"text-align: right;\">\n",
       "      <th></th>\n",
       "      <th>rating</th>\n",
       "      <th>duration</th>\n",
       "      <th>listed_in</th>\n",
       "      <th>target_ages</th>\n",
       "      <th>type_enc</th>\n",
       "      <th>title_enc</th>\n",
       "      <th>country_enc</th>\n",
       "      <th>date_added_dates</th>\n",
       "      <th>month_added_enc</th>\n",
       "      <th>year_added_enc</th>\n",
       "      <th>release_year_enc</th>\n",
       "    </tr>\n",
       "  </thead>\n",
       "  <tbody>\n",
       "    <tr>\n",
       "      <th>0</th>\n",
       "      <td>TV-MA</td>\n",
       "      <td>4 Seasons</td>\n",
       "      <td>International TV Shows, TV Dramas, TV Sci-Fi &amp;...</td>\n",
       "      <td>Adults</td>\n",
       "      <td>1</td>\n",
       "      <td>82</td>\n",
       "      <td>39</td>\n",
       "      <td>14</td>\n",
       "      <td>2</td>\n",
       "      <td>12</td>\n",
       "      <td>71</td>\n",
       "    </tr>\n",
       "    <tr>\n",
       "      <th>1</th>\n",
       "      <td>TV-MA</td>\n",
       "      <td>93 min</td>\n",
       "      <td>Dramas, International Movies</td>\n",
       "      <td>Adults</td>\n",
       "      <td>0</td>\n",
       "      <td>124</td>\n",
       "      <td>308</td>\n",
       "      <td>23</td>\n",
       "      <td>3</td>\n",
       "      <td>8</td>\n",
       "      <td>67</td>\n",
       "    </tr>\n",
       "    <tr>\n",
       "      <th>2</th>\n",
       "      <td>R</td>\n",
       "      <td>78 min</td>\n",
       "      <td>Horror Movies, International Movies</td>\n",
       "      <td>Adults</td>\n",
       "      <td>0</td>\n",
       "      <td>67</td>\n",
       "      <td>379</td>\n",
       "      <td>20</td>\n",
       "      <td>3</td>\n",
       "      <td>10</td>\n",
       "      <td>62</td>\n",
       "    </tr>\n",
       "    <tr>\n",
       "      <th>3</th>\n",
       "      <td>PG-13</td>\n",
       "      <td>80 min</td>\n",
       "      <td>Action &amp; Adventure, Independent Movies, Sci-Fi...</td>\n",
       "      <td>Teens</td>\n",
       "      <td>0</td>\n",
       "      <td>126</td>\n",
       "      <td>549</td>\n",
       "      <td>16</td>\n",
       "      <td>10</td>\n",
       "      <td>9</td>\n",
       "      <td>60</td>\n",
       "    </tr>\n",
       "    <tr>\n",
       "      <th>4</th>\n",
       "      <td>PG-13</td>\n",
       "      <td>123 min</td>\n",
       "      <td>Dramas</td>\n",
       "      <td>Teens</td>\n",
       "      <td>0</td>\n",
       "      <td>60</td>\n",
       "      <td>549</td>\n",
       "      <td>1</td>\n",
       "      <td>5</td>\n",
       "      <td>12</td>\n",
       "      <td>59</td>\n",
       "    </tr>\n",
       "    <tr>\n",
       "      <th>...</th>\n",
       "      <td>...</td>\n",
       "      <td>...</td>\n",
       "      <td>...</td>\n",
       "      <td>...</td>\n",
       "      <td>...</td>\n",
       "      <td>...</td>\n",
       "      <td>...</td>\n",
       "      <td>...</td>\n",
       "      <td>...</td>\n",
       "      <td>...</td>\n",
       "      <td>...</td>\n",
       "    </tr>\n",
       "    <tr>\n",
       "      <th>7782</th>\n",
       "      <td>TV-MA</td>\n",
       "      <td>99 min</td>\n",
       "      <td>Dramas, International Movies</td>\n",
       "      <td>Adults</td>\n",
       "      <td>0</td>\n",
       "      <td>7749</td>\n",
       "      <td>429</td>\n",
       "      <td>19</td>\n",
       "      <td>11</td>\n",
       "      <td>12</td>\n",
       "      <td>56</td>\n",
       "    </tr>\n",
       "    <tr>\n",
       "      <th>7783</th>\n",
       "      <td>TV-14</td>\n",
       "      <td>111 min</td>\n",
       "      <td>Dramas, International Movies, Music &amp; Musicals</td>\n",
       "      <td>Teens</td>\n",
       "      <td>0</td>\n",
       "      <td>7751</td>\n",
       "      <td>229</td>\n",
       "      <td>2</td>\n",
       "      <td>8</td>\n",
       "      <td>11</td>\n",
       "      <td>66</td>\n",
       "    </tr>\n",
       "    <tr>\n",
       "      <th>7784</th>\n",
       "      <td>TV-MA</td>\n",
       "      <td>44 min</td>\n",
       "      <td>Documentaries, International Movies, Music &amp; M...</td>\n",
       "      <td>Adults</td>\n",
       "      <td>0</td>\n",
       "      <td>7752</td>\n",
       "      <td>549</td>\n",
       "      <td>25</td>\n",
       "      <td>12</td>\n",
       "      <td>12</td>\n",
       "      <td>70</td>\n",
       "    </tr>\n",
       "    <tr>\n",
       "      <th>7785</th>\n",
       "      <td>TV-PG</td>\n",
       "      <td>1 Season</td>\n",
       "      <td>International TV Shows, Reality TV</td>\n",
       "      <td>Older Kids</td>\n",
       "      <td>1</td>\n",
       "      <td>7753</td>\n",
       "      <td>12</td>\n",
       "      <td>31</td>\n",
       "      <td>11</td>\n",
       "      <td>12</td>\n",
       "      <td>70</td>\n",
       "    </tr>\n",
       "    <tr>\n",
       "      <th>7786</th>\n",
       "      <td>TV-MA</td>\n",
       "      <td>90 min</td>\n",
       "      <td>Documentaries, Music &amp; Musicals</td>\n",
       "      <td>Adults</td>\n",
       "      <td>0</td>\n",
       "      <td>7724</td>\n",
       "      <td>473</td>\n",
       "      <td>1</td>\n",
       "      <td>8</td>\n",
       "      <td>12</td>\n",
       "      <td>70</td>\n",
       "    </tr>\n",
       "  </tbody>\n",
       "</table>\n",
       "<p>7777 rows × 11 columns</p>\n",
       "</div>"
      ],
      "text/plain": [
       "     rating   duration                                          listed_in  \\\n",
       "0     TV-MA  4 Seasons  International TV Shows, TV Dramas, TV Sci-Fi &...   \n",
       "1     TV-MA     93 min                       Dramas, International Movies   \n",
       "2         R     78 min                Horror Movies, International Movies   \n",
       "3     PG-13     80 min  Action & Adventure, Independent Movies, Sci-Fi...   \n",
       "4     PG-13    123 min                                             Dramas   \n",
       "...     ...        ...                                                ...   \n",
       "7782  TV-MA     99 min                       Dramas, International Movies   \n",
       "7783  TV-14    111 min     Dramas, International Movies, Music & Musicals   \n",
       "7784  TV-MA     44 min  Documentaries, International Movies, Music & M...   \n",
       "7785  TV-PG   1 Season                 International TV Shows, Reality TV   \n",
       "7786  TV-MA     90 min                    Documentaries, Music & Musicals   \n",
       "\n",
       "     target_ages  type_enc  title_enc  country_enc date_added_dates  \\\n",
       "0         Adults         1         82           39               14   \n",
       "1         Adults         0        124          308               23   \n",
       "2         Adults         0         67          379               20   \n",
       "3          Teens         0        126          549               16   \n",
       "4          Teens         0         60          549                1   \n",
       "...          ...       ...        ...          ...              ...   \n",
       "7782      Adults         0       7749          429               19   \n",
       "7783       Teens         0       7751          229                2   \n",
       "7784      Adults         0       7752          549               25   \n",
       "7785  Older Kids         1       7753           12               31   \n",
       "7786      Adults         0       7724          473                1   \n",
       "\n",
       "      month_added_enc  year_added_enc  release_year_enc  \n",
       "0                   2              12                71  \n",
       "1                   3               8                67  \n",
       "2                   3              10                62  \n",
       "3                  10               9                60  \n",
       "4                   5              12                59  \n",
       "...               ...             ...               ...  \n",
       "7782               11              12                56  \n",
       "7783                8              11                66  \n",
       "7784               12              12                70  \n",
       "7785               11              12                70  \n",
       "7786                8              12                70  \n",
       "\n",
       "[7777 rows x 11 columns]"
      ]
     },
     "execution_count": 66,
     "metadata": {},
     "output_type": "execute_result"
    }
   ],
   "source": [
    "df"
   ]
  },
  {
   "cell_type": "code",
   "execution_count": 67,
   "id": "realistic-embassy",
   "metadata": {
    "execution": {
     "iopub.execute_input": "2021-06-30T02:51:49.148848Z",
     "iopub.status.busy": "2021-06-30T02:51:49.147963Z",
     "iopub.status.idle": "2021-06-30T02:51:49.151159Z",
     "shell.execute_reply": "2021-06-30T02:51:49.150460Z",
     "shell.execute_reply.started": "2021-06-30T02:48:25.354587Z"
    },
    "id": "Dea1-f3wORw6",
    "papermill": {
     "duration": 0.150209,
     "end_time": "2021-06-30T02:51:49.151309",
     "exception": false,
     "start_time": "2021-06-30T02:51:49.001100",
     "status": "completed"
    },
    "tags": []
   },
   "outputs": [],
   "source": [
    "rating_enc = LabelEncoder()\n",
    "rating_enc.fit(df['rating'])\n",
    "df['rating_enc'] = rating_enc.transform(df['rating'])"
   ]
  },
  {
   "cell_type": "code",
   "execution_count": 68,
   "id": "stable-tournament",
   "metadata": {
    "execution": {
     "iopub.execute_input": "2021-06-30T02:51:49.422900Z",
     "iopub.status.busy": "2021-06-30T02:51:49.422196Z",
     "iopub.status.idle": "2021-06-30T02:51:49.426063Z",
     "shell.execute_reply": "2021-06-30T02:51:49.426549Z",
     "shell.execute_reply.started": "2021-06-30T02:48:25.370303Z"
    },
    "id": "o26pE6JqOZR5",
    "papermill": {
     "duration": 0.142415,
     "end_time": "2021-06-30T02:51:49.426765",
     "exception": false,
     "start_time": "2021-06-30T02:51:49.284350",
     "status": "completed"
    },
    "tags": []
   },
   "outputs": [],
   "source": [
    "df.drop('rating', axis='columns', inplace=True)"
   ]
  },
  {
   "cell_type": "code",
   "execution_count": 69,
   "id": "occupational-sheffield",
   "metadata": {
    "execution": {
     "iopub.execute_input": "2021-06-30T02:51:49.694383Z",
     "iopub.status.busy": "2021-06-30T02:51:49.693639Z",
     "iopub.status.idle": "2021-06-30T02:51:49.702805Z",
     "shell.execute_reply": "2021-06-30T02:51:49.703395Z",
     "shell.execute_reply.started": "2021-06-30T02:48:25.384206Z"
    },
    "id": "joXSPGKuOcyg",
    "papermill": {
     "duration": 0.144905,
     "end_time": "2021-06-30T02:51:49.703591",
     "exception": false,
     "start_time": "2021-06-30T02:51:49.558686",
     "status": "completed"
    },
    "tags": []
   },
   "outputs": [],
   "source": [
    "duration_enc = LabelEncoder()\n",
    "duration_enc.fit(df['duration'])\n",
    "df['duration_enc'] = duration_enc.transform(df['duration'])"
   ]
  },
  {
   "cell_type": "code",
   "execution_count": 70,
   "id": "hazardous-unemployment",
   "metadata": {
    "execution": {
     "iopub.execute_input": "2021-06-30T02:51:49.971827Z",
     "iopub.status.busy": "2021-06-30T02:51:49.971179Z",
     "iopub.status.idle": "2021-06-30T02:51:49.977054Z",
     "shell.execute_reply": "2021-06-30T02:51:49.977627Z",
     "shell.execute_reply.started": "2021-06-30T02:48:25.400675Z"
    },
    "id": "B3TLhF_COnkI",
    "papermill": {
     "duration": 0.141996,
     "end_time": "2021-06-30T02:51:49.977807",
     "exception": false,
     "start_time": "2021-06-30T02:51:49.835811",
     "status": "completed"
    },
    "tags": []
   },
   "outputs": [],
   "source": [
    "df.drop('duration', axis='columns', inplace=True)"
   ]
  },
  {
   "cell_type": "code",
   "execution_count": 71,
   "id": "directed-centre",
   "metadata": {
    "execution": {
     "iopub.execute_input": "2021-06-30T02:51:50.247094Z",
     "iopub.status.busy": "2021-06-30T02:51:50.246307Z",
     "iopub.status.idle": "2021-06-30T02:51:50.258586Z",
     "shell.execute_reply": "2021-06-30T02:51:50.259142Z",
     "shell.execute_reply.started": "2021-06-30T02:48:25.410449Z"
    },
    "id": "hguVixsLOqVB",
    "papermill": {
     "duration": 0.1499,
     "end_time": "2021-06-30T02:51:50.259345",
     "exception": false,
     "start_time": "2021-06-30T02:51:50.109445",
     "status": "completed"
    },
    "tags": []
   },
   "outputs": [],
   "source": [
    "listed_in_enc = LabelEncoder()\n",
    "listed_in_enc.fit(df['listed_in'])\n",
    "df['listed_in_enc'] = listed_in_enc.transform(df['listed_in'])"
   ]
  },
  {
   "cell_type": "code",
   "execution_count": 72,
   "id": "modified-hydrogen",
   "metadata": {
    "execution": {
     "iopub.execute_input": "2021-06-30T02:51:50.586644Z",
     "iopub.status.busy": "2021-06-30T02:51:50.585555Z",
     "iopub.status.idle": "2021-06-30T02:51:50.591719Z",
     "shell.execute_reply": "2021-06-30T02:51:50.591046Z",
     "shell.execute_reply.started": "2021-06-30T02:48:25.429341Z"
    },
    "id": "naTmxIMlO1qM",
    "papermill": {
     "duration": 0.14446,
     "end_time": "2021-06-30T02:51:50.591867",
     "exception": false,
     "start_time": "2021-06-30T02:51:50.447407",
     "status": "completed"
    },
    "tags": []
   },
   "outputs": [],
   "source": [
    "df.drop('listed_in', axis='columns', inplace=True)"
   ]
  },
  {
   "cell_type": "code",
   "execution_count": 73,
   "id": "advisory-installation",
   "metadata": {
    "execution": {
     "iopub.execute_input": "2021-06-30T02:51:50.862343Z",
     "iopub.status.busy": "2021-06-30T02:51:50.861640Z",
     "iopub.status.idle": "2021-06-30T02:51:50.869562Z",
     "shell.execute_reply": "2021-06-30T02:51:50.870112Z",
     "shell.execute_reply.started": "2021-06-30T02:48:25.445582Z"
    },
    "id": "iuUn1-HzO5In",
    "papermill": {
     "duration": 0.145014,
     "end_time": "2021-06-30T02:51:50.870301",
     "exception": false,
     "start_time": "2021-06-30T02:51:50.725287",
     "status": "completed"
    },
    "tags": []
   },
   "outputs": [],
   "source": [
    "target_ages_enc = LabelEncoder()\n",
    "target_ages_enc.fit(df['target_ages'])\n",
    "df['target_ages_enc'] = target_ages_enc.transform(df['target_ages'])"
   ]
  },
  {
   "cell_type": "code",
   "execution_count": 74,
   "id": "southeast-accused",
   "metadata": {
    "execution": {
     "iopub.execute_input": "2021-06-30T02:51:51.140774Z",
     "iopub.status.busy": "2021-06-30T02:51:51.140154Z",
     "iopub.status.idle": "2021-06-30T02:51:51.146306Z",
     "shell.execute_reply": "2021-06-30T02:51:51.146791Z",
     "shell.execute_reply.started": "2021-06-30T02:48:25.457855Z"
    },
    "id": "eZRCa4kBPD2X",
    "papermill": {
     "duration": 0.144855,
     "end_time": "2021-06-30T02:51:51.147001",
     "exception": false,
     "start_time": "2021-06-30T02:51:51.002146",
     "status": "completed"
    },
    "tags": []
   },
   "outputs": [],
   "source": [
    "df.drop('target_ages', axis='columns', inplace=True)"
   ]
  },
  {
   "cell_type": "code",
   "execution_count": 75,
   "id": "disciplinary-columbus",
   "metadata": {
    "execution": {
     "iopub.execute_input": "2021-06-30T02:51:51.416450Z",
     "iopub.status.busy": "2021-06-30T02:51:51.415764Z",
     "iopub.status.idle": "2021-06-30T02:51:51.434791Z",
     "shell.execute_reply": "2021-06-30T02:51:51.434277Z",
     "shell.execute_reply.started": "2021-06-30T02:48:25.470313Z"
    },
    "id": "5idAWCPtPHIC",
    "outputId": "a022ad01-925a-4a02-f95a-de9f458142b3",
    "papermill": {
     "duration": 0.155178,
     "end_time": "2021-06-30T02:51:51.434954",
     "exception": false,
     "start_time": "2021-06-30T02:51:51.279776",
     "status": "completed"
    },
    "tags": []
   },
   "outputs": [
    {
     "data": {
      "text/html": [
       "<div>\n",
       "<style scoped>\n",
       "    .dataframe tbody tr th:only-of-type {\n",
       "        vertical-align: middle;\n",
       "    }\n",
       "\n",
       "    .dataframe tbody tr th {\n",
       "        vertical-align: top;\n",
       "    }\n",
       "\n",
       "    .dataframe thead th {\n",
       "        text-align: right;\n",
       "    }\n",
       "</style>\n",
       "<table border=\"1\" class=\"dataframe\">\n",
       "  <thead>\n",
       "    <tr style=\"text-align: right;\">\n",
       "      <th></th>\n",
       "      <th>type_enc</th>\n",
       "      <th>title_enc</th>\n",
       "      <th>country_enc</th>\n",
       "      <th>date_added_dates</th>\n",
       "      <th>month_added_enc</th>\n",
       "      <th>year_added_enc</th>\n",
       "      <th>release_year_enc</th>\n",
       "      <th>rating_enc</th>\n",
       "      <th>duration_enc</th>\n",
       "      <th>listed_in_enc</th>\n",
       "      <th>target_ages_enc</th>\n",
       "    </tr>\n",
       "  </thead>\n",
       "  <tbody>\n",
       "    <tr>\n",
       "      <th>0</th>\n",
       "      <td>1</td>\n",
       "      <td>82</td>\n",
       "      <td>39</td>\n",
       "      <td>14</td>\n",
       "      <td>2</td>\n",
       "      <td>12</td>\n",
       "      <td>71</td>\n",
       "      <td>8</td>\n",
       "      <td>147</td>\n",
       "      <td>397</td>\n",
       "      <td>0</td>\n",
       "    </tr>\n",
       "    <tr>\n",
       "      <th>1</th>\n",
       "      <td>0</td>\n",
       "      <td>124</td>\n",
       "      <td>308</td>\n",
       "      <td>23</td>\n",
       "      <td>3</td>\n",
       "      <td>8</td>\n",
       "      <td>67</td>\n",
       "      <td>8</td>\n",
       "      <td>209</td>\n",
       "      <td>309</td>\n",
       "      <td>0</td>\n",
       "    </tr>\n",
       "    <tr>\n",
       "      <th>2</th>\n",
       "      <td>0</td>\n",
       "      <td>67</td>\n",
       "      <td>379</td>\n",
       "      <td>20</td>\n",
       "      <td>3</td>\n",
       "      <td>10</td>\n",
       "      <td>62</td>\n",
       "      <td>5</td>\n",
       "      <td>190</td>\n",
       "      <td>335</td>\n",
       "      <td>0</td>\n",
       "    </tr>\n",
       "    <tr>\n",
       "      <th>3</th>\n",
       "      <td>0</td>\n",
       "      <td>126</td>\n",
       "      <td>549</td>\n",
       "      <td>16</td>\n",
       "      <td>10</td>\n",
       "      <td>9</td>\n",
       "      <td>60</td>\n",
       "      <td>4</td>\n",
       "      <td>194</td>\n",
       "      <td>47</td>\n",
       "      <td>3</td>\n",
       "    </tr>\n",
       "    <tr>\n",
       "      <th>4</th>\n",
       "      <td>0</td>\n",
       "      <td>60</td>\n",
       "      <td>549</td>\n",
       "      <td>1</td>\n",
       "      <td>5</td>\n",
       "      <td>12</td>\n",
       "      <td>59</td>\n",
       "      <td>4</td>\n",
       "      <td>30</td>\n",
       "      <td>293</td>\n",
       "      <td>3</td>\n",
       "    </tr>\n",
       "    <tr>\n",
       "      <th>...</th>\n",
       "      <td>...</td>\n",
       "      <td>...</td>\n",
       "      <td>...</td>\n",
       "      <td>...</td>\n",
       "      <td>...</td>\n",
       "      <td>...</td>\n",
       "      <td>...</td>\n",
       "      <td>...</td>\n",
       "      <td>...</td>\n",
       "      <td>...</td>\n",
       "      <td>...</td>\n",
       "    </tr>\n",
       "    <tr>\n",
       "      <th>7782</th>\n",
       "      <td>0</td>\n",
       "      <td>7749</td>\n",
       "      <td>429</td>\n",
       "      <td>19</td>\n",
       "      <td>11</td>\n",
       "      <td>12</td>\n",
       "      <td>56</td>\n",
       "      <td>8</td>\n",
       "      <td>215</td>\n",
       "      <td>309</td>\n",
       "      <td>0</td>\n",
       "    </tr>\n",
       "    <tr>\n",
       "      <th>7783</th>\n",
       "      <td>0</td>\n",
       "      <td>7751</td>\n",
       "      <td>229</td>\n",
       "      <td>2</td>\n",
       "      <td>8</td>\n",
       "      <td>11</td>\n",
       "      <td>66</td>\n",
       "      <td>6</td>\n",
       "      <td>16</td>\n",
       "      <td>311</td>\n",
       "      <td>3</td>\n",
       "    </tr>\n",
       "    <tr>\n",
       "      <th>7784</th>\n",
       "      <td>0</td>\n",
       "      <td>7752</td>\n",
       "      <td>549</td>\n",
       "      <td>25</td>\n",
       "      <td>12</td>\n",
       "      <td>12</td>\n",
       "      <td>70</td>\n",
       "      <td>8</td>\n",
       "      <td>152</td>\n",
       "      <td>268</td>\n",
       "      <td>0</td>\n",
       "    </tr>\n",
       "    <tr>\n",
       "      <th>7785</th>\n",
       "      <td>1</td>\n",
       "      <td>7753</td>\n",
       "      <td>12</td>\n",
       "      <td>31</td>\n",
       "      <td>11</td>\n",
       "      <td>12</td>\n",
       "      <td>70</td>\n",
       "      <td>9</td>\n",
       "      <td>0</td>\n",
       "      <td>367</td>\n",
       "      <td>2</td>\n",
       "    </tr>\n",
       "    <tr>\n",
       "      <th>7786</th>\n",
       "      <td>0</td>\n",
       "      <td>7724</td>\n",
       "      <td>473</td>\n",
       "      <td>1</td>\n",
       "      <td>8</td>\n",
       "      <td>12</td>\n",
       "      <td>70</td>\n",
       "      <td>8</td>\n",
       "      <td>206</td>\n",
       "      <td>272</td>\n",
       "      <td>0</td>\n",
       "    </tr>\n",
       "  </tbody>\n",
       "</table>\n",
       "<p>7777 rows × 11 columns</p>\n",
       "</div>"
      ],
      "text/plain": [
       "      type_enc  title_enc  country_enc date_added_dates  month_added_enc  \\\n",
       "0            1         82           39               14                2   \n",
       "1            0        124          308               23                3   \n",
       "2            0         67          379               20                3   \n",
       "3            0        126          549               16               10   \n",
       "4            0         60          549                1                5   \n",
       "...        ...        ...          ...              ...              ...   \n",
       "7782         0       7749          429               19               11   \n",
       "7783         0       7751          229                2                8   \n",
       "7784         0       7752          549               25               12   \n",
       "7785         1       7753           12               31               11   \n",
       "7786         0       7724          473                1                8   \n",
       "\n",
       "      year_added_enc  release_year_enc  rating_enc  duration_enc  \\\n",
       "0                 12                71           8           147   \n",
       "1                  8                67           8           209   \n",
       "2                 10                62           5           190   \n",
       "3                  9                60           4           194   \n",
       "4                 12                59           4            30   \n",
       "...              ...               ...         ...           ...   \n",
       "7782              12                56           8           215   \n",
       "7783              11                66           6            16   \n",
       "7784              12                70           8           152   \n",
       "7785              12                70           9             0   \n",
       "7786              12                70           8           206   \n",
       "\n",
       "      listed_in_enc  target_ages_enc  \n",
       "0               397                0  \n",
       "1               309                0  \n",
       "2               335                0  \n",
       "3                47                3  \n",
       "4               293                3  \n",
       "...             ...              ...  \n",
       "7782            309                0  \n",
       "7783            311                3  \n",
       "7784            268                0  \n",
       "7785            367                2  \n",
       "7786            272                0  \n",
       "\n",
       "[7777 rows x 11 columns]"
      ]
     },
     "execution_count": 75,
     "metadata": {},
     "output_type": "execute_result"
    }
   ],
   "source": [
    "df"
   ]
  },
  {
   "cell_type": "markdown",
   "id": "loving-admission",
   "metadata": {
    "id": "qKeCFZ0BQ12S",
    "papermill": {
     "duration": 0.133783,
     "end_time": "2021-06-30T02:51:51.702783",
     "exception": false,
     "start_time": "2021-06-30T02:51:51.569000",
     "status": "completed"
    },
    "tags": []
   },
   "source": [
    "Quasi Constant Removal"
   ]
  },
  {
   "cell_type": "code",
   "execution_count": 76,
   "id": "irish-encyclopedia",
   "metadata": {
    "execution": {
     "iopub.execute_input": "2021-06-30T02:51:51.974951Z",
     "iopub.status.busy": "2021-06-30T02:51:51.974242Z",
     "iopub.status.idle": "2021-06-30T02:51:52.254321Z",
     "shell.execute_reply": "2021-06-30T02:51:52.252557Z",
     "shell.execute_reply.started": "2021-06-30T02:48:25.495146Z"
    },
    "id": "KsUTHRoPPHvL",
    "papermill": {
     "duration": 0.417331,
     "end_time": "2021-06-30T02:51:52.254512",
     "exception": false,
     "start_time": "2021-06-30T02:51:51.837181",
     "status": "completed"
    },
    "tags": []
   },
   "outputs": [],
   "source": [
    "from sklearn.feature_selection import VarianceThreshold"
   ]
  },
  {
   "cell_type": "code",
   "execution_count": 77,
   "id": "improved-pantyhose",
   "metadata": {
    "execution": {
     "iopub.execute_input": "2021-06-30T02:51:52.537845Z",
     "iopub.status.busy": "2021-06-30T02:51:52.537114Z",
     "iopub.status.idle": "2021-06-30T02:51:52.554641Z",
     "shell.execute_reply": "2021-06-30T02:51:52.553975Z",
     "shell.execute_reply.started": "2021-06-30T02:48:25.506321Z"
    },
    "id": "LYeD16JtQ5jw",
    "papermill": {
     "duration": 0.162459,
     "end_time": "2021-06-30T02:51:52.554785",
     "exception": false,
     "start_time": "2021-06-30T02:51:52.392326",
     "status": "completed"
    },
    "tags": []
   },
   "outputs": [],
   "source": [
    "constant_filter = VarianceThreshold(threshold=0)\n",
    "constant_filter.fit(df)\n",
    "\n",
    "len(df.columns[constant_filter.get_support()])\n",
    "\n",
    "constant_columns = [column for column in df.columns\n",
    "                    if column not in df.columns[constant_filter.get_support()]]\n",
    "\n",
    "df.drop(labels=constant_columns, axis=1, inplace=True)"
   ]
  },
  {
   "cell_type": "code",
   "execution_count": 78,
   "id": "reflected-patient",
   "metadata": {
    "execution": {
     "iopub.execute_input": "2021-06-30T02:51:52.846767Z",
     "iopub.status.busy": "2021-06-30T02:51:52.846109Z",
     "iopub.status.idle": "2021-06-30T02:51:52.855721Z",
     "shell.execute_reply": "2021-06-30T02:51:52.855085Z",
     "shell.execute_reply.started": "2021-06-30T02:48:25.530637Z"
    },
    "id": "TtHieGMvRKsv",
    "outputId": "b94b6861-07a2-4b22-e4c2-17a1777f6264",
    "papermill": {
     "duration": 0.157989,
     "end_time": "2021-06-30T02:51:52.855860",
     "exception": false,
     "start_time": "2021-06-30T02:51:52.697871",
     "status": "completed"
    },
    "tags": []
   },
   "outputs": [
    {
     "data": {
      "text/html": [
       "<div>\n",
       "<style scoped>\n",
       "    .dataframe tbody tr th:only-of-type {\n",
       "        vertical-align: middle;\n",
       "    }\n",
       "\n",
       "    .dataframe tbody tr th {\n",
       "        vertical-align: top;\n",
       "    }\n",
       "\n",
       "    .dataframe thead th {\n",
       "        text-align: right;\n",
       "    }\n",
       "</style>\n",
       "<table border=\"1\" class=\"dataframe\">\n",
       "  <thead>\n",
       "    <tr style=\"text-align: right;\">\n",
       "      <th></th>\n",
       "      <th>type_enc</th>\n",
       "      <th>title_enc</th>\n",
       "      <th>country_enc</th>\n",
       "      <th>date_added_dates</th>\n",
       "      <th>month_added_enc</th>\n",
       "      <th>year_added_enc</th>\n",
       "      <th>release_year_enc</th>\n",
       "      <th>rating_enc</th>\n",
       "      <th>duration_enc</th>\n",
       "      <th>listed_in_enc</th>\n",
       "      <th>target_ages_enc</th>\n",
       "    </tr>\n",
       "  </thead>\n",
       "  <tbody>\n",
       "    <tr>\n",
       "      <th>0</th>\n",
       "      <td>1</td>\n",
       "      <td>82</td>\n",
       "      <td>39</td>\n",
       "      <td>14</td>\n",
       "      <td>2</td>\n",
       "      <td>12</td>\n",
       "      <td>71</td>\n",
       "      <td>8</td>\n",
       "      <td>147</td>\n",
       "      <td>397</td>\n",
       "      <td>0</td>\n",
       "    </tr>\n",
       "    <tr>\n",
       "      <th>1</th>\n",
       "      <td>0</td>\n",
       "      <td>124</td>\n",
       "      <td>308</td>\n",
       "      <td>23</td>\n",
       "      <td>3</td>\n",
       "      <td>8</td>\n",
       "      <td>67</td>\n",
       "      <td>8</td>\n",
       "      <td>209</td>\n",
       "      <td>309</td>\n",
       "      <td>0</td>\n",
       "    </tr>\n",
       "    <tr>\n",
       "      <th>2</th>\n",
       "      <td>0</td>\n",
       "      <td>67</td>\n",
       "      <td>379</td>\n",
       "      <td>20</td>\n",
       "      <td>3</td>\n",
       "      <td>10</td>\n",
       "      <td>62</td>\n",
       "      <td>5</td>\n",
       "      <td>190</td>\n",
       "      <td>335</td>\n",
       "      <td>0</td>\n",
       "    </tr>\n",
       "    <tr>\n",
       "      <th>3</th>\n",
       "      <td>0</td>\n",
       "      <td>126</td>\n",
       "      <td>549</td>\n",
       "      <td>16</td>\n",
       "      <td>10</td>\n",
       "      <td>9</td>\n",
       "      <td>60</td>\n",
       "      <td>4</td>\n",
       "      <td>194</td>\n",
       "      <td>47</td>\n",
       "      <td>3</td>\n",
       "    </tr>\n",
       "    <tr>\n",
       "      <th>4</th>\n",
       "      <td>0</td>\n",
       "      <td>60</td>\n",
       "      <td>549</td>\n",
       "      <td>1</td>\n",
       "      <td>5</td>\n",
       "      <td>12</td>\n",
       "      <td>59</td>\n",
       "      <td>4</td>\n",
       "      <td>30</td>\n",
       "      <td>293</td>\n",
       "      <td>3</td>\n",
       "    </tr>\n",
       "    <tr>\n",
       "      <th>...</th>\n",
       "      <td>...</td>\n",
       "      <td>...</td>\n",
       "      <td>...</td>\n",
       "      <td>...</td>\n",
       "      <td>...</td>\n",
       "      <td>...</td>\n",
       "      <td>...</td>\n",
       "      <td>...</td>\n",
       "      <td>...</td>\n",
       "      <td>...</td>\n",
       "      <td>...</td>\n",
       "    </tr>\n",
       "    <tr>\n",
       "      <th>7782</th>\n",
       "      <td>0</td>\n",
       "      <td>7749</td>\n",
       "      <td>429</td>\n",
       "      <td>19</td>\n",
       "      <td>11</td>\n",
       "      <td>12</td>\n",
       "      <td>56</td>\n",
       "      <td>8</td>\n",
       "      <td>215</td>\n",
       "      <td>309</td>\n",
       "      <td>0</td>\n",
       "    </tr>\n",
       "    <tr>\n",
       "      <th>7783</th>\n",
       "      <td>0</td>\n",
       "      <td>7751</td>\n",
       "      <td>229</td>\n",
       "      <td>2</td>\n",
       "      <td>8</td>\n",
       "      <td>11</td>\n",
       "      <td>66</td>\n",
       "      <td>6</td>\n",
       "      <td>16</td>\n",
       "      <td>311</td>\n",
       "      <td>3</td>\n",
       "    </tr>\n",
       "    <tr>\n",
       "      <th>7784</th>\n",
       "      <td>0</td>\n",
       "      <td>7752</td>\n",
       "      <td>549</td>\n",
       "      <td>25</td>\n",
       "      <td>12</td>\n",
       "      <td>12</td>\n",
       "      <td>70</td>\n",
       "      <td>8</td>\n",
       "      <td>152</td>\n",
       "      <td>268</td>\n",
       "      <td>0</td>\n",
       "    </tr>\n",
       "    <tr>\n",
       "      <th>7785</th>\n",
       "      <td>1</td>\n",
       "      <td>7753</td>\n",
       "      <td>12</td>\n",
       "      <td>31</td>\n",
       "      <td>11</td>\n",
       "      <td>12</td>\n",
       "      <td>70</td>\n",
       "      <td>9</td>\n",
       "      <td>0</td>\n",
       "      <td>367</td>\n",
       "      <td>2</td>\n",
       "    </tr>\n",
       "    <tr>\n",
       "      <th>7786</th>\n",
       "      <td>0</td>\n",
       "      <td>7724</td>\n",
       "      <td>473</td>\n",
       "      <td>1</td>\n",
       "      <td>8</td>\n",
       "      <td>12</td>\n",
       "      <td>70</td>\n",
       "      <td>8</td>\n",
       "      <td>206</td>\n",
       "      <td>272</td>\n",
       "      <td>0</td>\n",
       "    </tr>\n",
       "  </tbody>\n",
       "</table>\n",
       "<p>7777 rows × 11 columns</p>\n",
       "</div>"
      ],
      "text/plain": [
       "      type_enc  title_enc  country_enc date_added_dates  month_added_enc  \\\n",
       "0            1         82           39               14                2   \n",
       "1            0        124          308               23                3   \n",
       "2            0         67          379               20                3   \n",
       "3            0        126          549               16               10   \n",
       "4            0         60          549                1                5   \n",
       "...        ...        ...          ...              ...              ...   \n",
       "7782         0       7749          429               19               11   \n",
       "7783         0       7751          229                2                8   \n",
       "7784         0       7752          549               25               12   \n",
       "7785         1       7753           12               31               11   \n",
       "7786         0       7724          473                1                8   \n",
       "\n",
       "      year_added_enc  release_year_enc  rating_enc  duration_enc  \\\n",
       "0                 12                71           8           147   \n",
       "1                  8                67           8           209   \n",
       "2                 10                62           5           190   \n",
       "3                  9                60           4           194   \n",
       "4                 12                59           4            30   \n",
       "...              ...               ...         ...           ...   \n",
       "7782              12                56           8           215   \n",
       "7783              11                66           6            16   \n",
       "7784              12                70           8           152   \n",
       "7785              12                70           9             0   \n",
       "7786              12                70           8           206   \n",
       "\n",
       "      listed_in_enc  target_ages_enc  \n",
       "0               397                0  \n",
       "1               309                0  \n",
       "2               335                0  \n",
       "3                47                3  \n",
       "4               293                3  \n",
       "...             ...              ...  \n",
       "7782            309                0  \n",
       "7783            311                3  \n",
       "7784            268                0  \n",
       "7785            367                2  \n",
       "7786            272                0  \n",
       "\n",
       "[7777 rows x 11 columns]"
      ]
     },
     "execution_count": 78,
     "metadata": {},
     "output_type": "execute_result"
    }
   ],
   "source": [
    "df"
   ]
  },
  {
   "cell_type": "code",
   "execution_count": 79,
   "id": "hindu-haven",
   "metadata": {
    "execution": {
     "iopub.execute_input": "2021-06-30T02:51:53.134647Z",
     "iopub.status.busy": "2021-06-30T02:51:53.133926Z",
     "iopub.status.idle": "2021-06-30T02:51:53.152450Z",
     "shell.execute_reply": "2021-06-30T02:51:53.151787Z",
     "shell.execute_reply.started": "2021-06-30T02:48:25.552042Z"
    },
    "id": "M2A7F0svRPbp",
    "outputId": "52d44ab9-953c-4d22-e4bb-d361a885c254",
    "papermill": {
     "duration": 0.161882,
     "end_time": "2021-06-30T02:51:53.152592",
     "exception": false,
     "start_time": "2021-06-30T02:51:52.990710",
     "status": "completed"
    },
    "tags": []
   },
   "outputs": [
    {
     "data": {
      "text/plain": [
       "VarianceThreshold(threshold=0.16)"
      ]
     },
     "execution_count": 79,
     "metadata": {},
     "output_type": "execute_result"
    }
   ],
   "source": [
    "qconstant_filter = VarianceThreshold(threshold=0.16)\n",
    "qconstant_filter.fit(df)"
   ]
  },
  {
   "cell_type": "code",
   "execution_count": 80,
   "id": "modified-assignment",
   "metadata": {
    "execution": {
     "iopub.execute_input": "2021-06-30T02:51:53.427853Z",
     "iopub.status.busy": "2021-06-30T02:51:53.427153Z",
     "iopub.status.idle": "2021-06-30T02:51:53.430814Z",
     "shell.execute_reply": "2021-06-30T02:51:53.431329Z",
     "shell.execute_reply.started": "2021-06-30T02:48:25.652467Z"
    },
    "id": "XOui2CQ3RWMw",
    "outputId": "ab56d9da-1288-4f5e-a309-89acb3570a1d",
    "papermill": {
     "duration": 0.14433,
     "end_time": "2021-06-30T02:51:53.431502",
     "exception": false,
     "start_time": "2021-06-30T02:51:53.287172",
     "status": "completed"
    },
    "tags": []
   },
   "outputs": [
    {
     "data": {
      "text/plain": [
       "11"
      ]
     },
     "execution_count": 80,
     "metadata": {},
     "output_type": "execute_result"
    }
   ],
   "source": [
    "len(df.columns[qconstant_filter.get_support()])"
   ]
  },
  {
   "cell_type": "code",
   "execution_count": 81,
   "id": "mathematical-celebration",
   "metadata": {
    "execution": {
     "iopub.execute_input": "2021-06-30T02:51:53.707797Z",
     "iopub.status.busy": "2021-06-30T02:51:53.707026Z",
     "iopub.status.idle": "2021-06-30T02:51:53.710057Z",
     "shell.execute_reply": "2021-06-30T02:51:53.710582Z",
     "shell.execute_reply.started": "2021-06-30T02:48:25.663344Z"
    },
    "id": "XpMe0r4JRaZA",
    "outputId": "b336f7f1-e190-4057-8b3d-3fd589e434d7",
    "papermill": {
     "duration": 0.144949,
     "end_time": "2021-06-30T02:51:53.710752",
     "exception": false,
     "start_time": "2021-06-30T02:51:53.565803",
     "status": "completed"
    },
    "tags": []
   },
   "outputs": [
    {
     "name": "stdout",
     "output_type": "stream",
     "text": [
      "0\n"
     ]
    }
   ],
   "source": [
    "qconstant_columns = [column for column in df.columns\n",
    "                    if column not in df.columns[qconstant_filter.get_support()]]\n",
    "\n",
    "print(len(qconstant_columns))"
   ]
  },
  {
   "cell_type": "markdown",
   "id": "ethical-boulder",
   "metadata": {
    "id": "NlGVb-zfRq5E",
    "papermill": {
     "duration": 0.136774,
     "end_time": "2021-06-30T02:51:53.983901",
     "exception": false,
     "start_time": "2021-06-30T02:51:53.847127",
     "status": "completed"
    },
    "tags": []
   },
   "source": [
    "##Feature Selection"
   ]
  },
  {
   "cell_type": "code",
   "execution_count": 82,
   "id": "curious-binary",
   "metadata": {
    "execution": {
     "iopub.execute_input": "2021-06-30T02:51:54.287958Z",
     "iopub.status.busy": "2021-06-30T02:51:54.287244Z",
     "iopub.status.idle": "2021-06-30T02:51:54.674545Z",
     "shell.execute_reply": "2021-06-30T02:51:54.675087Z",
     "shell.execute_reply.started": "2021-06-30T02:48:25.679177Z"
    },
    "id": "JTuHS27pRlWD",
    "outputId": "1c6165f6-c5d3-4bb8-ad3e-2450537bd2ac",
    "papermill": {
     "duration": 0.547156,
     "end_time": "2021-06-30T02:51:54.675268",
     "exception": false,
     "start_time": "2021-06-30T02:51:54.128112",
     "status": "completed"
    },
    "tags": []
   },
   "outputs": [
    {
     "data": {
      "text/plain": [
       "<AxesSubplot:>"
      ]
     },
     "execution_count": 82,
     "metadata": {},
     "output_type": "execute_result"
    },
    {
     "data": {
      "image/png": "[encoded data removed]",
      "text/plain": [
       "<Figure size 864x720 with 2 Axes>"
      ]
     },
     "metadata": {},
     "output_type": "display_data"
    }
   ],
   "source": [
    "corrmat = df.corr()\n",
    "plt.subplots(figsize=(12,10))\n",
    "sns.heatmap(corrmat)"
   ]
  },
  {
   "cell_type": "code",
   "execution_count": 83,
   "id": "traditional-darwin",
   "metadata": {
    "execution": {
     "iopub.execute_input": "2021-06-30T02:51:54.953178Z",
     "iopub.status.busy": "2021-06-30T02:51:54.952482Z",
     "iopub.status.idle": "2021-06-30T02:51:55.814611Z",
     "shell.execute_reply": "2021-06-30T02:51:55.813982Z",
     "shell.execute_reply.started": "2021-06-30T02:48:26.160896Z"
    },
    "id": "Weklw7iNRweO",
    "outputId": "c0b6a1ec-4e6e-4dae-d40d-f9b54cfb164d",
    "papermill": {
     "duration": 1.001791,
     "end_time": "2021-06-30T02:51:55.814751",
     "exception": false,
     "start_time": "2021-06-30T02:51:54.812960",
     "status": "completed"
    },
    "tags": []
   },
   "outputs": [
    {
     "data": {
      "text/plain": [
       "<AxesSubplot:>"
      ]
     },
     "execution_count": 83,
     "metadata": {},
     "output_type": "execute_result"
    },
    {
     "data": {
      "image/png": "[encoded data removed]",
      "text/plain": [
       "<Figure size 1080x1008 with 2 Axes>"
      ]
     },
     "metadata": {},
     "output_type": "display_data"
    }
   ],
   "source": [
    "colormap = plt.cm.RdBu\n",
    "plt.subplots(figsize=(15,14))\n",
    "sns.heatmap(df.corr(), linewidths=0.1, vmax=1.0, square=True, cmap=colormap, linecolor='black' , annot=True)"
   ]
  },
  {
   "cell_type": "code",
   "execution_count": 84,
   "id": "younger-canon",
   "metadata": {
    "execution": {
     "iopub.execute_input": "2021-06-30T02:51:56.103502Z",
     "iopub.status.busy": "2021-06-30T02:51:56.102545Z",
     "iopub.status.idle": "2021-06-30T02:51:56.108885Z",
     "shell.execute_reply": "2021-06-30T02:51:56.109561Z",
     "shell.execute_reply.started": "2021-06-30T02:48:27.016229Z"
    },
    "id": "nEp2Mi0iR8TW",
    "papermill": {
     "duration": 0.152274,
     "end_time": "2021-06-30T02:51:56.109751",
     "exception": false,
     "start_time": "2021-06-30T02:51:55.957477",
     "status": "completed"
    },
    "tags": []
   },
   "outputs": [],
   "source": [
    "def correlation(dataset, threshold):\n",
    "    col_corr = set() # Set of all the names of deleted columns\n",
    "    corr_matrix = dataset.corr()\n",
    "    for i in range(len(corr_matrix.columns)):\n",
    "        for j in range(i):\n",
    "            if  (corr_matrix.iloc[i, j] >= threshold) :\n",
    "                colname = corr_matrix.columns[i] # getting the name of column\n",
    "                col_corr.add(colname)\n",
    "    return col_corr\n"
   ]
  },
  {
   "cell_type": "code",
   "execution_count": 85,
   "id": "dedicated-active",
   "metadata": {
    "execution": {
     "iopub.execute_input": "2021-06-30T02:51:56.394296Z",
     "iopub.status.busy": "2021-06-30T02:51:56.393330Z",
     "iopub.status.idle": "2021-06-30T02:51:56.405493Z",
     "shell.execute_reply": "2021-06-30T02:51:56.404882Z",
     "shell.execute_reply.started": "2021-06-30T02:48:27.023880Z"
    },
    "id": "lteKfi0cSPs4",
    "outputId": "d18cb99b-6fd4-428d-ac3a-bfc712d5f319",
    "papermill": {
     "duration": 0.155608,
     "end_time": "2021-06-30T02:51:56.405650",
     "exception": false,
     "start_time": "2021-06-30T02:51:56.250042",
     "status": "completed"
    },
    "tags": []
   },
   "outputs": [
    {
     "data": {
      "text/plain": [
       "0"
      ]
     },
     "execution_count": 85,
     "metadata": {},
     "output_type": "execute_result"
    }
   ],
   "source": [
    "corr_features = correlation(df , 0.8)\n",
    "len(set(corr_features))"
   ]
  },
  {
   "cell_type": "code",
   "execution_count": 86,
   "id": "interstate-pattern",
   "metadata": {
    "execution": {
     "iopub.execute_input": "2021-06-30T02:51:56.690526Z",
     "iopub.status.busy": "2021-06-30T02:51:56.689452Z",
     "iopub.status.idle": "2021-06-30T02:51:56.714268Z",
     "shell.execute_reply": "2021-06-30T02:51:56.713698Z",
     "shell.execute_reply.started": "2021-06-30T02:48:27.047539Z"
    },
    "id": "dQdmPzEgSeOM",
    "outputId": "d30b4ae9-470c-4ebe-c8ec-e46c7e01a5e8",
    "papermill": {
     "duration": 0.168129,
     "end_time": "2021-06-30T02:51:56.714423",
     "exception": false,
     "start_time": "2021-06-30T02:51:56.546294",
     "status": "completed"
    },
    "tags": []
   },
   "outputs": [
    {
     "data": {
      "text/html": [
       "<div>\n",
       "<style scoped>\n",
       "    .dataframe tbody tr th:only-of-type {\n",
       "        vertical-align: middle;\n",
       "    }\n",
       "\n",
       "    .dataframe tbody tr th {\n",
       "        vertical-align: top;\n",
       "    }\n",
       "\n",
       "    .dataframe thead th {\n",
       "        text-align: right;\n",
       "    }\n",
       "</style>\n",
       "<table border=\"1\" class=\"dataframe\">\n",
       "  <thead>\n",
       "    <tr style=\"text-align: right;\">\n",
       "      <th></th>\n",
       "      <th>type_enc</th>\n",
       "      <th>title_enc</th>\n",
       "      <th>country_enc</th>\n",
       "      <th>month_added_enc</th>\n",
       "      <th>year_added_enc</th>\n",
       "      <th>release_year_enc</th>\n",
       "      <th>rating_enc</th>\n",
       "      <th>duration_enc</th>\n",
       "      <th>listed_in_enc</th>\n",
       "      <th>target_ages_enc</th>\n",
       "    </tr>\n",
       "  </thead>\n",
       "  <tbody>\n",
       "    <tr>\n",
       "      <th>type_enc</th>\n",
       "      <td>0.213394</td>\n",
       "      <td>2.692876e+01</td>\n",
       "      <td>3.956498</td>\n",
       "      <td>-0.052400</td>\n",
       "      <td>0.009374</td>\n",
       "      <td>0.700350</td>\n",
       "      <td>0.259921</td>\n",
       "      <td>-15.468720</td>\n",
       "      <td>17.437488</td>\n",
       "      <td>0.005613</td>\n",
       "    </tr>\n",
       "    <tr>\n",
       "      <th>title_enc</th>\n",
       "      <td>26.928755</td>\n",
       "      <td>5.040792e+06</td>\n",
       "      <td>5996.277521</td>\n",
       "      <td>138.957819</td>\n",
       "      <td>37.022891</td>\n",
       "      <td>-468.077289</td>\n",
       "      <td>-36.989198</td>\n",
       "      <td>-4634.270319</td>\n",
       "      <td>4269.469264</td>\n",
       "      <td>4.607124</td>\n",
       "    </tr>\n",
       "    <tr>\n",
       "      <th>country_enc</th>\n",
       "      <td>3.956498</td>\n",
       "      <td>5.996278e+03</td>\n",
       "      <td>30662.369370</td>\n",
       "      <td>8.045881</td>\n",
       "      <td>-0.907739</td>\n",
       "      <td>-29.090083</td>\n",
       "      <td>-25.259512</td>\n",
       "      <td>1520.632053</td>\n",
       "      <td>1376.593334</td>\n",
       "      <td>-11.063128</td>\n",
       "    </tr>\n",
       "    <tr>\n",
       "      <th>month_added_enc</th>\n",
       "      <td>-0.052400</td>\n",
       "      <td>1.389578e+02</td>\n",
       "      <td>8.045881</td>\n",
       "      <td>12.496946</td>\n",
       "      <td>-0.057773</td>\n",
       "      <td>-0.018639</td>\n",
       "      <td>0.038379</td>\n",
       "      <td>-3.130510</td>\n",
       "      <td>-6.845807</td>\n",
       "      <td>-0.016326</td>\n",
       "    </tr>\n",
       "    <tr>\n",
       "      <th>year_added_enc</th>\n",
       "      <td>0.009374</td>\n",
       "      <td>3.702289e+01</td>\n",
       "      <td>-0.907739</td>\n",
       "      <td>-0.057773</td>\n",
       "      <td>1.926943</td>\n",
       "      <td>1.203157</td>\n",
       "      <td>-0.194602</td>\n",
       "      <td>-9.563391</td>\n",
       "      <td>-10.495443</td>\n",
       "      <td>0.011566</td>\n",
       "    </tr>\n",
       "    <tr>\n",
       "      <th>release_year_enc</th>\n",
       "      <td>0.700350</td>\n",
       "      <td>-4.680773e+02</td>\n",
       "      <td>-29.090083</td>\n",
       "      <td>-0.018639</td>\n",
       "      <td>1.203157</td>\n",
       "      <td>74.060846</td>\n",
       "      <td>3.978009</td>\n",
       "      <td>-2.393014</td>\n",
       "      <td>211.092180</td>\n",
       "      <td>-1.595819</td>\n",
       "    </tr>\n",
       "    <tr>\n",
       "      <th>rating_enc</th>\n",
       "      <td>0.259921</td>\n",
       "      <td>-3.698920e+01</td>\n",
       "      <td>-25.259512</td>\n",
       "      <td>0.038379</td>\n",
       "      <td>-0.194602</td>\n",
       "      <td>3.978009</td>\n",
       "      <td>3.772875</td>\n",
       "      <td>-6.332255</td>\n",
       "      <td>51.308285</td>\n",
       "      <td>-0.730428</td>\n",
       "    </tr>\n",
       "    <tr>\n",
       "      <th>duration_enc</th>\n",
       "      <td>-15.468720</td>\n",
       "      <td>-4.634270e+03</td>\n",
       "      <td>1520.632053</td>\n",
       "      <td>-3.130510</td>\n",
       "      <td>-9.563391</td>\n",
       "      <td>-2.393014</td>\n",
       "      <td>-6.332255</td>\n",
       "      <td>7434.084351</td>\n",
       "      <td>-475.827982</td>\n",
       "      <td>-8.401468</td>\n",
       "    </tr>\n",
       "    <tr>\n",
       "      <th>listed_in_enc</th>\n",
       "      <td>17.437488</td>\n",
       "      <td>4.269469e+03</td>\n",
       "      <td>1376.593334</td>\n",
       "      <td>-6.845807</td>\n",
       "      <td>-10.495443</td>\n",
       "      <td>211.092180</td>\n",
       "      <td>51.308285</td>\n",
       "      <td>-475.827982</td>\n",
       "      <td>15651.904872</td>\n",
       "      <td>-15.557151</td>\n",
       "    </tr>\n",
       "    <tr>\n",
       "      <th>target_ages_enc</th>\n",
       "      <td>0.005613</td>\n",
       "      <td>4.607124e+00</td>\n",
       "      <td>-11.063128</td>\n",
       "      <td>-0.016326</td>\n",
       "      <td>0.011566</td>\n",
       "      <td>-1.595819</td>\n",
       "      <td>-0.730428</td>\n",
       "      <td>-8.401468</td>\n",
       "      <td>-15.557151</td>\n",
       "      <td>1.737182</td>\n",
       "    </tr>\n",
       "  </tbody>\n",
       "</table>\n",
       "</div>"
      ],
      "text/plain": [
       "                   type_enc     title_enc   country_enc  month_added_enc  \\\n",
       "type_enc           0.213394  2.692876e+01      3.956498        -0.052400   \n",
       "title_enc         26.928755  5.040792e+06   5996.277521       138.957819   \n",
       "country_enc        3.956498  5.996278e+03  30662.369370         8.045881   \n",
       "month_added_enc   -0.052400  1.389578e+02      8.045881        12.496946   \n",
       "year_added_enc     0.009374  3.702289e+01     -0.907739        -0.057773   \n",
       "release_year_enc   0.700350 -4.680773e+02    -29.090083        -0.018639   \n",
       "rating_enc         0.259921 -3.698920e+01    -25.259512         0.038379   \n",
       "duration_enc     -15.468720 -4.634270e+03   1520.632053        -3.130510   \n",
       "listed_in_enc     17.437488  4.269469e+03   1376.593334        -6.845807   \n",
       "target_ages_enc    0.005613  4.607124e+00    -11.063128        -0.016326   \n",
       "\n",
       "                  year_added_enc  release_year_enc  rating_enc  duration_enc  \\\n",
       "type_enc                0.009374          0.700350    0.259921    -15.468720   \n",
       "title_enc              37.022891       -468.077289  -36.989198  -4634.270319   \n",
       "country_enc            -0.907739        -29.090083  -25.259512   1520.632053   \n",
       "month_added_enc        -0.057773         -0.018639    0.038379     -3.130510   \n",
       "year_added_enc          1.926943          1.203157   -0.194602     -9.563391   \n",
       "release_year_enc        1.203157         74.060846    3.978009     -2.393014   \n",
       "rating_enc             -0.194602          3.978009    3.772875     -6.332255   \n",
       "duration_enc           -9.563391         -2.393014   -6.332255   7434.084351   \n",
       "listed_in_enc         -10.495443        211.092180   51.308285   -475.827982   \n",
       "target_ages_enc         0.011566         -1.595819   -0.730428     -8.401468   \n",
       "\n",
       "                  listed_in_enc  target_ages_enc  \n",
       "type_enc              17.437488         0.005613  \n",
       "title_enc           4269.469264         4.607124  \n",
       "country_enc         1376.593334       -11.063128  \n",
       "month_added_enc       -6.845807        -0.016326  \n",
       "year_added_enc       -10.495443         0.011566  \n",
       "release_year_enc     211.092180        -1.595819  \n",
       "rating_enc            51.308285        -0.730428  \n",
       "duration_enc        -475.827982        -8.401468  \n",
       "listed_in_enc      15651.904872       -15.557151  \n",
       "target_ages_enc      -15.557151         1.737182  "
      ]
     },
     "execution_count": 86,
     "metadata": {},
     "output_type": "execute_result"
    }
   ],
   "source": [
    "df.cov()"
   ]
  },
  {
   "cell_type": "code",
   "execution_count": 87,
   "id": "colored-birth",
   "metadata": {
    "execution": {
     "iopub.execute_input": "2021-06-30T02:51:57.008460Z",
     "iopub.status.busy": "2021-06-30T02:51:57.007434Z",
     "iopub.status.idle": "2021-06-30T02:51:57.010793Z",
     "shell.execute_reply": "2021-06-30T02:51:57.010276Z",
     "shell.execute_reply.started": "2021-06-30T02:48:27.070873Z"
    },
    "id": "Bz37JMCuSqjy",
    "papermill": {
     "duration": 0.15233,
     "end_time": "2021-06-30T02:51:57.010952",
     "exception": false,
     "start_time": "2021-06-30T02:51:56.858622",
     "status": "completed"
    },
    "tags": []
   },
   "outputs": [],
   "source": [
    "y = df.iloc[:,[10]] #target column"
   ]
  },
  {
   "cell_type": "code",
   "execution_count": 88,
   "id": "thrown-rotation",
   "metadata": {
    "execution": {
     "iopub.execute_input": "2021-06-30T02:51:57.302107Z",
     "iopub.status.busy": "2021-06-30T02:51:57.301040Z",
     "iopub.status.idle": "2021-06-30T02:51:57.303659Z",
     "shell.execute_reply": "2021-06-30T02:51:57.304177Z",
     "shell.execute_reply.started": "2021-06-30T02:48:27.076928Z"
    },
    "id": "y7effTUuS-mQ",
    "papermill": {
     "duration": 0.15231,
     "end_time": "2021-06-30T02:51:57.304349",
     "exception": false,
     "start_time": "2021-06-30T02:51:57.152039",
     "status": "completed"
    },
    "tags": []
   },
   "outputs": [],
   "source": [
    "df.drop(df.columns[10], axis=1, inplace=True)"
   ]
  },
  {
   "cell_type": "code",
   "execution_count": 89,
   "id": "pretty-insert",
   "metadata": {
    "execution": {
     "iopub.execute_input": "2021-06-30T02:51:57.592992Z",
     "iopub.status.busy": "2021-06-30T02:51:57.591899Z",
     "iopub.status.idle": "2021-06-30T02:51:57.595111Z",
     "shell.execute_reply": "2021-06-30T02:51:57.594473Z",
     "shell.execute_reply.started": "2021-06-30T02:48:27.090914Z"
    },
    "id": "boInywFqTM1g",
    "papermill": {
     "duration": 0.148886,
     "end_time": "2021-06-30T02:51:57.595247",
     "exception": false,
     "start_time": "2021-06-30T02:51:57.446361",
     "status": "completed"
    },
    "tags": []
   },
   "outputs": [],
   "source": [
    "x=df"
   ]
  },
  {
   "cell_type": "markdown",
   "id": "presidential-thomas",
   "metadata": {
    "id": "fLT8eQU5TRoq",
    "papermill": {
     "duration": 0.143517,
     "end_time": "2021-06-30T02:51:57.880428",
     "exception": false,
     "start_time": "2021-06-30T02:51:57.736911",
     "status": "completed"
    },
    "tags": []
   },
   "source": [
    "##Modeling"
   ]
  },
  {
   "cell_type": "code",
   "execution_count": 90,
   "id": "caroline-mobile",
   "metadata": {
    "execution": {
     "iopub.execute_input": "2021-06-30T02:51:58.170905Z",
     "iopub.status.busy": "2021-06-30T02:51:58.170219Z",
     "iopub.status.idle": "2021-06-30T02:51:58.173979Z",
     "shell.execute_reply": "2021-06-30T02:51:58.174464Z",
     "shell.execute_reply.started": "2021-06-30T02:48:27.105509Z"
    },
    "id": "A7SszUfxTN6d",
    "papermill": {
     "duration": 0.151805,
     "end_time": "2021-06-30T02:51:58.174644",
     "exception": false,
     "start_time": "2021-06-30T02:51:58.022839",
     "status": "completed"
    },
    "tags": []
   },
   "outputs": [],
   "source": [
    "from sklearn.model_selection import train_test_split\n",
    "xtr,xts,ytr,yts = train_test_split(x,y,test_size=0.2)"
   ]
  },
  {
   "cell_type": "code",
   "execution_count": 91,
   "id": "liberal-phrase",
   "metadata": {
    "execution": {
     "iopub.execute_input": "2021-06-30T02:51:58.463800Z",
     "iopub.status.busy": "2021-06-30T02:51:58.463181Z",
     "iopub.status.idle": "2021-06-30T02:52:00.317472Z",
     "shell.execute_reply": "2021-06-30T02:52:00.318199Z",
     "shell.execute_reply.started": "2021-06-30T02:48:27.122972Z"
    },
    "id": "EiFRsobtWHFh",
    "outputId": "d3ff2de3-fe37-4446-ee2e-02f0bc5f14a6",
    "papermill": {
     "duration": 2.000897,
     "end_time": "2021-06-30T02:52:00.318455",
     "exception": false,
     "start_time": "2021-06-30T02:51:58.317558",
     "status": "completed"
    },
    "tags": []
   },
   "outputs": [
    {
     "name": "stdout",
     "output_type": "stream",
     "text": [
      "K Nearest Neighbors Top 5 Success Rates is: 50.39%\n"
     ]
    }
   ],
   "source": [
    "from sklearn.neighbors import KNeighborsClassifier\n",
    "from sklearn.metrics import confusion_matrix, accuracy_score\n",
    "list=[]\n",
    "for i in range(1,21):\n",
    "    knn=KNeighborsClassifier(n_neighbors=i)\n",
    "    knn.fit(xtr,ytr)\n",
    "    pred=knn.predict(xts)\n",
    "    res1=accuracy_score(yts,pred)\n",
    "print(\"K Nearest Neighbors Top 5 Success Rates is:\" , \"{:.2f}%\".format(100*res1))"
   ]
  },
  {
   "cell_type": "code",
   "execution_count": 92,
   "id": "honey-cabinet",
   "metadata": {
    "execution": {
     "iopub.execute_input": "2021-06-30T02:52:00.617961Z",
     "iopub.status.busy": "2021-06-30T02:52:00.617206Z",
     "iopub.status.idle": "2021-06-30T02:52:01.495682Z",
     "shell.execute_reply": "2021-06-30T02:52:01.495113Z",
     "shell.execute_reply.started": "2021-06-30T02:48:28.931303Z"
    },
    "id": "WIrjq7eqWUZe",
    "outputId": "d48fbd25-fd03-4b36-e750-9ea98aa992f2",
    "papermill": {
     "duration": 1.029378,
     "end_time": "2021-06-30T02:52:01.495840",
     "exception": false,
     "start_time": "2021-06-30T02:52:00.466462",
     "status": "completed"
    },
    "tags": []
   },
   "outputs": [
    {
     "name": "stdout",
     "output_type": "stream",
     "text": [
      "Random Forest Classifier Success Rate is : 99.49%\n"
     ]
    }
   ],
   "source": [
    "from sklearn.ensemble import RandomForestClassifier\n",
    "rf=RandomForestClassifier()\n",
    "\n",
    "rf.fit(xtr,ytr)\n",
    "pred1=rf.predict(xts)\n",
    "res2=accuracy_score(yts,pred1)\n",
    "print(\"Random Forest Classifier Success Rate is :\", \"{:.2f}%\".format(100*res2))\n"
   ]
  },
  {
   "cell_type": "code",
   "execution_count": 93,
   "id": "technical-glossary",
   "metadata": {
    "execution": {
     "iopub.execute_input": "2021-06-30T02:52:01.788074Z",
     "iopub.status.busy": "2021-06-30T02:52:01.787407Z",
     "iopub.status.idle": "2021-06-30T02:52:01.790778Z",
     "shell.execute_reply": "2021-06-30T02:52:01.790227Z",
     "shell.execute_reply.started": "2021-06-30T02:48:29.684894Z"
    },
    "id": "Ifak6wNKX6zy",
    "papermill": {
     "duration": 0.15127,
     "end_time": "2021-06-30T02:52:01.790925",
     "exception": false,
     "start_time": "2021-06-30T02:52:01.639655",
     "status": "completed"
    },
    "tags": []
   },
   "outputs": [],
   "source": [
    "lst = [res1 , res2]"
   ]
  },
  {
   "cell_type": "code",
   "execution_count": 94,
   "id": "hairy-oregon",
   "metadata": {
    "execution": {
     "iopub.execute_input": "2021-06-30T02:52:02.087001Z",
     "iopub.status.busy": "2021-06-30T02:52:02.086101Z",
     "iopub.status.idle": "2021-06-30T02:52:02.090519Z",
     "shell.execute_reply": "2021-06-30T02:52:02.089946Z",
     "shell.execute_reply.started": "2021-06-30T02:48:29.690074Z"
    },
    "id": "x7loCM9baQbm",
    "outputId": "470f7567-4ff9-482a-eebd-28ce87fab2c7",
    "papermill": {
     "duration": 0.156001,
     "end_time": "2021-06-30T02:52:02.090665",
     "exception": false,
     "start_time": "2021-06-30T02:52:01.934664",
     "status": "completed"
    },
    "tags": []
   },
   "outputs": [
    {
     "data": {
      "text/plain": [
       "[0.5038560411311054, 0.9948586118251928]"
      ]
     },
     "execution_count": 94,
     "metadata": {},
     "output_type": "execute_result"
    }
   ],
   "source": [
    "lst"
   ]
  },
  {
   "cell_type": "code",
   "execution_count": 95,
   "id": "respective-scanning",
   "metadata": {
    "execution": {
     "iopub.execute_input": "2021-06-30T02:52:02.386236Z",
     "iopub.status.busy": "2021-06-30T02:52:02.385527Z",
     "iopub.status.idle": "2021-06-30T02:52:02.389928Z",
     "shell.execute_reply": "2021-06-30T02:52:02.389270Z",
     "shell.execute_reply.started": "2021-06-30T02:48:29.705417Z"
    },
    "id": "bLVF5BwqaRAb",
    "papermill": {
     "duration": 0.155619,
     "end_time": "2021-06-30T02:52:02.390093",
     "exception": false,
     "start_time": "2021-06-30T02:52:02.234474",
     "status": "completed"
    },
    "tags": []
   },
   "outputs": [],
   "source": [
    "lst2 = [\"KNearestNeighbours\" , \"RandomForest\"]"
   ]
  },
  {
   "cell_type": "code",
   "execution_count": 96,
   "id": "confirmed-width",
   "metadata": {
    "execution": {
     "iopub.execute_input": "2021-06-30T02:52:02.689623Z",
     "iopub.status.busy": "2021-06-30T02:52:02.688889Z",
     "iopub.status.idle": "2021-06-30T02:52:02.880925Z",
     "shell.execute_reply": "2021-06-30T02:52:02.880352Z",
     "shell.execute_reply.started": "2021-06-30T02:48:29.715700Z"
    },
    "id": "FLz4QD0Adbl9",
    "outputId": "adc963e7-44c3-4ee6-e9bd-da949c518ac8",
    "papermill": {
     "duration": 0.347534,
     "end_time": "2021-06-30T02:52:02.881088",
     "exception": false,
     "start_time": "2021-06-30T02:52:02.533554",
     "status": "completed"
    },
    "tags": []
   },
   "outputs": [
    {
     "data": {
      "image/png": "[encoded data removed]",
      "text/plain": [
       "<Figure size 1440x576 with 1 Axes>"
      ]
     },
     "metadata": {},
     "output_type": "display_data"
    }
   ],
   "source": [
    "plt.rcParams['figure.figsize']=20,8\n",
    "sns.set_style('darkgrid')\n",
    "ax = sns.barplot(x=lst2, y=lst, palette = \"husl\", saturation =2.0)\n",
    "plt.xlabel('Classifier Models', fontsize = 20 )\n",
    "plt.ylabel('% of Accuracy', fontsize = 20)\n",
    "plt.title('Accuracy of different Classifier Models', fontsize = 20)\n",
    "plt.xticks(fontsize = 12, horizontalalignment = 'center', rotation = 8)\n",
    "plt.yticks(fontsize = 12)\n",
    "for i in ax.patches:\n",
    "    width, height = i.get_width(), i.get_height()\n",
    "    x, y = i.get_xy() \n",
    "    ax.annotate(f'{round(height,2)}%', (x + width/2, y + height*1.02), ha='center', fontsize = 'x-large')\n",
    "plt.show()"
   ]
  },
  {
   "cell_type": "code",
   "execution_count": null,
   "id": "encouraging-personal",
   "metadata": {
    "id": "CXaQGNqPGa7o",
    "papermill": {
     "duration": 0.143379,
     "end_time": "2021-06-30T02:52:03.169826",
     "exception": false,
     "start_time": "2021-06-30T02:52:03.026447",
     "status": "completed"
    },
    "tags": []
   },
   "outputs": [],
   "source": []
  }
 ],
 "metadata": {
  "kernelspec": {
   "display_name": "Python 3 (ipykernel)",
   "language": "python",
   "name": "python3"
  },
  "language_info": {
   "codemirror_mode": {
    "name": "ipython",
    "version": 3
   },
   "file_extension": ".py",
   "mimetype": "text/x-python",
   "name": "python",
   "nbconvert_exporter": "python",
   "pygments_lexer": "ipython3",
   "version": "3.9.7"
  },
  "papermill": {
   "default_parameters": {},
   "duration": 51.922324,
   "end_time": "2021-06-30T02:52:04.226435",
   "environment_variables": {},
   "exception": null,
   "input_path": "__notebook__.ipynb",
   "output_path": "__notebook__.ipynb",
   "parameters": {},
   "start_time": "2021-06-30T02:51:12.304111",
   "version": "2.3.2"
  }
 },
 "nbformat": 4,
 "nbformat_minor": 5
}
